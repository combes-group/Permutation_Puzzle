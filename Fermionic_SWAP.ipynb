{
 "cells": [
  {
   "cell_type": "markdown",
   "id": "1f759dff-214a-4d38-88f2-d89147b59765",
   "metadata": {},
   "source": [
    "# Fermionic permutation puzzle"
   ]
  },
  {
   "cell_type": "code",
   "execution_count": 2,
   "id": "cc7279f3-7304-466e-af74-66914a53f92e",
   "metadata": {},
   "outputs": [],
   "source": [
    "import numpy as np\n",
    "import scipy as sp\n",
    "\n",
    "import matplotlib.pyplot as plt\n",
    "import matplotlib.cm as cm\n"
   ]
  },
  {
   "cell_type": "markdown",
   "id": "b3cfed4c-e801-4692-a55e-11b34ca05fa8",
   "metadata": {},
   "source": [
    "### States"
   ]
  },
  {
   "cell_type": "code",
   "execution_count": 3,
   "id": "66b668d6-7f44-478c-a7bf-c97109f8ec23",
   "metadata": {},
   "outputs": [],
   "source": [
    "zero  = np.array([[1], [0], [0], [0], [0], [0]],dtype=complex)\n",
    "one   = np.array([[0], [1], [0], [0], [0], [0]],dtype=complex)\n",
    "two   = np.array([[0], [0], [1], [0], [0], [0]],dtype=complex)\n",
    "three = np.array([[0], [0], [0], [1], [0], [0]],dtype=complex)\n",
    "four  = np.array([[0], [0], [0], [0], [1], [0]],dtype=complex)\n",
    "five  = np.array([[0], [0], [0], [0], [0], [1]],dtype=complex)"
   ]
  },
  {
   "cell_type": "code",
   "execution_count": null,
   "id": "9b42c9b1-7f42-47fd-b074-44538b657c87",
   "metadata": {},
   "outputs": [],
   "source": []
  },
  {
   "cell_type": "markdown",
   "id": "9450db46-8cd5-4821-baf9-c151d6f6454a",
   "metadata": {},
   "source": [
    "### Permutations"
   ]
  },
  {
   "cell_type": "code",
   "execution_count": 4,
   "id": "8def27ae-f305-4ff3-82d5-7c585dfb656f",
   "metadata": {},
   "outputs": [],
   "source": [
    "SN = - zero@zero.T - one@one.T + five@two.T \\\n",
    "     +four@three.T+three@four.T+ two@five.T\n",
    "\n",
    "SS = - zero@zero.T - one@one.T + five@three.T \\\n",
    "     +four@two.T+two@four.T+ three@five.T\n",
    "\n",
    "SE = - two@two.T - three@three.T + five@one.T \\\n",
    "     +four@zero.T+zero@four.T+ one@five.T\n",
    "\n",
    "SW = - two@two.T - three@three.T + five@zero.T \\\n",
    "     +four@one.T+one@four.T+ zero@five.T\n",
    "\n",
    "Id = zero@zero.T + one@one.T + two@two.T + \\\n",
    "     three@three.T + four@four.T + five@five.T"
   ]
  },
  {
   "cell_type": "code",
   "execution_count": null,
   "id": "70cfdad0-6f2a-43e2-a5bb-d5d7e12a599e",
   "metadata": {},
   "outputs": [],
   "source": []
  },
  {
   "cell_type": "code",
   "execution_count": 5,
   "id": "3dd60040-9595-4d6f-b49e-797e2f16e1be",
   "metadata": {},
   "outputs": [
    {
     "data": {
      "text/plain": [
       "array([[ 0.,  0.,  0.,  0.,  0.,  1.],\n",
       "       [ 0.,  0.,  0.,  0.,  1.,  0.],\n",
       "       [ 0.,  0., -1.,  0.,  0.,  0.],\n",
       "       [ 0.,  0.,  0., -1.,  0.,  0.],\n",
       "       [ 0.,  1.,  0.,  0.,  0.,  0.],\n",
       "       [ 1.,  0.,  0.,  0.,  0.,  0.]])"
      ]
     },
     "execution_count": 5,
     "metadata": {},
     "output_type": "execute_result"
    }
   ],
   "source": [
    "Perms = [SN,SS,SE,SW]\n",
    "np.real(SW)"
   ]
  },
  {
   "cell_type": "code",
   "execution_count": 6,
   "id": "47a4d367-36d7-4a94-8236-320e114d4569",
   "metadata": {},
   "outputs": [],
   "source": [
    "SQRT_SWAP = [(Id + 1j*P)/np.sqrt(2) for P in Perms]"
   ]
  },
  {
   "cell_type": "code",
   "execution_count": 7,
   "id": "22709770-22d5-43cd-8b8f-92c518b1da09",
   "metadata": {},
   "outputs": [
    {
     "data": {
      "text/plain": [
       "array([[0.        +0.j        ],\n",
       "       [0.        +0.j        ],\n",
       "       [0.70710678+0.j        ],\n",
       "       [0.        +0.j        ],\n",
       "       [0.        +0.j        ],\n",
       "       [0.        +0.70710678j]])"
      ]
     },
     "execution_count": 7,
     "metadata": {},
     "output_type": "execute_result"
    }
   ],
   "source": [
    "SQRT_SWAP[0]@two"
   ]
  },
  {
   "cell_type": "code",
   "execution_count": 8,
   "id": "21791dc8-ab7c-4c04-9ad1-6cc5ece72387",
   "metadata": {},
   "outputs": [
    {
     "data": {
      "text/plain": [
       "array([[ 0.25-0.5j ],\n",
       "       [-0.25+0.j  ],\n",
       "       [-0.25+0.25j],\n",
       "       [-0.25+0.25j],\n",
       "       [ 0.  +0.25j],\n",
       "       [ 0.5 -0.25j]])"
      ]
     },
     "execution_count": 8,
     "metadata": {},
     "output_type": "execute_result"
    }
   ],
   "source": [
    "SQRT_SWAP[3]@SQRT_SWAP[1]@SQRT_SWAP[0]@SQRT_SWAP[2]@zero"
   ]
  },
  {
   "cell_type": "code",
   "execution_count": 9,
   "id": "3cf3e800-e806-4e81-83e2-19ea7bb93acf",
   "metadata": {},
   "outputs": [
    {
     "data": {
      "text/plain": [
       "8"
      ]
     },
     "execution_count": 9,
     "metadata": {},
     "output_type": "execute_result"
    }
   ],
   "source": [
    "\n",
    "generators = []\n",
    "\n",
    "for op in SQRT_SWAP:  # To test use Perms instead of SQRT_SWAP\n",
    "    generators.append(op)\n",
    "    generators.append(np.linalg.inv(op))\n",
    "len(generators)"
   ]
  },
  {
   "cell_type": "markdown",
   "id": "0417e49a-28ed-442c-aa7e-5fd1e7e18bdc",
   "metadata": {},
   "source": [
    "### Find group elements"
   ]
  },
  {
   "cell_type": "markdown",
   "id": "4b0c4b26-b53a-4625-8fa8-51f4c3183f29",
   "metadata": {},
   "source": [
    "Lets build the set step-by-step by applying the generators in their inverses to all of the elements we added in the previous step. We will start with the Idenitty as the only element of the set.\n",
    "\n",
    "We will keep going until we dont add anyting new."
   ]
  },
  {
   "cell_type": "code",
   "execution_count": 154,
   "id": "c2193d66-006f-4860-8454-fe2a0ce8dc58",
   "metadata": {},
   "outputs": [],
   "source": [
    "group_elems = [Id]\n",
    "\n",
    "def add_unique(new_elems, group_elems):\n",
    "    added = False\n",
    "    for new_elem in new_elems:\n",
    "        flag = False\n",
    "        for group_elem in group_elems:\n",
    "            if test_close(new_elem,group_elem):\n",
    "                flag = True\n",
    "                break\n",
    "        if not(flag): \n",
    "            group_elems.append(new_elem)\n",
    "            #group_elems.append(np.linalg.inv(new_elem))\n",
    "            added = True\n",
    "    return added\n",
    "\n",
    "Flag = True\n",
    "while(Flag):\n",
    "    current_elems = np.copy(group_elems)\n",
    "    Flag = False\n",
    "    for g in generators:\n",
    "        new_elems = [g@e for e in current_elems]\n",
    "        added = add_unique(new_elems,group_elems)\n",
    "        if added: \n",
    "            Flag = True\n",
    "    "
   ]
  },
  {
   "cell_type": "code",
   "execution_count": 155,
   "id": "10d44dd4-eff8-4698-92d4-a949e8f18e6a",
   "metadata": {},
   "outputs": [
    {
     "name": "stdout",
     "output_type": "stream",
     "text": [
      "24\n"
     ]
    }
   ],
   "source": [
    "print(len(group_elems))"
   ]
  },
  {
   "cell_type": "code",
   "execution_count": 107,
   "id": "672c1f4e-6e45-4550-a77d-6c7c45afc265",
   "metadata": {},
   "outputs": [],
   "source": [
    "def test_close(A,B):\n",
    "    dim = len(B[:,0])\n",
    "    return np.allclose(np.abs(np.trace(np.conj(A.T)@B)),dim)"
   ]
  },
  {
   "cell_type": "markdown",
   "id": "0c5eb8e9-98d4-4378-b2d8-ec33e544d6f3",
   "metadata": {},
   "source": [
    "## Trying to enumerate states instead"
   ]
  },
  {
   "cell_type": "code",
   "execution_count": 10,
   "id": "44bdd698-6bff-4606-a490-5decfc5fe5db",
   "metadata": {},
   "outputs": [],
   "source": [
    "import math\n",
    "def test_close_states_quick(A,B):\n",
    "    return np.isclose(np.abs(np.vdot(A,B)),1)\n",
    "def test_close_states_swift(A,B):\n",
    "    return math.isclose(np.abs(np.vdot(A,B)),1)\n",
    "def test_close_states(A,B):\n",
    "    return np.allclose(np.abs(np.trace(np.conj(A.T)@B)),1) "
   ]
  },
  {
   "cell_type": "markdown",
   "id": "af92cb0a-d0c7-4fa6-ae65-fad12a5b62af",
   "metadata": {},
   "source": [
    "## comparing performance of comparison methods"
   ]
  },
  {
   "cell_type": "code",
   "execution_count": 175,
   "id": "dc0ed78e-d5c5-46f6-8189-f9a4de000275",
   "metadata": {},
   "outputs": [
    {
     "name": "stdout",
     "output_type": "stream",
     "text": [
      "The execution time is: 8.542611737999323\n"
     ]
    }
   ],
   "source": [
    "import time\n",
    "start_time = time.perf_counter()\n",
    "\n",
    "for i in range(100000):\n",
    "    test_close_states(zero,zero)\n",
    "    test_close_states(zero,one)\n",
    "\n",
    "end_time = time.perf_counter()\n",
    "execution_time = end_time - start_time\n",
    "print(f\"The execution time is: {execution_time}\")"
   ]
  },
  {
   "cell_type": "code",
   "execution_count": 176,
   "id": "d35161d4-d97f-4e6c-812c-29e65d53f02a",
   "metadata": {},
   "outputs": [
    {
     "name": "stdout",
     "output_type": "stream",
     "text": [
      "The execution time is: 9.032579605000137\n"
     ]
    }
   ],
   "source": [
    "start_time = time.perf_counter()\n",
    "\n",
    "for i in range(100000):\n",
    "    test_close_states_quick(zero,zero)\n",
    "    test_close_states_quick(zero),one)\n",
    "\n",
    "end_time = time.perf_counter()\n",
    "execution_time = end_time - start_time\n",
    "print(f\"The execution time is: {execution_time}\")"
   ]
  },
  {
   "cell_type": "code",
   "execution_count": 177,
   "id": "7fd82623-e981-4875-a814-8078f041f191",
   "metadata": {},
   "outputs": [
    {
     "name": "stdout",
     "output_type": "stream",
     "text": [
      "The execution time is: 0.5390001020005002\n"
     ]
    }
   ],
   "source": [
    "start_time = time.perf_counter()\n",
    "\n",
    "for i in range(100000):\n",
    "    test_close_states_swift(zero,zero)\n",
    "    test_close_states_swift(zero,one)\n",
    "\n",
    "end_time = time.perf_counter()\n",
    "execution_time = end_time - start_time\n",
    "print(f\"The execution time is: {execution_time}\")"
   ]
  },
  {
   "cell_type": "code",
   "execution_count": 370,
   "id": "066b1543-9f5f-479f-bf1a-f1ca4896112c",
   "metadata": {},
   "outputs": [],
   "source": [
    "def add_unique(new_elems, group_elems):\n",
    "    num_added = 0\n",
    "    for new_elem in new_elems:\n",
    "        flag = False\n",
    "        for group_elem in group_elems:\n",
    "            if test_close_states_swift(new_elem,group_elem):\n",
    "                flag = True\n",
    "                break\n",
    "        if not(flag): \n",
    "            group_elems.append(new_elem)\n",
    "            num_added += 1\n",
    "    return num_added"
   ]
  },
  {
   "cell_type": "code",
   "execution_count": 371,
   "id": "c3717256-4204-4f5f-99fb-f67d828e7e35",
   "metadata": {},
   "outputs": [
    {
     "name": "stdout",
     "output_type": "stream",
     "text": [
      "There are 4 depth 1 boards and 5 total boards up to depth 1\n",
      "There are 22 depth 2 boards and 27 total boards up to depth 2\n",
      "There are 100 depth 3 boards and 127 total boards up to depth 3\n",
      "There are 495 depth 4 boards and 622 total boards up to depth 4\n",
      "There are 2120 depth 5 boards and 2742 total boards up to depth 5\n",
      "There are 10068 depth 6 boards and 12810 total boards up to depth 6\n",
      "The execution time is: 252.12471771900164\n"
     ]
    }
   ],
   "source": [
    "group_elems = [zero]\n",
    "start_time = time.perf_counter()\n",
    "counter = 0 # Tracks the number of times we have been through the loop\n",
    "index = 0 \n",
    "next_index = 1\n",
    "while(counter<6):\n",
    "    total_added = 0\n",
    "    current_elems = np.copy(group_elems[index:]) # so we dont need to generate states we have  definetly already generated before\n",
    "    index = next_index\n",
    "    for g in generators:\n",
    "        new_elems = [g@e for e in current_elems]\n",
    "        num_added = add_unique(new_elems,group_elems)\n",
    "        total_added += num_added\n",
    "    if total_added == 0: \n",
    "        break\n",
    "    next_index += total_added   \n",
    "    print('There are',total_added, 'depth',counter+1, 'boards and', len(group_elems), 'total boards up to depth', counter+1)\n",
    "    counter +=1\n",
    "end_time = time.perf_counter()\n",
    "execution_time = end_time - start_time\n",
    "print(f\"The execution time is: {execution_time}\")"
   ]
  },
  {
   "cell_type": "markdown",
   "id": "98662d5b-6360-47bf-8ac9-009e5cf10115",
   "metadata": {},
   "source": [
    "## Speed up By only comparing similar states\n",
    "    The high level idea is that we really dont need to compare each state we generate to every other state we have generated, we only need to compare it to other states that look similar. So if we can characterizes the states as we find them into some categories such that we only need to do comparisons within a catagory to know if that state exists in the group already. \n",
    "    \n",
    "    Right now we are characterizing by the number of nonzero elements. We know that a state of the form $a|n\\rangle + b |m\\rangle$ for $n,m\\in(0,5)$ will never be the same as a state of the form $a|n\\rangle +b|m\\rangle +c|l\\rangle$ so we dont need to compare them. We accomplish this by putting the group elements into a dictionary, essentially a multidimensional array for this purpose. The problem is that this characteristic function (the number of nonzero elements) is two fold. 1) there are only. catagories so we still need to do a lot of comparisons, at best we reduce the number of comparisons for each state by a factor of 6. 2) the 6 catagories are not evenly occupied. For example we know there are only 6 states with 1 nonzero entry, but it seems like there are many thousand with 6 entries. Now we do even worse than a factor of 6 on average. \n",
    "    \n",
    "    What do we want out of a characteristic function. We want to make sure that there is no way that two states that differ by only a global phase (or a small floating point error ie 0 vs 1.8E-19) are put in different catagories. Given this we would like there to be as few states in each catagory as possible, so hopefully this means lots of catagories and an even split between catagories. \n",
    "    \n",
    "    Idea: By eye I can tell that a state like $\\frac{1}{\\sqrt{3}} \\left(|0\\rangle \\pm|1\\rangle\\pm|2\\rangle\\right)$ is does not need to be compared to a state like $ \\frac{1}{2}|0\\rangle \\pm\\frac{1}{\\sqrt{2}}|1\\rangle\\pm\\frac{1}{2}|2\\rangle\\right)$, so Maybe if we can write code to tell the difference between these classes then it could be a good discriminator. "
   ]
  },
  {
   "cell_type": "code",
   "execution_count": 426,
   "id": "4937a54a-3e0a-4a53-9737-77204900ed1b",
   "metadata": {},
   "outputs": [],
   "source": [
    "def test_close_states_swift(A,B):\n",
    "    return math.isclose(np.abs(np.vdot(A,B)),1)\n",
    "\n",
    "def num_nonzero(state):\n",
    "    num = 0\n",
    "    for coeff in state:\n",
    "        if not math.isclose(np.abs(coeff),0):\n",
    "            num += 1\n",
    "    return num\n",
    "def add_unique_dict(new_elems, group,indecies):\n",
    "    num_added = 0\n",
    "    for new_elem in new_elems:\n",
    "        flag = False\n",
    "        n = num_nonzero(new_elem)\n",
    "        for state in group[n]:\n",
    "            if test_close_states_swift(new_elem,state):\n",
    "                flag = True\n",
    "                break\n",
    "        if not flag:\n",
    "            group[n].append(new_elem)\n",
    "            num_added += 1  \n",
    "            indecies[n-1] += 1\n",
    "    return [num_added,indecies]\n",
    "\n"
   ]
  },
  {
   "cell_type": "code",
   "execution_count": 427,
   "id": "09b2c7ce-1dda-4e02-98e1-4069cd507ade",
   "metadata": {},
   "outputs": [
    {
     "name": "stdout",
     "output_type": "stream",
     "text": [
      "There are 4 depth 1 boards and 5 total boards up to depth 1\n",
      "There are 22 depth 2 boards and 27 total boards up to depth 2\n",
      "There are 100 depth 3 boards and 127 total boards up to depth 3\n",
      "There are 495 depth 4 boards and 622 total boards up to depth 4\n",
      "There are 2120 depth 5 boards and 2742 total boards up to depth 5\n",
      "The execution time is: 4.747661389999848\n"
     ]
    }
   ],
   "source": [
    "start_time = time.perf_counter()\n",
    "\n",
    "\n",
    "group = {1:[zero],2:[],3:[],4:[],5:[],6:[]} # classify each board state by the number of nonzero basis elements\n",
    "total = 1\n",
    "depth = 0 # Tracks the number of times we have been through the loop\n",
    "indecies = [0,0,0,0,0,0]\n",
    "next_indecies = [1,0,0,0,0,0]\n",
    "while(depth<5):\n",
    "    added = 0\n",
    "    inc_indecies = [0,0,0,0,0,0]\n",
    "    new_elems = []\n",
    "    for g in generators:\n",
    "        # iterate through the group\n",
    "        for key in group: \n",
    "            for state in group[key][indecies[key-1]:]:\n",
    "                new_elems.append(g@state)\n",
    "                        \n",
    "    num_added,inc_indecies = add_unique_dict(new_elems,group,inc_indecies)\n",
    "    num_added\n",
    "    if num_added == 0: \n",
    "        break\n",
    "    total += num_added  \n",
    "    indecies = next_indecies\n",
    "    next_indecies += inc_indecies\n",
    "    depth +=1\n",
    "    print('There are',num_added, 'depth',depth, 'boards and', total, 'total boards up to depth', depth)\n",
    "end_time = time.perf_counter()\n",
    "execution_time = end_time - start_time\n",
    "print(f\"The execution time is: {execution_time}\")   "
   ]
  },
  {
   "cell_type": "code",
   "execution_count": 428,
   "id": "fb739a0a-b168-4d30-a8dd-91e63b84cfd4",
   "metadata": {},
   "outputs": [
    {
     "data": {
      "text/plain": [
       "2742"
      ]
     },
     "execution_count": 428,
     "metadata": {},
     "output_type": "execute_result"
    }
   ],
   "source": [
    "len(group[1])+len(group[2])+len(group[3])+len(group[4])+len(group[5])+len(group[6])"
   ]
  },
  {
   "cell_type": "code",
   "execution_count": 429,
   "id": "2fa39f8d-5f5d-4c2e-95ca-68216c10888e",
   "metadata": {},
   "outputs": [
    {
     "data": {
      "text/plain": [
       "<BarContainer object of 6 artists>"
      ]
     },
     "execution_count": 429,
     "metadata": {},
     "output_type": "execute_result"
    },
    {
     "data": {
      "image/png": "[encoded data removed]",
      "text/plain": [
       "<Figure size 432x288 with 1 Axes>"
      ]
     },
     "metadata": {
      "needs_background": "light"
     },
     "output_type": "display_data"
    }
   ],
   "source": [
    "plt.bar([1,2,3,4,5,6],[len(group[1]),len(group[2]),len(group[3]),len(group[4]),len(group[5]),len(group[6])])\n"
   ]
  },
  {
   "cell_type": "markdown",
   "id": "c8bed620-4dbf-4f44-85c3-33201083b67e",
   "metadata": {},
   "source": [
    "## making an optimal? hash function"
   ]
  },
  {
   "cell_type": "code",
   "execution_count": 11,
   "id": "5254f2a4-189a-4495-b219-472f4565d55b",
   "metadata": {},
   "outputs": [],
   "source": [
    "def hash_func(state):\n",
    "    string = ''\n",
    "    temp = np.round(canonical_phase(state),8)\n",
    "    for coeff in temp:\n",
    "        if np.real(coeff) == 0 :\n",
    "            string += '[0.]'\n",
    "        else:\n",
    "            string +=   str(np.real(coeff))\n",
    "        if np.imag(coeff) == 0:\n",
    "            string += '[0.]'\n",
    "        else:\n",
    "            string += str(np.imag(coeff))\n",
    "        \n",
    "    return string\n",
    "\n",
    "def canonical_phase(state):\n",
    "    #phase choosen so that the first nonzero element is positive\n",
    "    for coeff in state:\n",
    "        if not math.isclose(np.abs(coeff),0):\n",
    "            phase = np.angle(coeff)\n",
    "            break\n",
    "    return state / np.exp(1j*phase)"
   ]
  },
  {
   "cell_type": "code",
   "execution_count": 13,
   "id": "a22716ed-e8e8-4789-8c29-ca71c3d0d10f",
   "metadata": {},
   "outputs": [
    {
     "name": "stdout",
     "output_type": "stream",
     "text": [
      "There are 4 depth 1 boards and 5 total boards up to depth 1\n",
      "There are 22 depth 2 boards and 27 total boards up to depth 2\n",
      "There are 100 depth 3 boards and 127 total boards up to depth 3\n",
      "There are 495 depth 4 boards and 622 total boards up to depth 4\n",
      "There are 2120 depth 5 boards and 2742 total boards up to depth 5\n",
      "The execution time is: 2.449834524000835\n"
     ]
    }
   ],
   "source": [
    "import copy\n",
    "import time\n",
    "start_time = time.perf_counter()\n",
    "\n",
    "group = {hash_func(zero):zero}\n",
    "new_elems = group\n",
    "total = 1\n",
    "depth = 0 # Tracks the number of times we have been through the loop\n",
    "while(depth<5):\n",
    "    \n",
    "    num_added = 0 \n",
    "    current_group = new_elems.copy()\n",
    "    new_elems = {}\n",
    "    for g in generators:\n",
    "        # iterate through the group\n",
    "        for key in current_group: \n",
    "            state = g@current_group[key]\n",
    "            hashed = hash_func(state)\n",
    "            if not (hashed in group):\n",
    "                new_elems.update({hashed:state}) \n",
    "                group.update({hashed:state})\n",
    "                num_added += 1\n",
    "    if num_added == 0: \n",
    "        break\n",
    "    total += num_added  \n",
    "    depth +=1\n",
    "    print('There are',num_added, 'depth',depth, 'boards and', total, 'total boards up to depth', depth)\n",
    "    \n",
    "end_time = time.perf_counter()\n",
    "execution_time = end_time - start_time\n",
    "print(f\"The execution time is: {execution_time}\")   "
   ]
  },
  {
   "cell_type": "code",
   "execution_count": 1,
   "id": "8863d0b4-c8c8-49fa-ada2-5367e90ce512",
   "metadata": {},
   "outputs": [
    {
     "ename": "NameError",
     "evalue": "name 'group' is not defined",
     "output_type": "error",
     "traceback": [
      "\u001b[0;31m---------------------------------------------------------------------------\u001b[0m",
      "\u001b[0;31mNameError\u001b[0m                                 Traceback (most recent call last)",
      "\u001b[0;32m/var/folders/cl/131my1d14z537kcq7ydt4xyc0000gp/T/ipykernel_3824/1743899154.py\u001b[0m in \u001b[0;36m<module>\u001b[0;34m\u001b[0m\n\u001b[0;32m----> 1\u001b[0;31m \u001b[0mlen\u001b[0m\u001b[0;34m(\u001b[0m\u001b[0mgroup\u001b[0m\u001b[0;34m)\u001b[0m\u001b[0;34m\u001b[0m\u001b[0;34m\u001b[0m\u001b[0m\n\u001b[0m",
      "\u001b[0;31mNameError\u001b[0m: name 'group' is not defined"
     ]
    }
   ],
   "source": [
    "len(group)"
   ]
  },
  {
   "cell_type": "code",
   "execution_count": 16,
   "id": "d9f958c5-6476-4a52-971e-3c5d7271578a",
   "metadata": {},
   "outputs": [
    {
     "data": {
      "image/png": "[encoded data removed]",
      "text/plain": [
       "<Figure size 432x288 with 1 Axes>"
      ]
     },
     "metadata": {
      "needs_background": "light"
     },
     "output_type": "display_data"
    }
   ],
   "source": [
    "x = range(1,13)\n",
    "y = [4,22,100,495,2120,10076,44122,203547,885667,4028019,17626528,79485244]\n",
    "plt.semilogy(x,y)\n",
    "fit = np.polyfit(x,np.log(y),1)"
   ]
  },
  {
   "cell_type": "code",
   "execution_count": 32,
   "id": "799b55e2-72cd-4c32-b5bd-e58e86d88a63",
   "metadata": {},
   "outputs": [
    {
     "data": {
      "text/plain": [
       "[<matplotlib.lines.Line2D at 0x7fb5315bb5e0>]"
      ]
     },
     "execution_count": 32,
     "metadata": {},
     "output_type": "execute_result"
    },
    {
     "data": {
      "image/png": "[encoded data removed]",
      "text/plain": [
       "<Figure size 432x288 with 1 Axes>"
      ]
     },
     "metadata": {
      "needs_background": "light"
     },
     "output_type": "display_data"
    }
   ],
   "source": [
    "z = np.linspace(1,12)\n",
    "fitted = np.exp(fit[1])*np.exp(fit[0]*z)\n",
    "plt.plot(x,y,'*')\n",
    "plt.plot(z,fitted)"
   ]
  },
  {
   "cell_type": "code",
   "execution_count": 28,
   "id": "a4244206-c7ee-4228-813d-664e00ce47c3",
   "metadata": {},
   "outputs": [
    {
     "data": {
      "text/plain": [
       "36572194062.6913"
      ]
     },
     "execution_count": 28,
     "metadata": {},
     "output_type": "execute_result"
    }
   ],
   "source": [
    "np.exp(fit[1])*np.exp(fit[0]*16)"
   ]
  },
  {
   "cell_type": "code",
   "execution_count": 73,
   "id": "61f11b13-b808-4788-a673-20e21fb3056b",
   "metadata": {},
   "outputs": [
    {
     "name": "stdout",
     "output_type": "stream",
     "text": [
      "99998\n"
     ]
    }
   ],
   "source": [
    "a = {hash_func(zero):zero}\n",
    "state = zero\n",
    "num_added = 0\n",
    "for i in range(100000):\n",
    "    state = SQRT_SWAP[i%3]@state\n",
    "    hashed = hash_func(state)\n",
    "    if not (hashed in a):\n",
    "        a.update({hashed:state})\n",
    "        num_added += 1\n",
    "print(num_added)\n",
    "\n"
   ]
  },
  {
   "cell_type": "code",
   "execution_count": 71,
   "id": "f5c2634f-0f95-43ab-9c65-f6793b5d2133",
   "metadata": {},
   "outputs": [
    {
     "name": "stdout",
     "output_type": "stream",
     "text": [
      "0\n"
     ]
    }
   ],
   "source": [
    "close_states = 0 \n",
    "i = 0\n",
    "\n",
    "for key in a:\n",
    "    i += 1\n",
    "    j = 0\n",
    "    for key_2 in a:\n",
    "        j += 1\n",
    "        if i != j:\n",
    "            if test_close_states_swift(a[key],a[key_2]):\n",
    "                close_states += 1 \n",
    "print(close_states)"
   ]
  },
  {
   "cell_type": "code",
   "execution_count": 83,
   "id": "16b21501-163c-4f70-ba64-25771cd59db6",
   "metadata": {},
   "outputs": [],
   "source": [
    "zero_vals = []\n",
    "states = []\n",
    "for key in a:\n",
    "    zero_vals.append(a[key][0])\n",
    "    states.append(a[key])"
   ]
  },
  {
   "cell_type": "code",
   "execution_count": 122,
   "id": "5fb46e75-e5d0-4d79-966a-f79d33db5ca5",
   "metadata": {},
   "outputs": [
    {
     "data": {
      "text/plain": [
       "array([[ 0.98814936+0.06659038j],\n",
       "       [-0.01185064+0.06659038j],\n",
       "       [-0.04401747-0.03329519j],\n",
       "       [-0.04401747-0.03329519j],\n",
       "       [-0.05586811+0.03329519j],\n",
       "       [-0.05586811+0.03329519j]])"
      ]
     },
     "execution_count": 122,
     "metadata": {},
     "output_type": "execute_result"
    },
    {
     "data": {
      "image/png": "[encoded data removed]",
      "text/plain": [
       "<Figure size 432x288 with 1 Axes>"
      ]
     },
     "metadata": {
      "needs_background": "light"
     },
     "output_type": "display_data"
    }
   ],
   "source": [
    "plt.plot(np.abs(zero_vals[0:1000]))\n",
    "states[574]"
   ]
  },
  {
   "cell_type": "code",
   "execution_count": 120,
   "id": "ead9e299-24fb-4eee-927f-7e8579298cac",
   "metadata": {},
   "outputs": [
    {
     "data": {
      "text/plain": [
       "array([[-0.40625-0.1875j ,  0.09375+0.3125j ,  0.375  -0.03125j,\n",
       "         0.375  -0.03125j, -0.53125+0.28125j, -0.03125-0.21875j],\n",
       "       [ 0.09375+0.3125j , -0.40625-0.1875j ,  0.375  -0.03125j,\n",
       "         0.375  -0.03125j, -0.03125-0.21875j, -0.53125+0.28125j],\n",
       "       [ 0.28125-0.03125j,  0.28125-0.03125j,  0.34375-0.03125j,\n",
       "        -0.65625-0.03125j, -0.375  -0.0625j , -0.375  -0.0625j ],\n",
       "       [ 0.28125-0.03125j,  0.28125-0.03125j, -0.65625-0.03125j,\n",
       "         0.34375-0.03125j, -0.375  -0.0625j , -0.375  -0.0625j ],\n",
       "       [-0.125  +0.28125j, -0.625  -0.21875j, -0.28125-0.0625j ,\n",
       "        -0.28125-0.0625j , -0.40625+0.21875j,  0.09375-0.28125j],\n",
       "       [-0.625  -0.21875j, -0.125  +0.28125j, -0.28125-0.0625j ,\n",
       "        -0.28125-0.0625j ,  0.09375-0.28125j, -0.40625+0.21875j]])"
      ]
     },
     "execution_count": 120,
     "metadata": {},
     "output_type": "execute_result"
    }
   ],
   "source": [
    "M = np.linalg.matrix_power((SQRT_SWAP[2]@SQRT_SWAP[1]@SQRT_SWAP[0]),8)\n",
    "\n",
    "M"
   ]
  },
  {
   "cell_type": "code",
   "execution_count": null,
   "id": "e91b732e-8553-461d-88ac-bb1ab7a4ef49",
   "metadata": {},
   "outputs": [],
   "source": []
  }
 ],
 "metadata": {
  "kernelspec": {
   "display_name": "Python 3 (ipykernel)",
   "language": "python",
   "name": "python3"
  },
  "language_info": {
   "codemirror_mode": {
    "name": "ipython",
    "version": 3
   },
   "file_extension": ".py",
   "mimetype": "text/x-python",
   "name": "python",
   "nbconvert_exporter": "python",
   "pygments_lexer": "ipython3",
   "version": "3.9.7"
  }
 },
 "nbformat": 4,
 "nbformat_minor": 5
}
