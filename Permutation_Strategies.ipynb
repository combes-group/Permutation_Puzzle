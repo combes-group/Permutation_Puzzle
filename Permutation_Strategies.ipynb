{
 "cells": [
  {
   "cell_type": "code",
   "execution_count": 1,
   "id": "cbe9473e-fe69-43f5-82e6-518fbb01a7a0",
   "metadata": {},
   "outputs": [],
   "source": [
    "import numpy as np\n",
    "import math\n",
    "import random\n",
    "import matplotlib.pyplot as plt\n",
    "import matplotlib.cm as cm\n",
    "import pickle\n",
    "import pandas as pd\n",
    "import Swap_generators\n",
    "import Strategy_helper"
   ]
  },
  {
   "cell_type": "markdown",
   "id": "0f6431d1-b89c-4588-a976-726af404a557",
   "metadata": {},
   "source": [
    "### Set of allowed moves for each agent\n",
    "We will use the fermionic puzzle which is chosen arbitraily. The underlying particle structure does not meaningfully change the solving strategies to our knowledge."
   ]
  },
  {
   "cell_type": "code",
   "execution_count": 2,
   "id": "36dafe5d-c71f-4d48-b89a-a69cc0f48df2",
   "metadata": {
    "tags": []
   },
   "outputs": [],
   "source": [
    "Perms = Swap_generators.swaps(-1,-1)\n",
    "SQRT_SWAP = Swap_generators.sqrt_swaps(-1,-1)\n",
    "# Classical agent\n",
    "CS = Perms\n",
    "\n",
    "# Quantum agent's moves\n",
    "QS = []\n",
    "for move in SQRT_SWAP:\n",
    "    QS.append(move)\n",
    "    QS.append(np.transpose(np.conj(move)))\n",
    "    \n",
    "# Mixed agents moves \n",
    "MS = []\n",
    "for move in SQRT_SWAP:\n",
    "    MS.append(move)\n",
    "    MS.append(np.transpose(np.conj(move)))\n",
    "for move in Perms:\n",
    "    MS.append(move)"
   ]
  },
  {
   "cell_type": "markdown",
   "id": "5dc14f5e-4bf7-4a13-a5fd-96485102c4e4",
   "metadata": {},
   "source": [
    "## Scrambling\n",
    "Scrambles are sqeunces of half swaps applied to the solved state. Here we generate a number of random scrambles with some constraintes on the minimum and maximum length of the scramble. "
   ]
  },
  {
   "cell_type": "code",
   "execution_count": 16,
   "id": "e3732cc5-29dd-48ae-a325-85ef9294356a",
   "metadata": {},
   "outputs": [],
   "source": [
    "## Generate a bunch of scrambles\n",
    "Num_scrambles = 100\n",
    "min_length = 200\n",
    "max_length = 500\n",
    "Scrambles = []\n",
    "for i in range(Num_scrambles):\n",
    "    l = random.randint(min_length,max_length)\n",
    "    move_list = random.choices(QS,k=l)\n",
    "    state = Swap_generators.zero\n",
    "    for move in move_list:\n",
    "        state = move @ state\n",
    "    Scrambles.append(state)\n"
   ]
  },
  {
   "cell_type": "markdown",
   "id": "769e55b5-a615-41fb-bd9c-1483c7564794",
   "metadata": {},
   "source": [
    "# Rules\n",
    "\n",
    "At first we will consider the situation in which the puzzle is reset after a measurement failure. After that we will consider a simplified version where each solver is only given one puzzle and only has one chance to measure it. "
   ]
  },
  {
   "cell_type": "markdown",
   "id": "a0b70580-9053-424c-b5cf-08ca978b06c2",
   "metadata": {
    "tags": []
   },
   "source": [
    "## Finding performance of optimal strategy for reseting puzzle\n",
    "The optimal strategy requires us to iterativly find all states that are up to $n$ moves away from the scrambled state. A target state is 1 move away from the scramble if a single actions from the solvers set of actions can transform the scrambled state into the target state. A state is 2 moves away from the scramble if the shortest possible set of actions from the solver to go between the scramble and target state is 2 moves.\n",
    "\n",
    "Implementing this requires a breadth first search approach, that keeps track of which states have been seen and which have not. This search is implemented using a hashing of the state keeping 8 significant digits and canonicallizing the states. The optimal_search function then implements the search that will either continue until the optimal state is found, or some max_depth constraint is reached.\n",
    "\n",
    "The function takes in a scramble a set of solving actions and optionally a set of costs for applying solving actions and measureing."
   ]
  },
  {
   "cell_type": "code",
   "execution_count": 4,
   "id": "33fe13ee-f29a-409c-a1ce-6e3fa7d63fb7",
   "metadata": {},
   "outputs": [],
   "source": [
    "Costs = [1,1] # Swaps cost the same a measuring"
   ]
  },
  {
   "cell_type": "code",
   "execution_count": null,
   "id": "1ffe46d9-8034-4c4f-9633-7c559c98bfc7",
   "metadata": {},
   "outputs": [],
   "source": [
    "dataQ = Strategy_helper.Sample_scrambles_opt(Scrambles,QS,Costs)"
   ]
  },
  {
   "cell_type": "code",
   "execution_count": null,
   "id": "ea5129b1-e520-45da-91dd-b6bbfe5add2a",
   "metadata": {},
   "outputs": [],
   "source": [
    "dataC = Strategy_helper.Sample_scrambles_opt(Scrambles,CS,Costs)"
   ]
  },
  {
   "cell_type": "code",
   "execution_count": null,
   "id": "3ac07a11-c673-4c54-b909-977a465707f8",
   "metadata": {},
   "outputs": [],
   "source": [
    "dataM = Strategy_helper.Sample_scrambles_opt(Scrambles,MS,Costs)"
   ]
  },
  {
   "cell_type": "code",
   "execution_count": 8,
   "id": "197f27b1-fd9e-47a9-9886-ccc7447affa1",
   "metadata": {},
   "outputs": [],
   "source": [
    "dbfile = open('Data/QuantumOptimal_2000', 'ab')\n",
    "     \n",
    "pickle.dump(dataQ, dbfile) \n",
    "dbfile.close()\n",
    "                  \n",
    "dbfile = open('Data/ClassicalOptimal_2000', 'ab')\n",
    "     \n",
    "pickle.dump(dataC, dbfile) \n",
    "dbfile.close()\n",
    "\n",
    "dbfile = open('Data/MixedOptimal_2000', 'ab')\n",
    "     \n",
    "pickle.dump(dataM, dbfile) \n",
    "dbfile.close()\n"
   ]
  },
  {
   "cell_type": "markdown",
   "id": "3c9cc8f5-6978-4cd8-a84b-6414a7b2f8a5",
   "metadata": {},
   "source": [
    "### Analyzing the data\n",
    "In the case where the puzzle is reset the number of moves until the puzzle is solved follows a gemoetric distribution. \n",
    "$$\n",
    "N_\\varphi = (M_\\varphi+1)\\text{Geo}(P_\\varphi)\n",
    "$$\n",
    "where $M_\\varphi$ is the distance from the scramble to the optimal state $\\varphi$ and $P_\\varphi$ is the squared overlap of the optimal state with the solved state $|\\langle\\varphi|\\text{solved}\\rangle|^2$.\n",
    "In order to find the true performance of each solver we descretely sample the scramble space to build a distribution $Z(M,P)$ that describes how the parameters of the geometric distribution are distributied among random scrambles of the puzzle. We can finally define $G(n|M,P)$ to be the PDF that describes the distribution of the number of moves to solved $n$ given the scramble based parameters $M,P$.\n",
    "\n",
    "In the limit of infinite sampling the the distribution of move count independent of scrambles becomes\n",
    "$$\n",
    "G(n) = \\int_\\Omega G(n|M,P) d\\mu(\\Omega(M,P)) = \\sum_{M=1}^\\infty \\int_0^1 dP G(n|M,P)Z(M,P)\n",
    "$$\n",
    "\n"
   ]
  },
  {
   "cell_type": "code",
   "execution_count": 4,
   "id": "29729dce-24e5-4d5d-93c8-eec74674b2e7",
   "metadata": {
    "tags": []
   },
   "outputs": [],
   "source": [
    "dbfile = open('Data/QuantumOptimal_2000', 'rb')\n",
    "     \n",
    "dataQ = pickle.load(dbfile)\n",
    "dbfile.close()\n",
    "                  \n",
    "dbfile = open('Data/ClassicalOptimal_2000', 'rb')\n",
    "     \n",
    "dataC = pickle.load(dbfile)\n",
    "dbfile.close()\n",
    "\n",
    "dbfile = open('Data/MixedOptimal_2000', 'rb')\n",
    "     \n",
    "dataM = pickle.load(dbfile)\n",
    "dbfile.close()"
   ]
  },
  {
   "cell_type": "code",
   "execution_count": 18,
   "id": "e5dc1a7c-1de4-4b96-aa91-9439f3a83a90",
   "metadata": {},
   "outputs": [
    {
     "name": "stdout",
     "output_type": "stream",
     "text": [
      "Quantum solver average: 5.319085584992249\n",
      "Classical solver average: 5.888426973768297\n",
      "Mixed solver average: 4.776267452311938\n"
     ]
    }
   ],
   "source": [
    "\n",
    "depth = 6\n",
    "Num_scrambles = len(dataQ[0])\n",
    "Costs = [1,1]\n",
    "\n",
    "ZQ,MQ,PQ = Strategy_helper.scramble_probabilities(dataQ,depth,Costs)#,Mvals=Mvals,Pvals=Pvals)\n",
    "ZC,MC,PC = Strategy_helper.scramble_probabilities(dataC,depth,Costs)#,Mvals=Mvals,Pvals=Pvals)\n",
    "ZM,MM,PM = Strategy_helper.scramble_probabilities(dataM,depth,Costs)#,Mvals=Mvals,Pvals=Pvals)\n",
    "distQ = []\n",
    "distC = []\n",
    "distM = []\n",
    "meanQ = 0\n",
    "meanC = 0\n",
    "meanM = 0\n",
    "\n",
    "nvals = range(1,100)\n",
    "for n in nvals:\n",
    "    P_n_Q = Strategy_helper.Prob(n,MQ,PQ,ZQ)\n",
    "    P_n_C = Strategy_helper.Prob(n,MC,PC,ZC)\n",
    "    P_n_M = Strategy_helper.Prob(n,MM,PM,ZM)\n",
    "    distQ.append(P_n_Q)\n",
    "    distC.append(P_n_C)\n",
    "    distM.append(P_n_M)\n",
    "    meanQ += n*P_n_Q\n",
    "    meanC += n*P_n_C\n",
    "    meanM += n*P_n_M\n",
    "print(\"Quantum solver average:\",meanQ)\n",
    "print(\"Classical solver average:\",meanC)\n",
    "print(\"Mixed solver average:\",meanM)\n",
    "assert(np.isclose(sum(distQ),1,rtol=1e-3))\n",
    "assert(np.isclose(sum(distC),1,rtol=1e-3))\n",
    "assert(np.isclose(sum(distM),1,rtol=1e-3))"
   ]
  },
  {
   "cell_type": "code",
   "execution_count": 6,
   "id": "f1e3273b-fba1-4851-abba-35b93ed7b71a",
   "metadata": {},
   "outputs": [
    {
     "data": {
      "image/png": "[encoded data removed]",
      "text/plain": [
       "<Figure size 432x288 with 1 Axes>"
      ]
     },
     "metadata": {
      "needs_background": "light"
     },
     "output_type": "display_data"
    }
   ],
   "source": [
    "fig,ax = plt.subplots()\n",
    "ax.semilogx(nvals,[sum(distQ[0:n]) for n in range(len(distQ))],'--*')\n",
    "ax.semilogx(nvals,[sum(distC[0:n]) for n in range(len(distC))],'--*')\n",
    "ax.semilogx(nvals,[sum(distM[0:n]) for n in range(len(distM))],'--*')\n",
    "ax.set_xlim([1,25])\n",
    "ax.legend([\"Quantum\",\"Classical\",'Mixed'])\n",
    "ax.set_ylabel(\"Percent of scrambles solved\")\n",
    "ax.set_xlabel(\"Move count\")\n",
    "ax.grid()\n",
    "plt.savefig(\"./Figures/SolvingCDF.pdf\",format=\"pdf\")"
   ]
  },
  {
   "cell_type": "markdown",
   "id": "2019aefb-e2db-4e5b-bdd0-d46e1b0f1201",
   "metadata": {},
   "source": [
    "## Scramble Parameter Distributions"
   ]
  },
  {
   "cell_type": "code",
   "execution_count": 11,
   "id": "5eacd7ec-ef3c-4408-b10e-46231d15d2f6",
   "metadata": {},
   "outputs": [
    {
     "data": {
      "image/png": "[encoded data removed]",
      "text/plain": [
       "<Figure size 1296x432 with 3 Axes>"
      ]
     },
     "metadata": {
      "needs_background": "light"
     },
     "output_type": "display_data"
    }
   ],
   "source": [
    "from matplotlib.colors import LogNorm\n",
    "fig, ax = plt.subplots(1,3,figsize=(18,6))\n",
    "ax[0].imshow(ZQ, cmap=plt.cm.gist_earth_r,\n",
    "          extent=[1, depth+1, 0, 1],origin='lower',aspect = 5,norm=LogNorm())\n",
    "ax[0].set_title('Quantum Solver')\n",
    "ax[0].set_xlabel('M')\n",
    "ax[0].set_ylabel('P')\n",
    "ax[1].imshow(ZM, cmap=plt.cm.gist_earth_r,\n",
    "          extent=[1, depth+1, 0, 1],origin='lower',aspect = 5,norm=LogNorm())\n",
    "ax[1].set_title('Mixed Solver')\n",
    "ax[1].set_xlabel('M')\n",
    "ax[1].set_ylabel('P')\n",
    "ax[2].imshow(ZC, cmap=plt.cm.gist_earth_r,\n",
    "          extent=[1, depth+1, 0, 1],origin='lower',aspect = 5,norm=LogNorm())\n",
    "ax[2].set_title('Classical Solver')\n",
    "ax[2].set_xlabel('M')\n",
    "ax[2].set_ylabel('P')\n",
    "plt.show()"
   ]
  },
  {
   "cell_type": "code",
   "execution_count": null,
   "id": "431d1342-160f-4fce-8d18-a8f55b2bf1b0",
   "metadata": {},
   "outputs": [],
   "source": []
  }
 ],
 "metadata": {
  "kernelspec": {
   "display_name": "Python 3 (ipykernel)",
   "language": "python",
   "name": "python3"
  },
  "language_info": {
   "codemirror_mode": {
    "name": "ipython",
    "version": 3
   },
   "file_extension": ".py",
   "mimetype": "text/x-python",
   "name": "python",
   "nbconvert_exporter": "python",
   "pygments_lexer": "ipython3",
   "version": "3.9.7"
  }
 },
 "nbformat": 4,
 "nbformat_minor": 5
}
