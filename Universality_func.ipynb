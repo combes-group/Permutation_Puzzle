{
 "cells": [
  {
   "cell_type": "code",
   "execution_count": 20,
   "id": "a5e13fc5-7a8e-4915-a4ea-f4bbc524564f",
   "metadata": {},
   "outputs": [],
   "source": [
    "import numpy as np\n",
    "import math\n",
    "import qinfer\n",
    "from collections import deque"
   ]
  },
  {
   "cell_type": "markdown",
   "id": "3df6439f-c604-4de4-a8a0-32e453441291",
   "metadata": {},
   "source": [
    "## Define the gate set"
   ]
  },
  {
   "cell_type": "markdown",
   "id": "7ada3dfb-f310-42b9-b614-d8df5483a57b",
   "metadata": {},
   "source": [
    "### Helper functions for making common gates\n"
   ]
  },
  {
   "cell_type": "code",
   "execution_count": 21,
   "id": "3c410411-a295-42b0-9d8f-ab46c509ed81",
   "metadata": {},
   "outputs": [],
   "source": [
    "def S_gate(dim):\n",
    "    if dim == 2:\n",
    "        return np.matrix(np.diag([1,1j]))\n",
    "    omega = np.exp(1j*2*np.pi/dim)\n",
    "    S_gate = np.zeros((dim,dim),dtype=complex)\n",
    "    for i in range(dim):\n",
    "        if dim % 2 == 0:\n",
    "            S_gate[i,i] = omega**(i*(i)/(2))\n",
    "        else:\n",
    "            S_gate[i,i] = omega**(i*(i+1)/(2))\n",
    "    return S_gate\n",
    "\n",
    "def H_gate(dim):\n",
    "    if dim == 2:\n",
    "        return 1/np.sqrt(2)*np.matrix([[1,1],[1,-1]])\n",
    "    omega = np.exp(1j*2*np.pi/dim)\n",
    "    H = np.zeros((dim,dim),dtype=complex)\n",
    "    for i in range(dim):\n",
    "        for j in range(dim):\n",
    "            H[i,j] = 1/math.sqrt(dim) * omega**(j*i)\n",
    "    return H\n",
    "\n",
    "def Z_gate(dim):\n",
    "    omega = np.exp(1j*2*np.pi/dim)\n",
    "    return np.matrix(np.diag([omega**n for n in range(dim)]))"
   ]
  },
  {
   "cell_type": "code",
   "execution_count": 22,
   "id": "c4a736dc-5ce3-461c-9019-aa1132a8a36b",
   "metadata": {},
   "outputs": [
    {
     "data": {
      "text/plain": [
       "matrix([[ 1.+0.j,  0.+0.j,  0.+0.j,  0.+0.j],\n",
       "        [ 0.+0.j,  0.+1.j,  0.+0.j,  0.+0.j],\n",
       "        [ 0.+0.j,  0.+0.j, -1.+0.j,  0.+0.j],\n",
       "        [ 0.+0.j,  0.+0.j,  0.+0.j, -0.-1.j]])"
      ]
     },
     "execution_count": 22,
     "metadata": {},
     "output_type": "execute_result"
    }
   ],
   "source": [
    "np.round(Z_gate(4),4)"
   ]
  },
  {
   "cell_type": "code",
   "execution_count": 27,
   "id": "010f0f74-e53f-40f9-813b-f942dcb145e8",
   "metadata": {},
   "outputs": [],
   "source": [
    "S = [S_gate(6),H_gate(6)]"
   ]
  },
  {
   "cell_type": "markdown",
   "id": "ba31f1ec-ab9f-4ea5-9c1e-9693989b13b2",
   "metadata": {},
   "source": [
    "## Finding Adjoint representation in SO(d^2-1)"
   ]
  },
  {
   "cell_type": "markdown",
   "id": "1d0e84ba-d477-4964-a2f0-2baa46f97e4c",
   "metadata": {},
   "source": [
    "Generators of $\\mathfrak{s u}(d)$ are found in mathematica via the approach found in https://mathematica.stackexchange.com/questions/159014/calculate-representations-of-sun-generators\n",
    "\n"
   ]
  },
  {
   "cell_type": "code",
   "execution_count": 29,
   "id": "47fa4c54-d325-46fc-9d17-d7193ce57d36",
   "metadata": {},
   "outputs": [],
   "source": [
    "dim = 6\n",
    "B = qinfer.tomography.gell_mann_basis(dim)\n",
    "G = []\n",
    "for i in range(1,len(B)):\n",
    "    G.append(np.matrix(B[i].full()))\n"
   ]
  },
  {
   "cell_type": "markdown",
   "id": "c4c31b5d-e827-4ad5-bdf8-0982bf836c3c",
   "metadata": {},
   "source": [
    "## Determine if the center of the subgroup is the trivial center"
   ]
  },
  {
   "cell_type": "code",
   "execution_count": 30,
   "id": "8297ef88-6a27-482f-ab62-a866fb798259",
   "metadata": {},
   "outputs": [],
   "source": [
    "# generate the adjoint of an operator in SU(d) in SO(d^2-1)\n",
    "def Ad(U,G):\n",
    "    d = len(G)\n",
    "    Ad_U = np.matrix(np.zeros((d,d),dtype=complex))\n",
    "    for i in range(d):\n",
    "        for j  in range(d):\n",
    "            Ad_U[i,j] = -1/2 * np.trace(G[i]*U*G[j]*np.linalg.inv(U))\n",
    "    return Ad_U\n",
    "\n",
    "def check_Center(S,G):\n",
    "    dim = len(G)\n",
    "    I = np.matrix(np.eye(dim))\n",
    "    Ms = np.matrix(np.zeros((dim**2*len(S),dim**2),dtype=complex))\n",
    "    for i,gate in enumerate(S):\n",
    "        Ms[i*dim**2:(i+1)*dim**2,:] = np.kron(I,Ad(gate,G)) - np.kron(Ad(np.conj(gate.T),G),I)\n",
    "        \n",
    "    dim_ker = len(G)**2 - np.linalg.matrix_rank(Ms)\n",
    "    return dim_ker == 1"
   ]
  },
  {
   "cell_type": "code",
   "execution_count": 32,
   "id": "99df4084-796b-46e7-8b68-09928b4a3526",
   "metadata": {},
   "outputs": [
    {
     "data": {
      "text/plain": [
       "matrix([[-0.5+0.j, -0. +0.j, -0. +0.j, ..., -0. +0.j, -0. +0.j, -0. +0.j],\n",
       "        [-0. +0.j, -0.5+0.j, -0. +0.j, ..., -0. +0.j, -0. +0.j, -0. +0.j],\n",
       "        [-0. +0.j, -0. +0.j, -0.5+0.j, ..., -0. +0.j, -0. +0.j, -0. +0.j],\n",
       "        ...,\n",
       "        [-0. +0.j, -0. +0.j, -0. +0.j, ..., -0.5+0.j, -0. +0.j, -0. +0.j],\n",
       "        [-0. +0.j, -0. +0.j, -0. +0.j, ..., -0. +0.j, -0.5+0.j, -0. +0.j],\n",
       "        [-0. +0.j, -0. +0.j, -0. +0.j, ..., -0. +0.j, -0. +0.j, -0.5+0.j]])"
      ]
     },
     "execution_count": 32,
     "metadata": {},
     "output_type": "execute_result"
    }
   ],
   "source": [
    "check_Center(S,G)\n",
    "Ad(np.eye(6),G)"
   ]
  },
  {
   "cell_type": "markdown",
   "id": "be42a312-9e00-4d4a-a20b-d5cd6b8a7261",
   "metadata": {},
   "source": [
    "## Determine if the Subgroup is infinite or finite"
   ]
  },
  {
   "cell_type": "code",
   "execution_count": 14,
   "id": "003e33f7-5b98-4f43-b6c1-5e9257fd3612",
   "metadata": {},
   "outputs": [],
   "source": [
    "def ball_check(gate,N):\n",
    "    dim = gate.shape[0]\n",
    "    alphas = [np.exp(1j*2*np.pi/dim*m) for m in range(6)]\n",
    "    nth_gate = gate\n",
    "    for n in range(N):\n",
    "        trace = np.trace(nth_gate)\n",
    "        for alpha in alphas:\n",
    "            if (2*(dim) - alpha*np.conj(trace) - np.conj(alpha)*trace <= 1/2): # check if it is in B\n",
    "                if not np.allclose(nth_gate/nth_gate[0,0],np.eye(dim)): #check if it is in the center\n",
    "                    print(nth_gate)\n",
    "                    return True\n",
    "        nth_gate = nth_gate @ gate # increase the power by one\n",
    "    return False\n",
    "\n",
    "\n",
    "def ball_check_eigs(gate,N):\n",
    "    dim = gate.shape[0]\n",
    "    eig,_ = np.linalg.eig(gate) \n",
    "    for n in range(N):\n",
    "        for m in range(dim):\n",
    "            theta = 2*np.pi*m/dim\n",
    "            eig_sum = 0\n",
    "            for i in range(dim):\n",
    "                phi = n*np.angle(eig[i])\n",
    "                eig_sum += np.sin((phi-theta)/2)**2\n",
    "            if eig_sum < 1/8:\n",
    "                if not np.allclose(eig**n,eig[0]**n*np.ones(dim)): # make sure all the eigenvalues arent the same\n",
    "                    return True\n",
    "    return False\n"
   ]
  },
  {
   "cell_type": "code",
   "execution_count": 15,
   "id": "5fc0c67c-4efa-47d3-93ce-1036c850bab1",
   "metadata": {},
   "outputs": [],
   "source": [
    "def test_close(A,B):\n",
    "    dim = B.shape[0]\n",
    "    return math.isclose(np.abs(np.trace(np.conj(A.T)@B)),dim,rel_tol=1e-2)\n",
    "\n",
    "\n",
    "def add_unique_bool(new_elems, group_elems):\n",
    "    added = False\n",
    "    for new_elem in new_elems:\n",
    "        flag = False\n",
    "        for group_elem in group_elems:\n",
    "            if test_close(new_elem,group_elem):\n",
    "                flag = True\n",
    "                break\n",
    "        if not(flag): \n",
    "            group_elems.append(new_elem)\n",
    "            added = True\n",
    "    return added\n",
    "\n",
    "def add_unique_num(new_elems, group_elems):\n",
    "    added = 0\n",
    "    for new_elem in new_elems:\n",
    "        flag = False\n",
    "        for group_elem in group_elems:\n",
    "            if test_close(new_elem,group_elem):\n",
    "                flag = True\n",
    "                break\n",
    "        if not(flag): \n",
    "            group_elems.append(new_elem)\n",
    "            added += 1\n",
    "    return added"
   ]
  },
  {
   "cell_type": "code",
   "execution_count": 16,
   "id": "69e9d521-5000-4a41-b91b-7511c82a8787",
   "metadata": {},
   "outputs": [],
   "source": [
    "def check_Finite(S,N,lmax):\n",
    "    dim = S[0].shape[0]\n",
    "    G_s = [np.matrix(np.eye(dim))]\n",
    "    for l in range(lmax):# check words up to length 10 starting at l = 0\n",
    "        new_gates = []\n",
    "        for gate in G_s: \n",
    "            if ball_check(gate,N):\n",
    "                print('Infinite',gate) # if it is infinite also output the gate that is part of the ball and not the center\n",
    "                return [False,-1]\n",
    "            for U in S:\n",
    "                new_gates.append(gate@U) # might be adding duplicate elements \n",
    "        print('l = ',l)\n",
    "        if add_unique_bool(new_gates,G_s) == 0:\n",
    "            return [True,len(G_s)]\n",
    "    return [True,len(G_s)]\n",
    "\n",
    "\n",
    "def check_Finite_eigs(S,N,lmax):\n",
    "    dim = S[0].shape[0]\n",
    "    G_s = [np.matrix(np.eye(dim))]\n",
    "    new_index = 0\n",
    "    next_index = 1\n",
    "    for l in range(lmax):# check words up to length lmax starting at l = 0\n",
    "        new_gates = deque()\n",
    "        for gate in G_s[new_index:]: \n",
    "            if ball_check_eigs(gate,N):\n",
    "                print('Infinite',gate) # if it is infinite also output the gate that is part of the ball and not the center\n",
    "                return [False,-1]\n",
    "            for U in S:\n",
    "                new_gates.append(gate@U) \n",
    "      \n",
    "        num_added = add_unique_num(np.array(new_gates),G_s)\n",
    "        print('l = ',l, 'current size = ', len(G_s))\n",
    "        new_index = next_index\n",
    "        next_index += num_added \n",
    "        if num_added == 0:\n",
    "            return [True,len(G_s)]\n",
    "    return [True,len(G_s)]"
   ]
  },
  {
   "cell_type": "code",
   "execution_count": 204,
   "id": "54dbeae2-1384-4cd2-821e-9faaf33ea447",
   "metadata": {},
   "outputs": [
    {
     "name": "stdout",
     "output_type": "stream",
     "text": [
      "l =  0 current size =  3\n",
      "l =  1 current size =  7\n",
      "l =  2 current size =  14\n",
      "l =  3 current size =  26\n",
      "l =  4 current size =  46\n",
      "l =  5 current size =  75\n",
      "l =  6 current size =  114\n",
      "l =  7 current size =  160\n",
      "l =  8 current size =  197\n",
      "l =  9 current size =  212\n",
      "l =  10 current size =  216\n",
      "l =  11 current size =  216\n"
     ]
    },
    {
     "data": {
      "text/plain": [
       "[True, 216]"
      ]
     },
     "execution_count": 204,
     "metadata": {},
     "output_type": "execute_result"
    }
   ],
   "source": [
    "check_Finite_eigs(S,10,13)"
   ]
  },
  {
   "cell_type": "code",
   "execution_count": 151,
   "id": "6e41261c-dc0f-4b57-bb2e-81bf542197ce",
   "metadata": {},
   "outputs": [
    {
     "ename": "TypeError",
     "evalue": "list.append() takes exactly one argument (3 given)",
     "output_type": "error",
     "traceback": [
      "\u001b[0;31m---------------------------------------------------------------------------\u001b[0m",
      "\u001b[0;31mTypeError\u001b[0m                                 Traceback (most recent call last)",
      "\u001b[0;32m/var/folders/cl/131my1d14z537kcq7ydt4xyc0000gp/T/ipykernel_46107/2487364157.py\u001b[0m in \u001b[0;36m<module>\u001b[0;34m\u001b[0m\n\u001b[1;32m      1\u001b[0m \u001b[0ma\u001b[0m \u001b[0;34m=\u001b[0m \u001b[0;34m[\u001b[0m\u001b[0;36m1\u001b[0m\u001b[0;34m,\u001b[0m\u001b[0;36m2\u001b[0m\u001b[0;34m,\u001b[0m\u001b[0;36m3\u001b[0m\u001b[0;34m]\u001b[0m\u001b[0;34m\u001b[0m\u001b[0;34m\u001b[0m\u001b[0m\n\u001b[0;32m----> 2\u001b[0;31m \u001b[0ma\u001b[0m\u001b[0;34m.\u001b[0m\u001b[0mappend\u001b[0m\u001b[0;34m(\u001b[0m\u001b[0;36m4\u001b[0m\u001b[0;34m,\u001b[0m\u001b[0;36m5\u001b[0m\u001b[0;34m,\u001b[0m\u001b[0;36m6\u001b[0m\u001b[0;34m)\u001b[0m\u001b[0;34m\u001b[0m\u001b[0;34m\u001b[0m\u001b[0m\n\u001b[0m\u001b[1;32m      3\u001b[0m \u001b[0ma\u001b[0m\u001b[0;34m\u001b[0m\u001b[0;34m\u001b[0m\u001b[0m\n",
      "\u001b[0;31mTypeError\u001b[0m: list.append() takes exactly one argument (3 given)"
     ]
    }
   ],
   "source": [
    "a = [1,2,3]\n",
    "a.append(4,5,6)\n",
    "a"
   ]
  },
  {
   "cell_type": "markdown",
   "id": "c159413d-70d9-4e8f-bda9-2b1aa88a1b0b",
   "metadata": {},
   "source": [
    "## Example: Finding the dimension of the Clifford group for qudits\n",
    "We expect that the dimension should be $d^3(d^2-1)$"
   ]
  },
  {
   "cell_type": "code",
   "execution_count": 233,
   "id": "361f89bd-152e-498e-8b7f-8a5d0896fbc2",
   "metadata": {},
   "outputs": [
    {
     "name": "stdout",
     "output_type": "stream",
     "text": [
      "l =  0 current size =  4\n",
      "l =  1 current size =  12\n",
      "l =  2 current size =  32\n",
      "l =  3 current size =  79\n",
      "l =  4 current size =  183\n",
      "l =  5 current size =  396\n",
      "l =  6 current size =  792\n",
      "l =  7 current size =  1452\n",
      "l =  8 current size =  2392\n",
      "l =  9 current size =  3519\n",
      "l =  10 current size =  4551\n",
      "l =  11 current size =  5092\n",
      "l =  12 current size =  5183\n",
      "l =  13 current size =  5184\n",
      "l =  14 current size =  5184\n",
      "calculated =  5184\n"
     ]
    }
   ],
   "source": [
    "dim = 6\n",
    "S = [S_gate(dim),H_gate(dim),Z_gate(dim)]\n",
    "a,number = check_Finite_eigs(S,10,20)\n",
    "print('calculated = ', number )"
   ]
  },
  {
   "cell_type": "code",
   "execution_count": 164,
   "id": "b7f24020-abab-475f-9ab9-ce17b4479a55",
   "metadata": {},
   "outputs": [],
   "source": [
    "def check_universal(S,N=10,lmax=100):\n",
    "    dim = S[0].shape[0]\n",
    "    B = qinfer.tomography.gell_mann_basis(dim)\n",
    "    G = []\n",
    "    for i in range(1,len(B)):\n",
    "        G.append(np.matrix(B[i].full()))\n",
    "    center = check_Center(S,G)\n",
    "    if not center:\n",
    "        return False\n",
    "    ball,number = check_Finite_eigs(S,N,lmax)\n",
    "    return ball"
   ]
  },
  {
   "cell_type": "code",
   "execution_count": 18,
   "id": "c79457a9-6049-44d9-9aef-6512547ade07",
   "metadata": {},
   "outputs": [
    {
     "name": "stdout",
     "output_type": "stream",
     "text": [
      "l =  0 current size =  4\n",
      "l =  1 current size =  10\n",
      "Infinite [[ 0.70710678+0.j   0.5       +0.5j]\n",
      " [ 0.70710678+0.j  -0.5       -0.5j]]\n",
      "calculated =  -1\n"
     ]
    }
   ],
   "source": []
  },
  {
   "cell_type": "code",
   "execution_count": 189,
   "id": "06c1e8bc-c8c7-4322-ad62-9f413cb6e966",
   "metadata": {},
   "outputs": [],
   "source": [
    "for i,gate in enumerate(number):\n",
    "    for j,gate_2 in enumerate(number):\n",
    "        if i !=j:\n",
    "            if np.abs(np.trace(np.conj(gate.T)@gate_2))> 3.2:\n",
    "                print(np.abs(np.trace(np.conj(gate.T)@gate_2)))\n",
    "\n"
   ]
  },
  {
   "cell_type": "code",
   "execution_count": null,
   "id": "a463658e-2b8b-4f98-911d-8a0a2a8e3669",
   "metadata": {},
   "outputs": [],
   "source": []
  }
 ],
 "metadata": {
  "kernelspec": {
   "display_name": "Python 3 (ipykernel)",
   "language": "python",
   "name": "python3"
  },
  "language_info": {
   "codemirror_mode": {
    "name": "ipython",
    "version": 3
   },
   "file_extension": ".py",
   "mimetype": "text/x-python",
   "name": "python",
   "nbconvert_exporter": "python",
   "pygments_lexer": "ipython3",
   "version": "3.9.7"
  }
 },
 "nbformat": 4,
 "nbformat_minor": 5
}
