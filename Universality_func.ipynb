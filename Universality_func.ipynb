{
 "cells": [
  {
   "cell_type": "code",
   "execution_count": 154,
   "id": "a5e13fc5-7a8e-4915-a4ea-f4bbc524564f",
   "metadata": {},
   "outputs": [],
   "source": [
    "import numpy as np\n",
    "import math\n",
    "import qinfer\n",
    "from collections import deque"
   ]
  },
  {
   "cell_type": "markdown",
   "id": "3df6439f-c604-4de4-a8a0-32e453441291",
   "metadata": {},
   "source": [
    "## Define the gate set"
   ]
  },
  {
   "cell_type": "markdown",
   "id": "7ada3dfb-f310-42b9-b614-d8df5483a57b",
   "metadata": {},
   "source": [
    "### Helper functions for making common gates\n"
   ]
  },
  {
   "cell_type": "code",
   "execution_count": null,
   "id": "3c410411-a295-42b0-9d8f-ab46c509ed81",
   "metadata": {},
   "outputs": [],
   "source": [
    "def S_gate(dim):\n",
    "    if dim == 2:\n",
    "        return np.matrix(np.diag([1,1j]))\n",
    "    omega = np.exp(1j*2*np.pi/dim)\n",
    "    S_gate = np.zeros((dim,dim),dtype=complex)\n",
    "    for i in range(dim):\n",
    "        S_gate[i,i] = omega**(i*(i+1)/2)\n",
    "    return S_gate\n",
    "\n",
    "def H_gate(dim):\n",
    "    if dim == 2:\n",
    "        return np.matrix(1/np.sqrt(2)*[1,1],[1,-1])\n",
    "    omega = np.exp(1j*2*np.pi/dim)\n",
    "    H = np.zeros((dim,dim),dtype=complex)\n",
    "    for i in range(dim):\n",
    "        for j in range(dim):\n",
    "            H[i,j] = 1/math.sqrt(dim) * omega**(j*i)\n",
    "    return H"
   ]
  },
  {
   "cell_type": "code",
   "execution_count": null,
   "id": "c4a736dc-5ce3-461c-9019-aa1132a8a36b",
   "metadata": {},
   "outputs": [],
   "source": [
    "H_gate(2)"
   ]
  },
  {
   "cell_type": "code",
   "execution_count": 3,
   "id": "010f0f74-e53f-40f9-813b-f942dcb145e8",
   "metadata": {},
   "outputs": [],
   "source": [
    "S = [S_gate(3),H_gate(3)]"
   ]
  },
  {
   "cell_type": "markdown",
   "id": "ba31f1ec-ab9f-4ea5-9c1e-9693989b13b2",
   "metadata": {},
   "source": [
    "## Finding Adjoint representation in SO(d^2-1)"
   ]
  },
  {
   "cell_type": "markdown",
   "id": "1d0e84ba-d477-4964-a2f0-2baa46f97e4c",
   "metadata": {},
   "source": [
    "Generators of $\\mathfrak{s u}(d)$ are found in mathematica via the approach found in https://mathematica.stackexchange.com/questions/159014/calculate-representations-of-sun-generators\n",
    "\n"
   ]
  },
  {
   "cell_type": "code",
   "execution_count": 68,
   "id": "47fa4c54-d325-46fc-9d17-d7193ce57d36",
   "metadata": {},
   "outputs": [
    {
     "data": {
      "text/plain": [
       "[matrix([[ 0.70710678+0.j,  0.        +0.j,  0.        +0.j],\n",
       "         [ 0.        +0.j, -0.70710678+0.j,  0.        +0.j],\n",
       "         [ 0.        +0.j,  0.        +0.j,  0.        +0.j]]),\n",
       " matrix([[ 0.40824829+0.j,  0.        +0.j,  0.        +0.j],\n",
       "         [ 0.        +0.j,  0.40824829+0.j,  0.        +0.j],\n",
       "         [ 0.        +0.j,  0.        +0.j, -0.81649658+0.j]]),\n",
       " matrix([[0.        +0.j, 0.70710678+0.j, 0.        +0.j],\n",
       "         [0.70710678+0.j, 0.        +0.j, 0.        +0.j],\n",
       "         [0.        +0.j, 0.        +0.j, 0.        +0.j]]),\n",
       " matrix([[0.        +0.j, 0.        +0.j, 0.70710678+0.j],\n",
       "         [0.        +0.j, 0.        +0.j, 0.        +0.j],\n",
       "         [0.70710678+0.j, 0.        +0.j, 0.        +0.j]]),\n",
       " matrix([[0.        +0.j, 0.        +0.j, 0.        +0.j],\n",
       "         [0.        +0.j, 0.        +0.j, 0.70710678+0.j],\n",
       "         [0.        +0.j, 0.70710678+0.j, 0.        +0.j]]),\n",
       " matrix([[0.+0.j        , 0.-0.70710678j, 0.+0.j        ],\n",
       "         [0.+0.70710678j, 0.+0.j        , 0.+0.j        ],\n",
       "         [0.+0.j        , 0.+0.j        , 0.+0.j        ]]),\n",
       " matrix([[0.+0.j        , 0.+0.j        , 0.-0.70710678j],\n",
       "         [0.+0.j        , 0.+0.j        , 0.+0.j        ],\n",
       "         [0.+0.70710678j, 0.+0.j        , 0.+0.j        ]]),\n",
       " matrix([[0.+0.j        , 0.+0.j        , 0.+0.j        ],\n",
       "         [0.+0.j        , 0.+0.j        , 0.-0.70710678j],\n",
       "         [0.+0.j        , 0.+0.70710678j, 0.+0.j        ]])]"
      ]
     },
     "execution_count": 68,
     "metadata": {},
     "output_type": "execute_result"
    }
   ],
   "source": [
    "dim = 3\n",
    "B = qinfer.tomography.gell_mann_basis(dim)\n",
    "G = []\n",
    "for i in range(1,len(B)):\n",
    "    G.append(np.matrix(B[i].full()))\n",
    "G"
   ]
  },
  {
   "cell_type": "markdown",
   "id": "c4c31b5d-e827-4ad5-bdf8-0982bf836c3c",
   "metadata": {},
   "source": [
    "## Determine if the center of the subgroup is the trivial center"
   ]
  },
  {
   "cell_type": "code",
   "execution_count": 122,
   "id": "8297ef88-6a27-482f-ab62-a866fb798259",
   "metadata": {},
   "outputs": [],
   "source": [
    "# generate the adjoint of an operator in SU(d) in SO(d^2-1)\n",
    "def Ad(U,G):\n",
    "    d = len(G)\n",
    "    Ad_U = np.matrix(np.zeros((d,d),dtype=complex))\n",
    "    for i in range(d):\n",
    "        for j  in range(d):\n",
    "            Ad_U[i,j] = -1/2 * np.trace(G[i]*U*G[j]*np.linalg.inv(U))\n",
    "    return Ad_U\n",
    "\n",
    "def check_Center(S,G):\n",
    "    dim = len(G)\n",
    "    I = np.matrix(np.eye(dim))\n",
    "    Ms = np.matrix(np.zeros((dim**2*len(S),dim**2),dtype=complex))\n",
    "    for i,gate in enumerate(S):\n",
    "        Ms[i*dim**2:(i+1)*dim**2,:] = np.kron(I,Ad(gate,G)) - np.kron(Ad(np.conj(gate.T),G),I)\n",
    "        \n",
    "    dim_ker = len(G)**2 - np.linalg.matrix_rank(Ms)\n",
    "    return dim_ker == 1"
   ]
  },
  {
   "cell_type": "code",
   "execution_count": null,
   "id": "99df4084-796b-46e7-8b68-09928b4a3526",
   "metadata": {},
   "outputs": [],
   "source": [
    "check_Center(S,G)"
   ]
  },
  {
   "cell_type": "markdown",
   "id": "be42a312-9e00-4d4a-a20b-d5cd6b8a7261",
   "metadata": {},
   "source": [
    "## Determine if the Subgroup is infinite or finite"
   ]
  },
  {
   "cell_type": "code",
   "execution_count": null,
   "id": "003e33f7-5b98-4f43-b6c1-5e9257fd3612",
   "metadata": {},
   "outputs": [],
   "source": [
    "def ball_check(gate,N):\n",
    "    dim = gate.shape[0]\n",
    "    alphas = [np.exp(1j*2*np.pi/dim*m) for m in range(6)]\n",
    "    nth_gate = gate\n",
    "    for n in range(N):\n",
    "        trace = np.trace(nth_gate)\n",
    "        for alpha in alphas:\n",
    "            if (2*(dim) - alpha*np.conj(trace) - np.conj(alpha)*trace <= 1/2): # check if it is in B\n",
    "                if not np.allclose(nth_gate/nth_gate[0,0],np.eye(dim)): #check if it is in the center\n",
    "                    print(nth_gate)\n",
    "                    return True\n",
    "        nth_gate = nth_gate @ gate # increase the power by one\n",
    "    return False\n",
    "\n",
    "\n",
    "def ball_check_eigs(gate,N):\n",
    "    dim = gate.shape[0]\n",
    "    eig,_ = np.linalg.eig(gate) \n",
    "    for n in range(N):\n",
    "        for m in range(dim):\n",
    "            theta = 2*np.pi*m/dim\n",
    "            eig_sum = 0\n",
    "            for i in range(dim):\n",
    "                phi = n*np.angle(eig[i])\n",
    "                eig_sum += np.sin((phi-theta)/2)**2\n",
    "            if eig_sum < 1/8:\n",
    "                if not np.allclose(eig,eig[0]*np.ones(dim)): # make sure all the eigenvalues arent the same\n",
    "                    return True\n",
    "    return False\n"
   ]
  },
  {
   "cell_type": "code",
   "execution_count": 175,
   "id": "5fc0c67c-4efa-47d3-93ce-1036c850bab1",
   "metadata": {},
   "outputs": [],
   "source": [
    "def test_close(A,B):\n",
    "    dim = B.shape[0]\n",
    "    return math.isclose(np.abs(np.trace(np.conj(A.T)@B)),dim,rel_tol=1e-2)\n",
    "\n",
    "\n",
    "def add_unique_bool(new_elems, group_elems):\n",
    "    added = False\n",
    "    for new_elem in new_elems:\n",
    "        flag = False\n",
    "        for group_elem in group_elems:\n",
    "            if test_close(new_elem,group_elem):\n",
    "                flag = True\n",
    "                break\n",
    "        if not(flag): \n",
    "            group_elems.append(new_elem)\n",
    "            added = True\n",
    "    return added\n",
    "\n",
    "def add_unique_num(new_elems, group_elems):\n",
    "    added = 0\n",
    "    for new_elem in new_elems:\n",
    "        flag = False\n",
    "        for group_elem in group_elems:\n",
    "            if test_close(new_elem,group_elem):\n",
    "                flag = True\n",
    "                break\n",
    "        if not(flag): \n",
    "            group_elems.append(new_elem)\n",
    "            added += 1\n",
    "    return added"
   ]
  },
  {
   "cell_type": "code",
   "execution_count": 176,
   "id": "69e9d521-5000-4a41-b91b-7511c82a8787",
   "metadata": {},
   "outputs": [],
   "source": [
    "def check_Finite(S,N,lmax):\n",
    "    dim = S[0].shape[0]\n",
    "    G_s = [np.matrix(np.eye(dim))]\n",
    "    for l in range(lmax):# check words up to length 10 starting at l = 0\n",
    "        new_gates = []\n",
    "        for gate in G_s: \n",
    "            if ball_check(gate,N):\n",
    "                print('Infinite',gate) # if it is infinite also output the gate that is part of the ball and not the center\n",
    "                return [False,-1]\n",
    "            for U in S:\n",
    "                new_gates.append(gate@U) # might be adding duplicate elements \n",
    "        print('l = ',l)\n",
    "        if add_unique_bool(new_gates,G_s) == 0:\n",
    "            return [True,len(G_s)]\n",
    "    return [True,len(G_s)]\n",
    "\n",
    "\n",
    "def check_Finite_eigs(S,N,lmax):\n",
    "    dim = S[0].shape[0]\n",
    "    G_s = [np.matrix(np.eye(dim))]\n",
    "    new_index = 0\n",
    "    next_index = 1\n",
    "    for l in range(lmax):# check words up to length 10 starting at l = 0\n",
    "        new_gates = deque()\n",
    "        for gate in G_s[new_index:]: \n",
    "            if ball_check_eigs(gate,N):\n",
    "                print('Infinite',gate) # if it is infinite also output the gate that is part of the ball and not the center\n",
    "                return [False,-1]\n",
    "            for U in S:\n",
    "                new_gates.append(gate@U) # might be adding duplicate elements \n",
    "      \n",
    "        num_added = add_unique_num(np.array(new_gates),G_s)\n",
    "        print('l = ',l, 'current size = ', len(G_s))\n",
    "        new_index = next_index\n",
    "        next_index += num_added \n",
    "        if num_added == 0:\n",
    "            return [True,len(G_s)]\n",
    "    return [True,len(G_s)]"
   ]
  },
  {
   "cell_type": "code",
   "execution_count": 168,
   "id": "54dbeae2-1384-4cd2-821e-9faaf33ea447",
   "metadata": {},
   "outputs": [
    {
     "name": "stdout",
     "output_type": "stream",
     "text": [
      "l =  0 current size =  3\n",
      "l =  1 current size =  7\n",
      "l =  2 current size =  14\n",
      "l =  3 current size =  26\n",
      "l =  4 current size =  43\n",
      "l =  5 current size =  68\n",
      "l =  6 current size =  103\n",
      "l =  7 current size =  142\n",
      "l =  8 current size =  177\n",
      "l =  9 current size =  202\n",
      "l =  10 current size =  214\n",
      "l =  11 current size =  216\n",
      "l =  12 current size =  216\n"
     ]
    },
    {
     "data": {
      "text/plain": [
       "[True, 216]"
      ]
     },
     "execution_count": 168,
     "metadata": {},
     "output_type": "execute_result"
    }
   ],
   "source": [
    "check_Finite_eigs(S,10,13)"
   ]
  },
  {
   "cell_type": "code",
   "execution_count": 151,
   "id": "6e41261c-dc0f-4b57-bb2e-81bf542197ce",
   "metadata": {},
   "outputs": [
    {
     "ename": "TypeError",
     "evalue": "list.append() takes exactly one argument (3 given)",
     "output_type": "error",
     "traceback": [
      "\u001b[0;31m---------------------------------------------------------------------------\u001b[0m",
      "\u001b[0;31mTypeError\u001b[0m                                 Traceback (most recent call last)",
      "\u001b[0;32m/var/folders/cl/131my1d14z537kcq7ydt4xyc0000gp/T/ipykernel_46107/2487364157.py\u001b[0m in \u001b[0;36m<module>\u001b[0;34m\u001b[0m\n\u001b[1;32m      1\u001b[0m \u001b[0ma\u001b[0m \u001b[0;34m=\u001b[0m \u001b[0;34m[\u001b[0m\u001b[0;36m1\u001b[0m\u001b[0;34m,\u001b[0m\u001b[0;36m2\u001b[0m\u001b[0;34m,\u001b[0m\u001b[0;36m3\u001b[0m\u001b[0;34m]\u001b[0m\u001b[0;34m\u001b[0m\u001b[0;34m\u001b[0m\u001b[0m\n\u001b[0;32m----> 2\u001b[0;31m \u001b[0ma\u001b[0m\u001b[0;34m.\u001b[0m\u001b[0mappend\u001b[0m\u001b[0;34m(\u001b[0m\u001b[0;36m4\u001b[0m\u001b[0;34m,\u001b[0m\u001b[0;36m5\u001b[0m\u001b[0;34m,\u001b[0m\u001b[0;36m6\u001b[0m\u001b[0;34m)\u001b[0m\u001b[0;34m\u001b[0m\u001b[0;34m\u001b[0m\u001b[0m\n\u001b[0m\u001b[1;32m      3\u001b[0m \u001b[0ma\u001b[0m\u001b[0;34m\u001b[0m\u001b[0;34m\u001b[0m\u001b[0m\n",
      "\u001b[0;31mTypeError\u001b[0m: list.append() takes exactly one argument (3 given)"
     ]
    }
   ],
   "source": [
    "a = [1,2,3]\n",
    "a.append(4,5,6)\n",
    "a"
   ]
  },
  {
   "cell_type": "markdown",
   "id": "c159413d-70d9-4e8f-bda9-2b1aa88a1b0b",
   "metadata": {},
   "source": [
    "## Example: Finding the dimension of the Clifford group for qudits\n",
    "We expect that the dimension should be $d^3(d^2-1)$"
   ]
  },
  {
   "cell_type": "code",
   "execution_count": 177,
   "id": "361f89bd-152e-498e-8b7f-8a5d0896fbc2",
   "metadata": {},
   "outputs": [
    {
     "name": "stdout",
     "output_type": "stream",
     "text": [
      "l =  0 current size =  3\n",
      "l =  1 current size =  7\n",
      "l =  2 current size =  15\n",
      "l =  3 current size =  29\n",
      "l =  4 current size =  55\n",
      "l =  5 current size =  102\n",
      "l =  6 current size =  184\n",
      "l =  7 current size =  325\n",
      "l =  8 current size =  568\n",
      "l =  9 current size =  986\n",
      "l =  10 current size =  1704\n",
      "l =  11 current size =  2926\n",
      "l =  12 current size =  4981\n",
      "l =  13 current size =  8416\n"
     ]
    },
    {
     "ename": "KeyboardInterrupt",
     "evalue": "",
     "output_type": "error",
     "traceback": [
      "\u001b[0;31m---------------------------------------------------------------------------\u001b[0m",
      "\u001b[0;31mKeyboardInterrupt\u001b[0m                         Traceback (most recent call last)",
      "\u001b[0;32m/var/folders/cl/131my1d14z537kcq7ydt4xyc0000gp/T/ipykernel_46107/1203158413.py\u001b[0m in \u001b[0;36m<module>\u001b[0;34m\u001b[0m\n\u001b[1;32m      1\u001b[0m \u001b[0mdim\u001b[0m \u001b[0;34m=\u001b[0m \u001b[0;36m4\u001b[0m\u001b[0;34m\u001b[0m\u001b[0;34m\u001b[0m\u001b[0m\n\u001b[1;32m      2\u001b[0m \u001b[0mS\u001b[0m \u001b[0;34m=\u001b[0m \u001b[0;34m[\u001b[0m\u001b[0mS_gate\u001b[0m\u001b[0;34m(\u001b[0m\u001b[0mdim\u001b[0m\u001b[0;34m)\u001b[0m\u001b[0;34m,\u001b[0m\u001b[0mH_gate\u001b[0m\u001b[0;34m(\u001b[0m\u001b[0mdim\u001b[0m\u001b[0;34m)\u001b[0m\u001b[0;34m]\u001b[0m\u001b[0;34m\u001b[0m\u001b[0;34m\u001b[0m\u001b[0m\n\u001b[0;32m----> 3\u001b[0;31m \u001b[0ma\u001b[0m\u001b[0;34m,\u001b[0m\u001b[0mnumber\u001b[0m \u001b[0;34m=\u001b[0m \u001b[0mcheck_Finite_eigs\u001b[0m\u001b[0;34m(\u001b[0m\u001b[0mS\u001b[0m\u001b[0;34m,\u001b[0m\u001b[0;36m1\u001b[0m\u001b[0;34m,\u001b[0m\u001b[0;36m20\u001b[0m\u001b[0;34m)\u001b[0m\u001b[0;34m\u001b[0m\u001b[0;34m\u001b[0m\u001b[0m\n\u001b[0m\u001b[1;32m      4\u001b[0m \u001b[0mprint\u001b[0m\u001b[0;34m(\u001b[0m\u001b[0;34m'calculated = '\u001b[0m\u001b[0;34m,\u001b[0m \u001b[0mnumber\u001b[0m \u001b[0;34m,\u001b[0m\u001b[0;34m'expected = '\u001b[0m\u001b[0;34m,\u001b[0m\u001b[0mdim\u001b[0m\u001b[0;34m**\u001b[0m\u001b[0;36m3\u001b[0m\u001b[0;34m*\u001b[0m\u001b[0;34m(\u001b[0m\u001b[0mdim\u001b[0m\u001b[0;34m**\u001b[0m\u001b[0;36m2\u001b[0m\u001b[0;34m-\u001b[0m\u001b[0;36m1\u001b[0m\u001b[0;34m)\u001b[0m\u001b[0;34m)\u001b[0m\u001b[0;34m\u001b[0m\u001b[0;34m\u001b[0m\u001b[0m\n",
      "\u001b[0;32m/var/folders/cl/131my1d14z537kcq7ydt4xyc0000gp/T/ipykernel_46107/3768952682.py\u001b[0m in \u001b[0;36mcheck_Finite_eigs\u001b[0;34m(S, N, lmax)\u001b[0m\n\u001b[1;32m     30\u001b[0m                 \u001b[0mnew_gates\u001b[0m\u001b[0;34m.\u001b[0m\u001b[0mappend\u001b[0m\u001b[0;34m(\u001b[0m\u001b[0mgate\u001b[0m\u001b[0;34m@\u001b[0m\u001b[0mU\u001b[0m\u001b[0;34m)\u001b[0m \u001b[0;31m# might be adding duplicate elements\u001b[0m\u001b[0;34m\u001b[0m\u001b[0;34m\u001b[0m\u001b[0m\n\u001b[1;32m     31\u001b[0m \u001b[0;34m\u001b[0m\u001b[0m\n\u001b[0;32m---> 32\u001b[0;31m         \u001b[0mnum_added\u001b[0m \u001b[0;34m=\u001b[0m \u001b[0madd_unique_num\u001b[0m\u001b[0;34m(\u001b[0m\u001b[0mnp\u001b[0m\u001b[0;34m.\u001b[0m\u001b[0marray\u001b[0m\u001b[0;34m(\u001b[0m\u001b[0mnew_gates\u001b[0m\u001b[0;34m)\u001b[0m\u001b[0;34m,\u001b[0m\u001b[0mG_s\u001b[0m\u001b[0;34m)\u001b[0m\u001b[0;34m\u001b[0m\u001b[0;34m\u001b[0m\u001b[0m\n\u001b[0m\u001b[1;32m     33\u001b[0m         \u001b[0mprint\u001b[0m\u001b[0;34m(\u001b[0m\u001b[0;34m'l = '\u001b[0m\u001b[0;34m,\u001b[0m\u001b[0ml\u001b[0m\u001b[0;34m,\u001b[0m \u001b[0;34m'current size = '\u001b[0m\u001b[0;34m,\u001b[0m \u001b[0mlen\u001b[0m\u001b[0;34m(\u001b[0m\u001b[0mG_s\u001b[0m\u001b[0;34m)\u001b[0m\u001b[0;34m)\u001b[0m\u001b[0;34m\u001b[0m\u001b[0;34m\u001b[0m\u001b[0m\n\u001b[1;32m     34\u001b[0m         \u001b[0mnew_index\u001b[0m \u001b[0;34m=\u001b[0m \u001b[0mnext_index\u001b[0m\u001b[0;34m\u001b[0m\u001b[0;34m\u001b[0m\u001b[0m\n",
      "\u001b[0;32m/var/folders/cl/131my1d14z537kcq7ydt4xyc0000gp/T/ipykernel_46107/2802287689.py\u001b[0m in \u001b[0;36madd_unique_num\u001b[0;34m(new_elems, group_elems)\u001b[0m\n\u001b[1;32m     22\u001b[0m         \u001b[0mflag\u001b[0m \u001b[0;34m=\u001b[0m \u001b[0;32mFalse\u001b[0m\u001b[0;34m\u001b[0m\u001b[0;34m\u001b[0m\u001b[0m\n\u001b[1;32m     23\u001b[0m         \u001b[0;32mfor\u001b[0m \u001b[0mgroup_elem\u001b[0m \u001b[0;32min\u001b[0m \u001b[0mgroup_elems\u001b[0m\u001b[0;34m:\u001b[0m\u001b[0;34m\u001b[0m\u001b[0;34m\u001b[0m\u001b[0m\n\u001b[0;32m---> 24\u001b[0;31m             \u001b[0;32mif\u001b[0m \u001b[0mtest_close\u001b[0m\u001b[0;34m(\u001b[0m\u001b[0mnew_elem\u001b[0m\u001b[0;34m,\u001b[0m\u001b[0mgroup_elem\u001b[0m\u001b[0;34m)\u001b[0m\u001b[0;34m:\u001b[0m\u001b[0;34m\u001b[0m\u001b[0;34m\u001b[0m\u001b[0m\n\u001b[0m\u001b[1;32m     25\u001b[0m                 \u001b[0mflag\u001b[0m \u001b[0;34m=\u001b[0m \u001b[0;32mTrue\u001b[0m\u001b[0;34m\u001b[0m\u001b[0;34m\u001b[0m\u001b[0m\n\u001b[1;32m     26\u001b[0m                 \u001b[0;32mbreak\u001b[0m\u001b[0;34m\u001b[0m\u001b[0;34m\u001b[0m\u001b[0m\n",
      "\u001b[0;32m/var/folders/cl/131my1d14z537kcq7ydt4xyc0000gp/T/ipykernel_46107/2802287689.py\u001b[0m in \u001b[0;36mtest_close\u001b[0;34m(A, B)\u001b[0m\n\u001b[1;32m      1\u001b[0m \u001b[0;32mdef\u001b[0m \u001b[0mtest_close\u001b[0m\u001b[0;34m(\u001b[0m\u001b[0mA\u001b[0m\u001b[0;34m,\u001b[0m\u001b[0mB\u001b[0m\u001b[0;34m)\u001b[0m\u001b[0;34m:\u001b[0m\u001b[0;34m\u001b[0m\u001b[0;34m\u001b[0m\u001b[0m\n\u001b[1;32m      2\u001b[0m     \u001b[0mdim\u001b[0m \u001b[0;34m=\u001b[0m \u001b[0mB\u001b[0m\u001b[0;34m.\u001b[0m\u001b[0mshape\u001b[0m\u001b[0;34m[\u001b[0m\u001b[0;36m0\u001b[0m\u001b[0;34m]\u001b[0m\u001b[0;34m\u001b[0m\u001b[0;34m\u001b[0m\u001b[0m\n\u001b[0;32m----> 3\u001b[0;31m     \u001b[0;32mreturn\u001b[0m \u001b[0mmath\u001b[0m\u001b[0;34m.\u001b[0m\u001b[0misclose\u001b[0m\u001b[0;34m(\u001b[0m\u001b[0mnp\u001b[0m\u001b[0;34m.\u001b[0m\u001b[0mabs\u001b[0m\u001b[0;34m(\u001b[0m\u001b[0mnp\u001b[0m\u001b[0;34m.\u001b[0m\u001b[0mtrace\u001b[0m\u001b[0;34m(\u001b[0m\u001b[0mnp\u001b[0m\u001b[0;34m.\u001b[0m\u001b[0mconj\u001b[0m\u001b[0;34m(\u001b[0m\u001b[0mA\u001b[0m\u001b[0;34m.\u001b[0m\u001b[0mT\u001b[0m\u001b[0;34m)\u001b[0m\u001b[0;34m@\u001b[0m\u001b[0mB\u001b[0m\u001b[0;34m)\u001b[0m\u001b[0;34m)\u001b[0m\u001b[0;34m,\u001b[0m\u001b[0mdim\u001b[0m\u001b[0;34m,\u001b[0m\u001b[0mrel_tol\u001b[0m\u001b[0;34m=\u001b[0m\u001b[0;36m1e-2\u001b[0m\u001b[0;34m)\u001b[0m\u001b[0;34m\u001b[0m\u001b[0;34m\u001b[0m\u001b[0m\n\u001b[0m\u001b[1;32m      4\u001b[0m \u001b[0;34m\u001b[0m\u001b[0m\n\u001b[1;32m      5\u001b[0m \u001b[0;34m\u001b[0m\u001b[0m\n",
      "\u001b[0;32m<__array_function__ internals>\u001b[0m in \u001b[0;36mtrace\u001b[0;34m(*args, **kwargs)\u001b[0m\n",
      "\u001b[0;32m~/opt/anaconda3/lib/python3.9/site-packages/numpy/core/fromnumeric.py\u001b[0m in \u001b[0;36mtrace\u001b[0;34m(a, offset, axis1, axis2, dtype, out)\u001b[0m\n\u001b[1;32m   1707\u001b[0m         \u001b[0;32mreturn\u001b[0m \u001b[0masarray\u001b[0m\u001b[0;34m(\u001b[0m\u001b[0ma\u001b[0m\u001b[0;34m)\u001b[0m\u001b[0;34m.\u001b[0m\u001b[0mtrace\u001b[0m\u001b[0;34m(\u001b[0m\u001b[0moffset\u001b[0m\u001b[0;34m=\u001b[0m\u001b[0moffset\u001b[0m\u001b[0;34m,\u001b[0m \u001b[0maxis1\u001b[0m\u001b[0;34m=\u001b[0m\u001b[0maxis1\u001b[0m\u001b[0;34m,\u001b[0m \u001b[0maxis2\u001b[0m\u001b[0;34m=\u001b[0m\u001b[0maxis2\u001b[0m\u001b[0;34m,\u001b[0m \u001b[0mdtype\u001b[0m\u001b[0;34m=\u001b[0m\u001b[0mdtype\u001b[0m\u001b[0;34m,\u001b[0m \u001b[0mout\u001b[0m\u001b[0;34m=\u001b[0m\u001b[0mout\u001b[0m\u001b[0;34m)\u001b[0m\u001b[0;34m\u001b[0m\u001b[0;34m\u001b[0m\u001b[0m\n\u001b[1;32m   1708\u001b[0m     \u001b[0;32melse\u001b[0m\u001b[0;34m:\u001b[0m\u001b[0;34m\u001b[0m\u001b[0;34m\u001b[0m\u001b[0m\n\u001b[0;32m-> 1709\u001b[0;31m         \u001b[0;32mreturn\u001b[0m \u001b[0masanyarray\u001b[0m\u001b[0;34m(\u001b[0m\u001b[0ma\u001b[0m\u001b[0;34m)\u001b[0m\u001b[0;34m.\u001b[0m\u001b[0mtrace\u001b[0m\u001b[0;34m(\u001b[0m\u001b[0moffset\u001b[0m\u001b[0;34m=\u001b[0m\u001b[0moffset\u001b[0m\u001b[0;34m,\u001b[0m \u001b[0maxis1\u001b[0m\u001b[0;34m=\u001b[0m\u001b[0maxis1\u001b[0m\u001b[0;34m,\u001b[0m \u001b[0maxis2\u001b[0m\u001b[0;34m=\u001b[0m\u001b[0maxis2\u001b[0m\u001b[0;34m,\u001b[0m \u001b[0mdtype\u001b[0m\u001b[0;34m=\u001b[0m\u001b[0mdtype\u001b[0m\u001b[0;34m,\u001b[0m \u001b[0mout\u001b[0m\u001b[0;34m=\u001b[0m\u001b[0mout\u001b[0m\u001b[0;34m)\u001b[0m\u001b[0;34m\u001b[0m\u001b[0;34m\u001b[0m\u001b[0m\n\u001b[0m\u001b[1;32m   1710\u001b[0m \u001b[0;34m\u001b[0m\u001b[0m\n\u001b[1;32m   1711\u001b[0m \u001b[0;34m\u001b[0m\u001b[0m\n",
      "\u001b[0;31mKeyboardInterrupt\u001b[0m: "
     ]
    }
   ],
   "source": [
    "dim = 4\n",
    "S = [S_gate(dim),H_gate(dim)]\n",
    "a,number = check_Finite_eigs(S,1,20)\n",
    "print('calculated = ', number ,'expected = ',dim**3*(dim**2-1))"
   ]
  },
  {
   "cell_type": "code",
   "execution_count": 164,
   "id": "b7f24020-abab-475f-9ab9-ce17b4479a55",
   "metadata": {},
   "outputs": [],
   "source": [
    "def check_universal(S,N=10,lmax=100):\n",
    "    dim = S[0].shape[0]\n",
    "    B = qinfer.tomography.gell_mann_basis(dim)\n",
    "    G = []\n",
    "    for i in range(1,len(B)):\n",
    "        G.append(np.matrix(B[i].full()))\n",
    "    center = check_Center(S,G)\n",
    "    if not center:\n",
    "        return False\n",
    "    ball,number = check_Finite_eigs(S,N,lmax)\n",
    "    return ball"
   ]
  },
  {
   "cell_type": "code",
   "execution_count": 114,
   "id": "c79457a9-6049-44d9-9aef-6512547ade07",
   "metadata": {},
   "outputs": [
    {
     "data": {
      "text/plain": [
       "array([[ 1.00000000e+00+0.00000000e+00j, -1.38777878e-16-5.55111512e-17j,\n",
       "         8.32667268e-17-3.33066907e-16j],\n",
       "       [-1.38777878e-16+5.55111512e-17j,  1.00000000e+00+4.29380249e-18j,\n",
       "        -1.66533454e-16-1.11022302e-16j],\n",
       "       [ 8.32667268e-17+3.33066907e-16j, -1.66533454e-16+1.11022302e-16j,\n",
       "         1.00000000e+00-6.28656316e-18j]])"
      ]
     },
     "execution_count": 114,
     "metadata": {},
     "output_type": "execute_result"
    }
   ],
   "source": []
  },
  {
   "cell_type": "code",
   "execution_count": null,
   "id": "06c1e8bc-c8c7-4322-ad62-9f413cb6e966",
   "metadata": {},
   "outputs": [],
   "source": []
  }
 ],
 "metadata": {
  "kernelspec": {
   "display_name": "Python 3 (ipykernel)",
   "language": "python",
   "name": "python3"
  },
  "language_info": {
   "codemirror_mode": {
    "name": "ipython",
    "version": 3
   },
   "file_extension": ".py",
   "mimetype": "text/x-python",
   "name": "python",
   "nbconvert_exporter": "python",
   "pygments_lexer": "ipython3",
   "version": "3.9.7"
  }
 },
 "nbformat": 4,
 "nbformat_minor": 5
}
