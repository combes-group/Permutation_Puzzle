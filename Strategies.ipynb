{
 "cells": [
  {
   "cell_type": "code",
   "execution_count": 246,
   "id": "cbe9473e-fe69-43f5-82e6-518fbb01a7a0",
   "metadata": {},
   "outputs": [],
   "source": [
    "import numpy as np\n",
    "import scipy as sp\n",
    "import math\n",
    "import random\n",
    "import time\n",
    "import matplotlib.pyplot as plt\n",
    "import matplotlib.cm as cm"
   ]
  },
  {
   "cell_type": "markdown",
   "id": "009c89f0-c873-483e-9478-5657f9a81698",
   "metadata": {
    "tags": []
   },
   "source": [
    "### States"
   ]
  },
  {
   "cell_type": "code",
   "execution_count": 4,
   "id": "9c610a00-c04b-4cc1-a1dc-7da6dd6537f7",
   "metadata": {
    "tags": []
   },
   "outputs": [],
   "source": [
    "zero  = np.array([[1], [0], [0], [0], [0], [0]],dtype=complex)\n",
    "one   = np.array([[0], [1], [0], [0], [0], [0]],dtype=complex)\n",
    "two   = np.array([[0], [0], [1], [0], [0], [0]],dtype=complex)\n",
    "three = np.array([[0], [0], [0], [1], [0], [0]],dtype=complex)\n",
    "four  = np.array([[0], [0], [0], [0], [1], [0]],dtype=complex)\n",
    "five  = np.array([[0], [0], [0], [0], [0], [1]],dtype=complex)"
   ]
  },
  {
   "cell_type": "markdown",
   "id": "74d52449-ffe6-4fe1-aa13-e80962efbc72",
   "metadata": {},
   "source": [
    "### Permutations"
   ]
  },
  {
   "cell_type": "code",
   "execution_count": 5,
   "id": "4604dad3-1be5-414a-b57d-cd932ce34dbe",
   "metadata": {},
   "outputs": [],
   "source": [
    "SN = - zero@zero.T - one@one.T + five@two.T \\\n",
    "     +four@three.T+three@four.T+ two@five.T\n",
    "\n",
    "SS =  -zero@zero.T - one@one.T + five@three.T \\\n",
    "     +four@two.T+two@four.T+ three@five.T\n",
    "\n",
    "SE =  -two@two.T - three@three.T + five@one.T \\\n",
    "     +four@zero.T+zero@four.T+ one@five.T\n",
    "\n",
    "SW = - two@two.T - three@three.T + five@zero.T \\\n",
    "     +four@one.T+one@four.T+ zero@five.T\n",
    "\n",
    "D1 = zero@three.T + three@zero.T +one@two.T + two@one.T \\\n",
    "     -four@four.T - five@five.T\n",
    "\n",
    "D2 = zero@two.T + two@zero.T +one@three.T + three@one.T \\\n",
    "     -four@four.T - five@five.T\n",
    "\n",
    "rot_CW = zero@three.T + three@one.T + one@two.T + two@zero.T + four@five.T + five@four.T\n",
    "\n",
    "rot_CCW = rot_CW.T\n",
    "\n",
    "flip_V = zero@zero.T + one@one.T + three@two.T + two@three.T + four@five.T + five@four.T\n",
    "\n",
    "flip_H = zero@one.T + one@zero.T + three@three.T + two@two.T + four@five.T + five@four.T\n",
    "\n",
    "Id = zero@zero.T + one@one.T + two@two.T + \\\n",
    "     three@three.T + four@four.T + five@five.T"
   ]
  },
  {
   "cell_type": "markdown",
   "id": "0f6431d1-b89c-4588-a976-726af404a557",
   "metadata": {},
   "source": [
    "### Gate Set (S)"
   ]
  },
  {
   "cell_type": "code",
   "execution_count": 235,
   "id": "36dafe5d-c71f-4d48-b89a-a69cc0f48df2",
   "metadata": {
    "tags": []
   },
   "outputs": [],
   "source": [
    "Perms = [SN,SS,SE,SN]#D1,D2,flip_H,flip_V,rot_CW,rot_CCW]\n",
    "SQRT_SWAP = [(Id + 1j*P)/np.sqrt(2) for P in Perms]\n",
    "Quarter_Swap = [np.cos(np.pi/8)*Id + np.sin(np.pi/8)*1j*P for P in Perms]\n",
    "\n",
    "# Quantum agent's moves\n",
    "QS = []\n",
    "for move in SQRT_SWAP:\n",
    "    repeat = move\n",
    "    QS.append(repeat)\n",
    "    for i in range(3):\n",
    "        repeat = move @ repeat\n",
    "        QS.append(repeat)\n",
    "\n",
    "# Classical agent's moves\n",
    "CS = Perms\n"
   ]
  },
  {
   "cell_type": "markdown",
   "id": "5dc14f5e-4bf7-4a13-a5fd-96485102c4e4",
   "metadata": {},
   "source": [
    "## Scrambling"
   ]
  },
  {
   "cell_type": "code",
   "execution_count": 42,
   "id": "e3732cc5-29dd-48ae-a325-85ef9294356a",
   "metadata": {},
   "outputs": [],
   "source": [
    "Num_scrambles = 50\n",
    "min_length = 10\n",
    "max_length = 100\n",
    "Scrambles = []\n",
    "for i in range(Num_scrambles):\n",
    "    l = random.randint(min_length,max_length)\n",
    "    move_list = random.choices(QS,k=l)\n",
    "    state = zero\n",
    "    for move in move_list:\n",
    "        state = move @ state\n",
    "    Scrambles.append(state)\n"
   ]
  },
  {
   "cell_type": "markdown",
   "id": "769e55b5-a615-41fb-bd9c-1483c7564794",
   "metadata": {},
   "source": [
    "## Rules\n",
    "\n",
    "asdf"
   ]
  },
  {
   "cell_type": "markdown",
   "id": "12293bed-4ebd-4d32-b6e9-26d69b6c3209",
   "metadata": {},
   "source": [
    "### The move expectation"
   ]
  },
  {
   "cell_type": "code",
   "execution_count": 89,
   "id": "13b10097-d253-4601-b232-4f7b6055e298",
   "metadata": {},
   "outputs": [],
   "source": [
    "def E_N(state,moves,Costs=[1,0,1,1]):\n",
    "    P_solve = np.abs(state[0])**2\n",
    "    meas_cost = Costs[0]\n",
    "    failure_penalty = Costs[1]\n",
    "    initial_move_cost = Costs[2]\n",
    "    move_cost_after_failure = Costs[3]\n",
    "    #print(P_solve)\n",
    "    return ((meas_cost+(move_cost_after_failure*moves+failure_penalty)*(1-P_solve))/P_solve + initial_move_cost*moves)[0]\n",
    "   # return ((meas_cost+(move_cost_after_failure*moves+failure_penalty)*(1-P_solve))/P_solve + initial_move_cost*moves)[0]"
   ]
  },
  {
   "cell_type": "markdown",
   "id": "174301ce-03cf-47c4-a105-06406555a420",
   "metadata": {},
   "source": [
    "## Greedy Strategy"
   ]
  },
  {
   "cell_type": "code",
   "execution_count": 106,
   "id": "fdfe084e-f693-443c-b4ec-803c97e08a72",
   "metadata": {},
   "outputs": [],
   "source": [
    "def Greedy(move_set,scramble,Costs=[1,0,1,1]):\n",
    "    state = scramble\n",
    "    m = 0\n",
    "    solve = []\n",
    "    while True:\n",
    "        best = E_N(state,m,Costs)\n",
    "        next_move = []\n",
    "        flag = True\n",
    "        for move in move_set:\n",
    "            new_state = move@state\n",
    "            if E_N(new_state,m+1,Costs)< best:\n",
    "                next_move = move\n",
    "                best = E_N(new_state,m+1,Costs)\n",
    "                flag = False\n",
    "        if flag:\n",
    "            break\n",
    "        m += 1\n",
    "        state = next_move@state\n",
    "        solve.append(next_move)\n",
    "        print(m)\n",
    "    return [solve,state,E_N(state,m,Costs)]\n",
    "        "
   ]
  },
  {
   "cell_type": "code",
   "execution_count": 145,
   "id": "ac3fdce6-bb07-4008-b38e-ae79d80dda91",
   "metadata": {},
   "outputs": [
    {
     "name": "stdout",
     "output_type": "stream",
     "text": [
      "1\n"
     ]
    },
    {
     "data": {
      "text/plain": [
       "9.769230769231342"
      ]
     },
     "execution_count": 145,
     "metadata": {},
     "output_type": "execute_result"
    }
   ],
   "source": [
    "Costs = [1,5,0,0]\n",
    "[solve,state,E] = Greedy(QS,Scrambles[1],Costs)\n",
    "E"
   ]
  },
  {
   "cell_type": "markdown",
   "id": "22171a6c-da41-4309-b7d9-8e468bf5d6a3",
   "metadata": {},
   "source": [
    "## Optimal fixed depth strategy"
   ]
  },
  {
   "cell_type": "code",
   "execution_count": null,
   "id": "c29dbe54-b708-4eea-8888-b9aa5e1eaa0e",
   "metadata": {},
   "outputs": [],
   "source": [
    "def fixed_depth(move_set,scramble,depth,Costs): # implemented with some redundancy\n",
    "    state = scramble\n",
    "    states = [state]\n",
    "    best = E_N(scramble,0,Costs)\n",
    "    best_state = state\n",
    "    best_depth = 0\n",
    "    for i in range(depth):     \n",
    "        new_states=[]\n",
    "        for move in move_set:\n",
    "            for state in states:\n",
    "                new_state = move@state\n",
    "                new_states.append(new_state)\n",
    "                if(E_N(new_state,i+1,Costs)< best):\n",
    "                    best = E_N(new_state,i+1,Costs)\n",
    "                    best_state= new_state\n",
    "                    best_depth = i+1\n",
    "        for state in new_states:\n",
    "            states.append(state)\n",
    "    return [best_state,best,best_depth]"
   ]
  },
  {
   "cell_type": "code",
   "execution_count": 196,
   "id": "a2699831-1bc6-45bd-a3f2-87b82676b282",
   "metadata": {},
   "outputs": [
    {
     "name": "stdout",
     "output_type": "stream",
     "text": [
      "here\n",
      "here\n",
      "here\n"
     ]
    },
    {
     "name": "stderr",
     "output_type": "stream",
     "text": [
      "/var/folders/cl/131my1d14z537kcq7ydt4xyc0000gp/T/ipykernel_15855/2872762272.py:8: RuntimeWarning: divide by zero encountered in true_divide\n",
      "  return ((meas_cost+(move_cost_after_failure*moves+failure_penalty)*(1-P_solve))/P_solve + initial_move_cost*moves)[0]\n"
     ]
    },
    {
     "name": "stdout",
     "output_type": "stream",
     "text": [
      "here\n",
      "here\n",
      "6.000000000040008 5\n",
      "The execution time is: 136.81970867199925\n"
     ]
    }
   ],
   "source": [
    "Costs = [1,1000,1,0]\n",
    "start_time = time.perf_counter()\n",
    "\n",
    "[state,E,d] = fixed_depth(QS,Scrambles[1],5,Costs)\n",
    "print(E,d)\n",
    "end_time = time.perf_counter()\n",
    "execution_time = end_time - start_time\n",
    "print(f\"The execution time is: {execution_time}\") "
   ]
  },
  {
   "cell_type": "markdown",
   "id": "e6a5421e-9ee0-4ffb-a382-f2af7dbd2cab",
   "metadata": {},
   "source": [
    "## Trying to improve performance with less stupid enumeration"
   ]
  },
  {
   "cell_type": "markdown",
   "id": "06d0ded5-7c29-4977-9e8a-bde6b0401dba",
   "metadata": {
    "jp-MarkdownHeadingCollapsed": true,
    "tags": []
   },
   "source": [
    "### Helper functions"
   ]
  },
  {
   "cell_type": "code",
   "execution_count": 211,
   "id": "28438a8e-d8f8-4053-9bd0-0c7518a7521d",
   "metadata": {},
   "outputs": [],
   "source": [
    "def hash_func(state):\n",
    "    string = ''\n",
    "    temp = np.round(canonical_phase(state),8)\n",
    "    for coeff in temp:\n",
    "        if np.real(coeff) == 0 :\n",
    "            string += '[0.]'\n",
    "        else:\n",
    "            string +=   str(np.real(coeff))\n",
    "        if np.imag(coeff) == 0:\n",
    "            string += '[0.]'\n",
    "        else:\n",
    "            string += str(np.imag(coeff))\n",
    "        \n",
    "    return string\n",
    "\n",
    "def canonical_phase(state):\n",
    "    #phase choosen so that the first nonzero element is positive\n",
    "    for coeff in state:\n",
    "        if not math.isclose(np.abs(coeff),0):\n",
    "            phase = np.angle(coeff)\n",
    "            break\n",
    "    return state / np.exp(1j*phase)\n",
    "\n",
    "\n",
    "import copy\n",
    "\n",
    "def state_enum(scramble,move_set,max_depth):# returns all states that can be gotten to with depth moves from scramble\n",
    "    group = {hash_func(scramble):scramble}\n",
    "    new_elems = group\n",
    "    depth = 0\n",
    "    states = []\n",
    "    depths = []\n",
    "    while(depth<max_depth):\n",
    "        current_group = new_elems.copy()\n",
    "        new_elems = {}\n",
    "        for g in move_set:\n",
    "            # iterate through the group\n",
    "            for key in current_group: \n",
    "                state = g@current_group[key]\n",
    "                hashed = hash_func(state)\n",
    "                if not (hashed in group):\n",
    "                    new_elems.update({hashed:state}) \n",
    "                    group.update({hashed:state})\n",
    "                    states.append(state)\n",
    "                    depths.append(depth+1)\n",
    "        depth += 1\n",
    "    return [states,depths]"
   ]
  },
  {
   "cell_type": "markdown",
   "id": "05af0320-5650-4cdc-a321-cde52be6c36d",
   "metadata": {},
   "source": [
    "### Using smart enumeration"
   ]
  },
  {
   "cell_type": "code",
   "execution_count": 243,
   "id": "246b8ecf-b78b-4338-994c-7f80075c8c74",
   "metadata": {},
   "outputs": [],
   "source": [
    "def fixed_depth_enum(move_set,scramble,depth,Costs): # implemented with some redundancy\n",
    "    [states,depths] = state_enum(scramble,move_set,depth)\n",
    "    best = E_N(scramble,0,Costs)\n",
    "    best_state = scramble\n",
    "    best_depth = 0\n",
    "    for i,state in enumerate(states):\n",
    "        if(E_N(state,depths[i],Costs)< best):\n",
    "                    best = E_N(state,depths[i],Costs)\n",
    "                    best_state = state\n",
    "                    best_depth = depths[i]\n",
    "    return[best_state,best,best_depth]"
   ]
  },
  {
   "cell_type": "code",
   "execution_count": 237,
   "id": "9764f214-4990-43f2-be4e-e3fc1e24aaa9",
   "metadata": {},
   "outputs": [
    {
     "name": "stdout",
     "output_type": "stream",
     "text": [
      "8.42673521850989 3\n",
      "The execution time is: 11.495820238000306\n"
     ]
    }
   ],
   "source": [
    "Costs = [1,10,1,1]\n",
    "start_time = time.perf_counter()\n",
    "\n",
    "[state_2,E,d] = fixed_depth_enum(QS,Scrambles[4],5,Costs)\n",
    "print(E,d)\n",
    "end_time = time.perf_counter()\n",
    "execution_time = end_time - start_time\n",
    "print(f\"The execution time is: {execution_time}\") "
   ]
  },
  {
   "cell_type": "code",
   "execution_count": 238,
   "id": "a0fe2467-f5eb-4f27-90ab-848a96ecea05",
   "metadata": {},
   "outputs": [
    {
     "name": "stdout",
     "output_type": "stream",
     "text": [
      "28.40000000000183 1\n",
      "The execution time is: 0.044662453001365066\n"
     ]
    }
   ],
   "source": [
    "Costs = [1,10,1,1]\n",
    "start_time = time.perf_counter()\n",
    "\n",
    "[state,E,d] = fixed_depth_enum(CS,Scrambles[4],4,Costs)\n",
    "print(E,d)\n",
    "end_time = time.perf_counter()\n",
    "execution_time = end_time - start_time\n",
    "print(f\"The execution time is: {execution_time}\") "
   ]
  },
  {
   "cell_type": "code",
   "execution_count": null,
   "id": "20fddef7-c4e8-42c6-811b-b3ca1ec929bb",
   "metadata": {},
   "outputs": [],
   "source": []
  },
  {
   "cell_type": "markdown",
   "id": "f66c5606-3d37-4019-b3e7-3e28cb3d066d",
   "metadata": {},
   "source": [
    "## Averaging over many scrambles"
   ]
  },
  {
   "cell_type": "code",
   "execution_count": 285,
   "id": "fe5e6b12-9c0d-4952-8970-517c8a86b566",
   "metadata": {},
   "outputs": [],
   "source": [
    "Num_scrambles = 300\n",
    "min_length = 10\n",
    "max_length = 100\n",
    "Scrambles = []\n",
    "for i in range(Num_scrambles):\n",
    "    l = random.randint(min_length,max_length)\n",
    "    move_list = random.choices(QS,k=l)\n",
    "    state = zero\n",
    "    for move in move_list:\n",
    "        state = move @ state\n",
    "    Scrambles.append(state)"
   ]
  },
  {
   "cell_type": "code",
   "execution_count": 286,
   "id": "8d295832-a0be-4c4f-8c98-84e497eca5fa",
   "metadata": {},
   "outputs": [
    {
     "name": "stderr",
     "output_type": "stream",
     "text": [
      "/var/folders/cl/131my1d14z537kcq7ydt4xyc0000gp/T/ipykernel_15855/2872762272.py:8: RuntimeWarning: divide by zero encountered in true_divide\n",
      "  return ((meas_cost+(move_cost_after_failure*moves+failure_penalty)*(1-P_solve))/P_solve + initial_move_cost*moves)[0]\n"
     ]
    },
    {
     "name": "stdout",
     "output_type": "stream",
     "text": [
      "4.564203852302136 5.1459368998586505\n",
      "The execution time is: 3108.1858479359944\n"
     ]
    }
   ],
   "source": [
    "start_time = time.perf_counter()\n",
    "Costs = [1,0,1,1]\n",
    "E_QS_vals = []\n",
    "E_CS_vals = []\n",
    "for scramble in Scrambles:\n",
    "    [_,E_QS,_] = fixed_depth_enum(QS,scramble,5,Costs)\n",
    "    [_,E_CS,_] = fixed_depth_enum(CS,scramble,5,Costs)\n",
    "    E_QS_vals.append(E_QS)\n",
    "    E_CS_vals.append(E_CS)\n",
    "print(np.mean(E_QS_vals),np.mean(E_CS_vals))\n",
    "end_time = time.perf_counter()\n",
    "execution_time = end_time - start_time\n",
    "print(f\"The execution time is: {execution_time}\") "
   ]
  },
  {
   "cell_type": "code",
   "execution_count": 287,
   "id": "a7f7ca3e-b466-47e0-b9b4-8d4612e5e1cd",
   "metadata": {},
   "outputs": [
    {
     "data": {
      "text/plain": [
       "[<matplotlib.lines.Line2D at 0x7f8818dc5190>]"
      ]
     },
     "execution_count": 287,
     "metadata": {},
     "output_type": "execute_result"
    },
    {
     "data": {
      "image/png": "[encoded data removed]",
      "text/plain": [
       "<Figure size 432x288 with 1 Axes>"
      ]
     },
     "metadata": {
      "needs_background": "light"
     },
     "output_type": "display_data"
    }
   ],
   "source": [
    "plt.plot(E_QS_vals)\n",
    "plt.plot(E_CS_vals)"
   ]
  },
  {
   "cell_type": "code",
   "execution_count": 288,
   "id": "95f6e643-8ccb-4bab-8c36-c826581dd9d6",
   "metadata": {},
   "outputs": [
    {
     "data": {
      "text/plain": [
       "[<matplotlib.lines.Line2D at 0x7f87a862a220>,\n",
       " <matplotlib.lines.Line2D at 0x7f87a862a280>]"
      ]
     },
     "execution_count": 288,
     "metadata": {},
     "output_type": "execute_result"
    },
    {
     "data": {
      "image/png": "[encoded data removed]",
      "text/plain": [
       "<Figure size 432x288 with 1 Axes>"
      ]
     },
     "metadata": {
      "needs_background": "light"
     },
     "output_type": "display_data"
    }
   ],
   "source": [
    "meanQ = np.mean(E_QS_vals)\n",
    "meanC = np.mean(E_CS_vals)\n",
    "stdQ = np.std(E_QS_vals)\n",
    "stdC = np.std(E_CS_vals)\n",
    "n = np.linspace(0,max(E_CS_vals),100)\n",
    "QS_dist = 1/np.sqrt(2*np.pi*stdQ**2)*np.exp(-1*(n-meanQ)**2/(2*stdQ**2))\n",
    "CS_dist = 1/np.sqrt(2*np.pi*stdC**2)*np.exp(-1*(n-meanC)**2/(2*stdC**2))\n",
    "plt.plot(n,QS_dist,n,CS_dist)"
   ]
  },
  {
   "cell_type": "code",
   "execution_count": 290,
   "id": "33f0172a-9228-402f-b417-cb7ca6fa260c",
   "metadata": {},
   "outputs": [
    {
     "data": {
      "text/plain": [
       "<matplotlib.patches.StepPatch at 0x7f87a86a5f40>"
      ]
     },
     "execution_count": 290,
     "metadata": {},
     "output_type": "execute_result"
    },
    {
     "data": {
      "image/png": "[encoded data removed]",
      "text/plain": [
       "<Figure size 432x288 with 1 Axes>"
      ]
     },
     "metadata": {
      "needs_background": "light"
     },
     "output_type": "display_data"
    }
   ],
   "source": [
    "[countQ,binQ] = np.histogram(E_QS_vals,bins = 10)\n",
    "[countC,binC] = np.histogram(E_CS_vals,bins = 10)\n",
    "plt.stairs(countQ/Num_scrambles, binQ)\n",
    "plt.stairs(countC/Num_scrambles, binC)\n",
    "\n",
    "#plt.hist(E_CS_vals)"
   ]
  },
  {
   "cell_type": "code",
   "execution_count": null,
   "id": "ab5594c0-2eac-4770-83fa-20efb873192f",
   "metadata": {},
   "outputs": [],
   "source": []
  }
 ],
 "metadata": {
  "kernelspec": {
   "display_name": "Python 3 (ipykernel)",
   "language": "python",
   "name": "python3"
  },
  "language_info": {
   "codemirror_mode": {
    "name": "ipython",
    "version": 3
   },
   "file_extension": ".py",
   "mimetype": "text/x-python",
   "name": "python",
   "nbconvert_exporter": "python",
   "pygments_lexer": "ipython3",
   "version": "3.9.7"
  }
 },
 "nbformat": 4,
 "nbformat_minor": 5
}
