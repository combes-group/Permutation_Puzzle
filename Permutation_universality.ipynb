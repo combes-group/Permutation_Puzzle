{
 "cells": [
  {
   "cell_type": "code",
   "execution_count": 4,
   "id": "cbe9473e-fe69-43f5-82e6-518fbb01a7a0",
   "metadata": {},
   "outputs": [],
   "source": [
    "import numpy as np\n",
    "import scipy as sp\n",
    "import math\n",
    "import Universality_check as Uc\n",
    "import Gate_helper\n",
    "import Swap_generators"
   ]
  },
  {
   "cell_type": "markdown",
   "id": "0f6431d1-b89c-4588-a976-726af404a557",
   "metadata": {},
   "source": [
    "### Gate Set (S)"
   ]
  },
  {
   "cell_type": "code",
   "execution_count": 5,
   "id": "36dafe5d-c71f-4d48-b89a-a69cc0f48df2",
   "metadata": {
    "tags": []
   },
   "outputs": [],
   "source": [
    "## Fermionic puzzle\n",
    "Perms_f = Swap_generators.swaps(-1,-1)\n",
    "SQRT_SWAP_f = Swap_generators.sqrt_swaps(-1,-1)\n",
    "Quarter_Swap_f = Swap_generators.general_swaps(-1,-1,theta=np.pi/4)\n",
    "S_f = SQRT_SWAP_f\n",
    "\n",
    "## Bosonic puzzle\n",
    "Perms_b = Swap_generators.swaps(1,1)\n",
    "SQRT_SWAP_b = Swap_generators.sqrt_swaps(1,1)\n",
    "Quarter_Swap_b = Swap_generators.general_swaps(1,1,theta=np.pi/4)\n",
    "S_b = SQRT_SWAP_b\n",
    "\n",
    "## Mixed puzzle\n",
    "Perms_m = Swap_generators.swaps(-1,1)# we add diagonal swaps here to get universality.\n",
    "SQRT_SWAP_m = Swap_generators.sqrt_swaps(-1,1)\n",
    "Quarter_Swap_m = Swap_generators.general_swaps(-1,1,theta=np.pi/4)\n",
    "S_m = SQRT_SWAP_m"
   ]
  },
  {
   "cell_type": "markdown",
   "id": "2bb30ff3-12f3-4945-b443-df5501a7d342",
   "metadata": {},
   "source": [
    "## Step 1 of the algorithm,"
   ]
  },
  {
   "cell_type": "markdown",
   "id": "591a24ab-81cc-4d31-9b7a-cc2664cf6829",
   "metadata": {},
   "source": [
    "For our gate set to be universal we need the center of our group to be the trivial center which is just scalar multiples of the identity. If there is a non identity element in the center than that element will commute with everything in our gate set and can thus not be synthesised by a sequence of gates. If the center is nontrivial than the groups may still be infinite but they cannot be universal."
   ]
  },
  {
   "cell_type": "code",
   "execution_count": 3,
   "id": "f27c16ab-1542-4dbe-8a3a-c7552afe3339",
   "metadata": {
    "tags": []
   },
   "outputs": [
    {
     "name": "stdout",
     "output_type": "stream",
     "text": [
      "Center is trivial for fermionic puzzle: False\n",
      "Center is trivial for bosonic puzzle: False\n",
      "Center is trivial for mixed puzzle: False\n"
     ]
    }
   ],
   "source": [
    "print(\"Center is trivial for fermionic puzzle:\",Uc.check_center(S_f))\n",
    "print(\"Center is trivial for bosonic puzzle:\",Uc.check_center(S_b))\n",
    "print(\"Center is trivial for mixed puzzle:\",Uc.check_center(S_m))"
   ]
  },
  {
   "cell_type": "markdown",
   "id": "37fc0fc4-b583-4ec2-876c-960d49316426",
   "metadata": {},
   "source": [
    "### Step 2 of the algorithm"
   ]
  },
  {
   "cell_type": "markdown",
   "id": "55267f31-376f-4f86-bd7e-070270ed5678",
   "metadata": {},
   "source": [
    "This code determines the span of our gate set is infinite or finite. It does this by attempting to find an element that can be reached from our gate set that is in a ball of radius 1 that is not in the center of the group. Not if this check pases, but the previous check fails that the span of $S$ is infinite, but not all of $SU(6)$, meaning it is not universal.  "
   ]
  },
  {
   "cell_type": "code",
   "execution_count": 4,
   "id": "a637a770-e3bc-4ab0-a686-2fdd62399a85",
   "metadata": {},
   "outputs": [
    {
     "name": "stdout",
     "output_type": "stream",
     "text": [
      "Fermionic puzzle is infinite: True\n",
      "Bosonic puzzle is infinite: True\n",
      "Mixed puzzle is infinite: True\n"
     ]
    }
   ],
   "source": [
    "# using a much smaller value for N than is required to be thourough since i want this to actually run \n",
    "N_SU6 = 100  #36398100 # upper bound for N\n",
    "\n",
    "print(\"Fermionic puzzle is infinite:\",not Uc.check_finite(S_f,N_SU6,10,verbose=False)[0])\n",
    "print(\"Bosonic puzzle is infinite:\",not Uc.check_finite(S_b,N_SU6,10,verbose=False)[0])\n",
    "print(\"Mixed puzzle is infinite:\",not Uc.check_finite(S_m,N_SU6,10,verbose=False)[0])"
   ]
  },
  {
   "cell_type": "markdown",
   "id": "865a814e-8af5-4c27-86b1-378392d834fd",
   "metadata": {},
   "source": [
    "## Or all together we can check for universality\n"
   ]
  },
  {
   "cell_type": "code",
   "execution_count": 5,
   "id": "3d322770-9ad2-46e3-8f6a-5f750371a8ce",
   "metadata": {},
   "outputs": [
    {
     "name": "stdout",
     "output_type": "stream",
     "text": [
      "Fermionic puzzle is univeral: False\n",
      "Bosonic puzzle is univeral: False\n",
      "Mixed puzzle is univeral: False\n"
     ]
    }
   ],
   "source": [
    "print(\"Fermionic puzzle is univeral:\",Uc.check_universal(S_f))\n",
    "print(\"Bosonic puzzle is univeral:\",Uc.check_universal(S_b))\n",
    "print(\"Mixed puzzle is univeral:\",Uc.check_universal(S_m))"
   ]
  },
  {
   "cell_type": "markdown",
   "id": "3b254835-fef2-481b-a1db-0e50c8da98e2",
   "metadata": {},
   "source": [
    "# Puzzle variants that achieve universality"
   ]
  },
  {
   "cell_type": "markdown",
   "id": "f3ccf525-3aa5-4200-9dde-5b5ccc4af5a5",
   "metadata": {},
   "source": [
    "## 1) Half Swaps with and an S gate"
   ]
  },
  {
   "cell_type": "code",
   "execution_count": 13,
   "id": "306e632a-f75d-455b-b921-7bf0172b6515",
   "metadata": {},
   "outputs": [],
   "source": [
    "## add S_gate to fermionic gate set,\n",
    "S_f1 = [G for G in SQRT_SWAP_f]\n",
    "S_f1.append(Gate_helper.S_gate(6))\n",
    "\n",
    "S_b1 = [G for G in SQRT_SWAP_b]\n",
    "S_b1.append(Gate_helper.S_gate(6))\n",
    "\n",
    "S_m1 = [G for G in SQRT_SWAP_m]\n",
    "S_m1.append(Gate_helper.S_gate(6))"
   ]
  },
  {
   "cell_type": "code",
   "execution_count": 14,
   "id": "c5581d2b-dfec-4315-8936-d711d72db079",
   "metadata": {},
   "outputs": [
    {
     "name": "stdout",
     "output_type": "stream",
     "text": [
      "With S gate the fermionic puzzle is universal: True\n",
      "With S gate the bosonic puzzle is universal: True\n",
      "With S gate the mixed puzzle is universal: True\n"
     ]
    }
   ],
   "source": [
    "print(\"With S gate the fermionic puzzle is universal:\",Uc.check_universal(S_f1))\n",
    "print(\"With S gate the bosonic puzzle is universal:\",Uc.check_universal(S_b1))\n",
    "print(\"With S gate the mixed puzzle is universal:\",Uc.check_universal(S_m1))"
   ]
  },
  {
   "cell_type": "markdown",
   "id": "330ee347-2345-440c-9511-724754c08dd2",
   "metadata": {},
   "source": [
    "## 2) Add in Diagonal swaps so the puzzle allows all to all swaps"
   ]
  },
  {
   "cell_type": "code",
   "execution_count": 15,
   "id": "31dc19b6-ec78-44bd-b09d-85e58cb5c474",
   "metadata": {},
   "outputs": [],
   "source": [
    "Perms_f2 = [SN_f,SS_f,SE_f,SN_f,D1_f,D2_f]\n",
    "SQRT_SWAP_f2 = [(Id + 1j*P)/np.sqrt(2) for P in Perms_f2]\n",
    "S_f2 = SQRT_SWAP_f2\n",
    "\n",
    "Perms_b2 = [SN_b,SS_b,SE_b,SN_b,D1_b,D2_b]\n",
    "SQRT_SWAP_b2 = [(Id + 1j*P)/np.sqrt(2) for P in Perms_b2]\n",
    "S_b2 = SQRT_SWAP_b2\n",
    "\n",
    "Perms_m2 = [SN_m,SS_m,SE_m,SN_m,D1_m,D2_m]\n",
    "SQRT_SWAP_m2 = [(Id + 1j*P)/np.sqrt(2) for P in Perms_m2]\n",
    "S_m2 = SQRT_SWAP_m2"
   ]
  },
  {
   "cell_type": "code",
   "execution_count": 16,
   "id": "7a846607-ee26-4a71-97ac-ca5a178bfffb",
   "metadata": {},
   "outputs": [
    {
     "name": "stdout",
     "output_type": "stream",
     "text": [
      "With diagonal swaps the fermionic puzzle is universal: False\n",
      "With diagonal swaps the bosonic puzzle is universal: False\n",
      "With diagonal swaps the mixed puzzle is universal: True\n"
     ]
    }
   ],
   "source": [
    "print(\"With diagonal swaps the fermionic puzzle is universal:\",Uc.check_universal(S_f2))\n",
    "print(\"With diagonal swaps the bosonic puzzle is universal:\",Uc.check_universal(S_b2))\n",
    "print(\"With diagonal swaps the mixed puzzle is universal:\",Uc.check_universal(S_m2))"
   ]
  },
  {
   "cell_type": "markdown",
   "id": "b3950b73-14b4-4ba7-9987-b2d2af8616dc",
   "metadata": {},
   "source": [
    "### Quarter Swaps and Eight Swaps"
   ]
  },
  {
   "cell_type": "code",
   "execution_count": 17,
   "id": "6b306e64-8039-49b7-a84c-24c726da6842",
   "metadata": {},
   "outputs": [],
   "source": [
    "S_f3 = Quarter_Swap_f\n",
    "S_b3 = Quarter_Swap_b\n",
    "S_m3 = Quarter_Swap_m\n",
    "\n",
    "Eighth_Swap_f = Swap_generators.general_swaps(-1,-1,theta=np.pi/8)\n",
    "Eighth_Swap_b = Swap_generators.general_swaps(1,1,theta=np.pi/8)\n",
    "Eighth_Swap_m = Swap_generators.general_swaps(-1,1,theta=np.pi/8)\n",
    "\n",
    "S_f4 = Eighth_Swap_f\n",
    "S_b4 = Eighth_Swap_b\n",
    "S_m4 = Eighth_Swap_m"
   ]
  },
  {
   "cell_type": "code",
   "execution_count": 18,
   "id": "e6d4509c-f394-4d15-8475-cea149d5b739",
   "metadata": {},
   "outputs": [
    {
     "name": "stdout",
     "output_type": "stream",
     "text": [
      "With quarter swaps the fermionic puzzle is universal: False\n",
      "With quarter swaps the bosonic puzzle is universal: False\n",
      "With quarter swaps the mixed puzzle is universal: False\n",
      "With eighth swaps the fermionic puzzle is universal: False\n",
      "With eighth swaps the bosonic puzzle is universal: False\n",
      "With eighth swaps the mixed puzzle is universal: False\n"
     ]
    }
   ],
   "source": [
    "print(\"With quarter swaps the fermionic puzzle is universal:\",Uc.check_universal(S_f3))\n",
    "print(\"With quarter swaps the bosonic puzzle is universal:\",Uc.check_universal(S_b3))\n",
    "print(\"With quarter swaps the mixed puzzle is universal:\",Uc.check_universal(S_m3))\n",
    "\n",
    "print(\"With eighth swaps the fermionic puzzle is universal:\",Uc.check_universal(S_f4))\n",
    "print(\"With eighth swaps the bosonic puzzle is universal:\",Uc.check_universal(S_b4))\n",
    "print(\"With eighth swaps the mixed puzzle is universal:\",Uc.check_universal(S_m4))"
   ]
  },
  {
   "cell_type": "markdown",
   "id": "4eeb0a06-9210-414d-93a6-c5f901a742d3",
   "metadata": {},
   "source": [
    "# Add in minimal addition"
   ]
  },
  {
   "cell_type": "code",
   "execution_count": 14,
   "id": "3c343d4b-e74b-46af-ac04-b5b795273d9c",
   "metadata": {},
   "outputs": [],
   "source": [
    "## add S_gate to fermionic gate set,\n",
    "Fake_phase = np.diag([1,1,1,1,1,-1])\n",
    "\n",
    "\n",
    "S_f1 = [G for G in SQRT_SWAP_f]\n",
    "S_f1.append(Fake_phase)\n",
    "\n",
    "S_b1 = [G for G in SQRT_SWAP_b]\n",
    "S_b1.append(Fake_phase)\n",
    "\n",
    "S_m1 = [G for G in SQRT_SWAP_m]\n",
    "S_m1.append(Fake_phase)"
   ]
  },
  {
   "cell_type": "code",
   "execution_count": 16,
   "id": "32e50a60-bfbd-4a29-9a9a-92246654d70f",
   "metadata": {},
   "outputs": [
    {
     "name": "stdout",
     "output_type": "stream",
     "text": [
      "Fermions with fake phase gate: True\n",
      "Bosons with fake phase gate: True\n",
      "Mixed puzzle with fake phast gate: True\n"
     ]
    }
   ],
   "source": [
    "print(\"Fermions with fake phase gate:\",Uc.check_universal(S_f1))\n",
    "print(\"Bosons with fake phase gate:\",Uc.check_universal(S_b1))\n",
    "print(\"Mixed puzzle with fake phast gate:\",Uc.check_universal(S_m1))"
   ]
  },
  {
   "cell_type": "code",
   "execution_count": 15,
   "id": "c30713a1-904a-49d6-b320-fffe75f19a5a",
   "metadata": {},
   "outputs": [],
   "source": [
    "def commutator(A,B):\n",
    "    return A@B - B@A"
   ]
  },
  {
   "cell_type": "code",
   "execution_count": 27,
   "id": "aefaf7d1-0c59-42d0-ac3d-8701f88990a9",
   "metadata": {},
   "outputs": [
    {
     "data": {
      "text/plain": [
       "array([[0.+0.j        , 0.+0.j        , 0.+0.j        , 0.+0.j        ,\n",
       "        0.+0.j        , 0.+0.j        ],\n",
       "       [0.+0.j        , 0.+0.j        , 0.+0.j        , 0.+0.j        ,\n",
       "        0.+0.j        , 0.+0.j        ],\n",
       "       [0.+0.j        , 0.+0.j        , 0.+0.j        , 0.+0.j        ,\n",
       "        0.+0.j        , 0.-1.41421356j],\n",
       "       [0.+0.j        , 0.+0.j        , 0.+0.j        , 0.+0.j        ,\n",
       "        0.+0.j        , 0.+0.j        ],\n",
       "       [0.+0.j        , 0.+0.j        , 0.+0.j        , 0.+0.j        ,\n",
       "        0.+0.j        , 0.+0.j        ],\n",
       "       [0.+0.j        , 0.+0.j        , 0.+1.41421356j, 0.+0.j        ,\n",
       "        0.+0.j        , 0.+0.j        ]])"
      ]
     },
     "execution_count": 27,
     "metadata": {},
     "output_type": "execute_result"
    }
   ],
   "source": [
    "commutator(SQRT_SWAP_f[0],Fake_phase)"
   ]
  },
  {
   "cell_type": "code",
   "execution_count": 7,
   "id": "96ab0d84-758a-41d3-a070-59f928e24632",
   "metadata": {},
   "outputs": [
    {
     "ename": "SyntaxError",
     "evalue": "invalid syntax (1904659665.py, line 9)",
     "output_type": "error",
     "traceback": [
      "\u001b[0;36m  File \u001b[0;32m\"/var/folders/cl/131my1d14z537kcq7ydt4xyc0000gp/T/ipykernel_48114/1904659665.py\"\u001b[0;36m, line \u001b[0;32m9\u001b[0m\n\u001b[0;31m    basis =\u001b[0m\n\u001b[0m            ^\u001b[0m\n\u001b[0;31mSyntaxError\u001b[0m\u001b[0;31m:\u001b[0m invalid syntax\n"
     ]
    }
   ],
   "source": [
    "X = np.zeros((6,6))\n",
    "for i in range(6):\n",
    "    X[i,i-1] = 1\n",
    "Z = Gate_helper.Z_gate(6)\n",
    "Y = 1j*X@Z\n",
    "I = np.eye(6)\n",
    "paulis = [X,Y,Z,I]\n",
    "s = [G for G in SQRT_SWAP_f]\n",
    "basis = \n",
    "commutator_mat = np.zeros((len(s),len(paulis),6,6))\n",
    "for i,gate in enumerate(s):\n",
    "    for j,pauli in enumerate(paulis):\n",
    "        commutator_mat[i,j,:,:] = commutator(gate,pauli)\n"
   ]
  },
  {
   "cell_type": "code",
   "execution_count": 3,
   "id": "0d77c74d-c0e3-431a-9971-ee5f37b9f533",
   "metadata": {},
   "outputs": [
    {
     "data": {
      "text/plain": [
       "matrix([[ 0.0000000e+00+0.j, -1.2246468e-16-1.j],\n",
       "        [ 0.0000000e+00+1.j,  0.0000000e+00+0.j]])"
      ]
     },
     "execution_count": 3,
     "metadata": {},
     "output_type": "execute_result"
    }
   ],
   "source": [
    "Gate_helper.Y_gate(2)"
   ]
  },
  {
   "cell_type": "code",
   "execution_count": null,
   "id": "51f4035b-c515-4897-9268-7de5f03a7c93",
   "metadata": {},
   "outputs": [],
   "source": []
  }
 ],
 "metadata": {
  "kernelspec": {
   "display_name": "Python 3 (ipykernel)",
   "language": "python",
   "name": "python3"
  },
  "language_info": {
   "codemirror_mode": {
    "name": "ipython",
    "version": 3
   },
   "file_extension": ".py",
   "mimetype": "text/x-python",
   "name": "python",
   "nbconvert_exporter": "python",
   "pygments_lexer": "ipython3",
   "version": "3.9.7"
  }
 },
 "nbformat": 4,
 "nbformat_minor": 5
}
