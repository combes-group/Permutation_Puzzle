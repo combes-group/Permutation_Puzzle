{
 "cells": [
  {
   "cell_type": "code",
   "execution_count": 16,
   "id": "cbe9473e-fe69-43f5-82e6-518fbb01a7a0",
   "metadata": {},
   "outputs": [],
   "source": [
    "import numpy as np\n",
    "import scipy as sp\n",
    "import math\n",
    "import Universality_check as Uc\n",
    "import Gate_helper"
   ]
  },
  {
   "cell_type": "markdown",
   "id": "009c89f0-c873-483e-9478-5657f9a81698",
   "metadata": {
    "jp-MarkdownHeadingCollapsed": true,
    "tags": []
   },
   "source": [
    "### States"
   ]
  },
  {
   "cell_type": "code",
   "execution_count": 17,
   "id": "9c610a00-c04b-4cc1-a1dc-7da6dd6537f7",
   "metadata": {
    "tags": []
   },
   "outputs": [],
   "source": [
    "zero  = np.array([[1], [0], [0], [0], [0], [0]],dtype=complex)\n",
    "one   = np.array([[0], [1], [0], [0], [0], [0]],dtype=complex)\n",
    "two   = np.array([[0], [0], [1], [0], [0], [0]],dtype=complex)\n",
    "three = np.array([[0], [0], [0], [1], [0], [0]],dtype=complex)\n",
    "four  = np.array([[0], [0], [0], [0], [1], [0]],dtype=complex)\n",
    "five  = np.array([[0], [0], [0], [0], [0], [1]],dtype=complex)"
   ]
  },
  {
   "cell_type": "markdown",
   "id": "74d52449-ffe6-4fe1-aa13-e80962efbc72",
   "metadata": {
    "tags": []
   },
   "source": [
    "### Permutations"
   ]
  },
  {
   "cell_type": "code",
   "execution_count": 21,
   "id": "4604dad3-1be5-414a-b57d-cd932ce34dbe",
   "metadata": {},
   "outputs": [],
   "source": [
    "Id = zero@zero.T + one@one.T + two@two.T + \\\n",
    "     three@three.T + four@four.T + five@five.T\n",
    "## Permutations for two species of fermions\n",
    "SN_f = - zero@zero.T - one@one.T + five@two.T \\\n",
    "     +four@three.T+three@four.T+ two@five.T\n",
    "\n",
    "SS_f =  -zero@zero.T - one@one.T + five@three.T \\\n",
    "     +four@two.T+two@four.T+ three@five.T\n",
    "\n",
    "SE_f =  -two@two.T - three@three.T + five@one.T \\\n",
    "     +four@zero.T+zero@four.T+ one@five.T\n",
    "\n",
    "SW_f = - two@two.T - three@three.T + five@zero.T \\\n",
    "     +four@one.T+one@four.T+ zero@five.T\n",
    "\n",
    "D1_f = zero@three.T + three@zero.T +one@two.T + two@one.T \\\n",
    "     -four@four.T - five@five.T\n",
    "\n",
    "D2_f = zero@two.T + two@zero.T +one@three.T + three@one.T \\\n",
    "     -four@four.T - five@five.T\n",
    "\n",
    "## Permutations for two species of Bosons\n",
    "SN_b =  zero@zero.T + one@one.T + five@two.T \\\n",
    "     +four@three.T+three@four.T+ two@five.T\n",
    "\n",
    "SS_b =  zero@zero.T + one@one.T + five@three.T \\\n",
    "     +four@two.T+two@four.T+ three@five.T\n",
    "\n",
    "SE_b =  two@two.T + three@three.T + five@one.T \\\n",
    "     +four@zero.T+zero@four.T+ one@five.T\n",
    "\n",
    "SW_b =  two@two.T + three@three.T + five@zero.T \\\n",
    "     +four@one.T+one@four.T+ zero@five.T\n",
    "\n",
    "D1_b =  zero@three.T + three@zero.T +one@two.T + two@one.T \\\n",
    "     +four@four.T + five@five.T\n",
    "\n",
    "D2_b =  zero@two.T + two@zero.T +one@three.T + three@one.T \\\n",
    "     +four@four.T + five@five.T\n",
    "\n",
    "## Permutations for blue (bottom) boson and green (top) of fermion\n",
    "SN_m =  -zero@zero.T + one@one.T + five@two.T \\\n",
    "     +four@three.T+three@four.T+ two@five.T\n",
    "\n",
    "SS_m =  zero@zero.T - one@one.T + five@three.T \\\n",
    "     +four@two.T+two@four.T+ three@five.T\n",
    "\n",
    "SE_m =  -two@two.T + three@three.T + five@one.T \\\n",
    "     +four@zero.T+zero@four.T+ one@five.T\n",
    "\n",
    "SW_m =  two@two.T - three@three.T + five@zero.T \\\n",
    "     +four@one.T+one@four.T+ zero@five.T\n",
    "\n",
    "D1_m =  zero@three.T + three@zero.T +one@two.T + two@one.T \\\n",
    "     -four@four.T + five@five.T\n",
    "\n",
    "D2_m =  zero@two.T + two@zero.T +one@three.T + three@one.T \\\n",
    "     +four@four.T - five@five.T"
   ]
  },
  {
   "cell_type": "markdown",
   "id": "0f6431d1-b89c-4588-a976-726af404a557",
   "metadata": {},
   "source": [
    "### Gate Set (S)"
   ]
  },
  {
   "cell_type": "code",
   "execution_count": 40,
   "id": "36dafe5d-c71f-4d48-b89a-a69cc0f48df2",
   "metadata": {
    "tags": []
   },
   "outputs": [],
   "source": [
    "## Fermionic puzzle\n",
    "Perms_f = [SN_f,SS_f,SE_f,SN_f]\n",
    "SQRT_SWAP_f = [(Id + 1j*P)/np.sqrt(2) for P in Perms_f]\n",
    "Quarter_Swap_f = [np.cos(np.pi/8)*Id + np.sin(np.pi/8)*1j*P for P in Perms_f]\n",
    "S_f = SQRT_SWAP_f\n",
    "\n",
    "## Bosonic puzzle\n",
    "Perms_b = [SN_b,SS_b,SE_b,SN_b]\n",
    "SQRT_SWAP_b = [(Id + 1j*P)/np.sqrt(2) for P in Perms_b]\n",
    "Quarter_Swap_b = [np.cos(np.pi/8)*Id + np.sin(np.pi/8)*1j*P for P in Perms_b]\n",
    "S_b = SQRT_SWAP_b\n",
    "\n",
    "## Mixed puzzle\n",
    "Perms_m = [SN_m,SS_m,SE_m,SN_m]# we add diagonal swaps here to get universality.\n",
    "SQRT_SWAP_m = [(Id + 1j*P)/np.sqrt(2) for P in Perms_m]\n",
    "Quarter_Swap_m = [np.cos(np.pi/8)*Id + np.sin(np.pi/8)*1j*P for P in Perms_m]\n",
    "S_m = SQRT_SWAP_m"
   ]
  },
  {
   "cell_type": "markdown",
   "id": "2bb30ff3-12f3-4945-b443-df5501a7d342",
   "metadata": {},
   "source": [
    "### Step 1 of the algorithm,"
   ]
  },
  {
   "cell_type": "markdown",
   "id": "591a24ab-81cc-4d31-9b7a-cc2664cf6829",
   "metadata": {},
   "source": [
    "For our gate set to be universal we need the center of our group to be the trivial center which is just scalar multiples of the identity. If there is a non identity element in the center than that element will commute with everything in our gate set and can thus not be synthesised by a sequence of gates. If the center is nontrivial than the groups may still be infinite but they cannot be universal."
   ]
  },
  {
   "cell_type": "code",
   "execution_count": 41,
   "id": "f27c16ab-1542-4dbe-8a3a-c7552afe3339",
   "metadata": {
    "tags": []
   },
   "outputs": [
    {
     "name": "stdout",
     "output_type": "stream",
     "text": [
      "Center is trivial for fermionic puzzle: False\n",
      "Center is trivial for bosonic puzzle: False\n",
      "Center is trivial for mixed puzzle: False\n"
     ]
    }
   ],
   "source": [
    "print(\"Center is trivial for fermionic puzzle:\",Uc.check_Center(S_f))\n",
    "print(\"Center is trivial for bosonic puzzle:\",Uc.check_Center(S_b))\n",
    "print(\"Center is trivial for mixed puzzle:\",Uc.check_Center(S_m))"
   ]
  },
  {
   "cell_type": "markdown",
   "id": "37fc0fc4-b583-4ec2-876c-960d49316426",
   "metadata": {},
   "source": [
    "### Step 2 of the algorithm"
   ]
  },
  {
   "cell_type": "markdown",
   "id": "55267f31-376f-4f86-bd7e-070270ed5678",
   "metadata": {},
   "source": [
    "This code determines the span of our gate set is infinite or finite. It does this by attempting to find an element that can be reached from our gate set that is in a ball of radius 1 that is not in the center of the group. Not if this check pases, but the previous check fails that the span of $S$ is infinite, but not all of $SU(6)$, meaning it is not universal.  "
   ]
  },
  {
   "cell_type": "code",
   "execution_count": 42,
   "id": "a637a770-e3bc-4ab0-a686-2fdd62399a85",
   "metadata": {},
   "outputs": [
    {
     "name": "stdout",
     "output_type": "stream",
     "text": [
      "Fermionic puzzle is infinite: True\n",
      "Bosonic puzzle is infinite: True\n",
      "Mixed puzzle is infinite: True\n"
     ]
    }
   ],
   "source": [
    "# using a much smaller value for N than is required to be thourough since i want this to actually run \n",
    "N_SU6 = 100  #36398100 # upper bound for N\n",
    "\n",
    "print(\"Fermionic puzzle is infinite:\",not Uc.check_Finite(S_f,N_SU6,10,Verbose=False)[0])\n",
    "print(\"Bosonic puzzle is infinite:\",not Uc.check_Finite(S_b,N_SU6,10,Verbose=False)[0])\n",
    "print(\"Mixed puzzle is infinite:\",not Uc.check_Finite(S_m,N_SU6,10,Verbose=False)[0])"
   ]
  },
  {
   "cell_type": "markdown",
   "id": "865a814e-8af5-4c27-86b1-378392d834fd",
   "metadata": {},
   "source": [
    "## Or all together we can check for universality\n"
   ]
  },
  {
   "cell_type": "code",
   "execution_count": 43,
   "id": "3d322770-9ad2-46e3-8f6a-5f750371a8ce",
   "metadata": {},
   "outputs": [
    {
     "name": "stdout",
     "output_type": "stream",
     "text": [
      "Fermionic puzzle is univeral: False\n",
      "Bosonic puzzle is univeral: False\n",
      "Mixed puzzle is univeral: False\n"
     ]
    }
   ],
   "source": [
    "print(\"Fermionic puzzle is univeral:\",Uc.check_universal(S_f))\n",
    "print(\"Bosonic puzzle is univeral:\",Uc.check_universal(S_b))\n",
    "print(\"Mixed puzzle is univeral:\",Uc.check_universal(S_m))"
   ]
  },
  {
   "cell_type": "markdown",
   "id": "3b254835-fef2-481b-a1db-0e50c8da98e2",
   "metadata": {},
   "source": [
    "# Puzzle variants that achieve universality"
   ]
  },
  {
   "cell_type": "markdown",
   "id": "f3ccf525-3aa5-4200-9dde-5b5ccc4af5a5",
   "metadata": {},
   "source": [
    "## 1) Half Swaps with and an S gate"
   ]
  },
  {
   "cell_type": "code",
   "execution_count": 55,
   "id": "306e632a-f75d-455b-b921-7bf0172b6515",
   "metadata": {},
   "outputs": [],
   "source": [
    "## add S_gate to fermionic gate set,\n",
    "S_f1 = [G for G in SQRT_SWAP_f]\n",
    "S_f1.append(Gate_helper.S_gate(6))\n",
    "\n",
    "S_b1 = [G for G in SQRT_SWAP_b]\n",
    "S_b1.append(Gate_helper.S_gate(6))\n",
    "\n",
    "S_m1 = [G for G in SQRT_SWAP_m]\n",
    "S_m1.append(Gate_helper.S_gate(6))"
   ]
  },
  {
   "cell_type": "code",
   "execution_count": 56,
   "id": "c5581d2b-dfec-4315-8936-d711d72db079",
   "metadata": {},
   "outputs": [
    {
     "name": "stdout",
     "output_type": "stream",
     "text": [
      "With S gate the fermionic puzzle is universal: True\n",
      "With S gate the bosonic puzzle is universal: True\n",
      "With S gate the mixed puzzle is universal: True\n"
     ]
    }
   ],
   "source": [
    "print(\"With S gate the fermionic puzzle is universal:\",Uc.check_universal(S_f1))\n",
    "print(\"With S gate the bosonic puzzle is universal:\",Uc.check_universal(S_b1))\n",
    "print(\"With S gate the mixed puzzle is universal:\",Uc.check_universal(S_m1))"
   ]
  },
  {
   "cell_type": "markdown",
   "id": "330ee347-2345-440c-9511-724754c08dd2",
   "metadata": {},
   "source": [
    "## 2) Add in Diagonal swaps so the puzzle allows all to all swaps"
   ]
  },
  {
   "cell_type": "code",
   "execution_count": 58,
   "id": "31dc19b6-ec78-44bd-b09d-85e58cb5c474",
   "metadata": {},
   "outputs": [],
   "source": [
    "Perms_f2 = [SN_f,SS_f,SE_f,SN_f,D1_f,D2_f]\n",
    "SQRT_SWAP_f2 = [(Id + 1j*P)/np.sqrt(2) for P in Perms_f2]\n",
    "S_f2 = SQRT_SWAP_f2\n",
    "\n",
    "Perms_b2 = [SN_b,SS_b,SE_b,SN_b,D1_b,D2_b]\n",
    "SQRT_SWAP_b2 = [(Id + 1j*P)/np.sqrt(2) for P in Perms_b2]\n",
    "S_b2 = SQRT_SWAP_b2\n",
    "\n",
    "Perms_m2 = [SN_m,SS_m,SE_m,SN_m,D1_m,D2_m]\n",
    "SQRT_SWAP_m2 = [(Id + 1j*P)/np.sqrt(2) for P in Perms_m2]\n",
    "S_m2 = SQRT_SWAP_m2"
   ]
  },
  {
   "cell_type": "code",
   "execution_count": 59,
   "id": "7a846607-ee26-4a71-97ac-ca5a178bfffb",
   "metadata": {},
   "outputs": [
    {
     "name": "stdout",
     "output_type": "stream",
     "text": [
      "With diagonal swaps the fermionic puzzle is universal: False\n",
      "With diagonal swaps the bosonic puzzle is universal: False\n",
      "With diagonal swaps the mixed puzzle is universal: True\n"
     ]
    }
   ],
   "source": [
    "print(\"With diagonal swaps the fermionic puzzle is universal:\",Uc.check_universal(S_f2))\n",
    "print(\"With diagonal swaps the bosonic puzzle is universal:\",Uc.check_universal(S_b2))\n",
    "print(\"With diagonal swaps the mixed puzzle is universal:\",Uc.check_universal(S_m2))"
   ]
  },
  {
   "cell_type": "markdown",
   "id": "b3950b73-14b4-4ba7-9987-b2d2af8616dc",
   "metadata": {},
   "source": [
    "### Quarter Swaps and Eight Swaps"
   ]
  },
  {
   "cell_type": "code",
   "execution_count": 62,
   "id": "6b306e64-8039-49b7-a84c-24c726da6842",
   "metadata": {},
   "outputs": [],
   "source": [
    "S_f3 = Quarter_Swap_f\n",
    "S_b3 = Quarter_Swap_b\n",
    "S_m3 = Quarter_Swap_m\n",
    "\n",
    "Eighth_Swap_f = [np.cos(np.pi/16)*Id + np.sin(np.pi/16)*1j*P for P in Perms_f]\n",
    "Eighth_Swap_b = [np.cos(np.pi/16)*Id + np.sin(np.pi/16)*1j*P for P in Perms_b]\n",
    "Eighth_Swap_m = [np.cos(np.pi/16)*Id + np.sin(np.pi/16)*1j*P for P in Perms_m]\n",
    "\n",
    "S_f4 = Eighth_Swap_f\n",
    "S_b4 = Eighth_Swap_b\n",
    "S_m4 = Eighth_Swap_m"
   ]
  },
  {
   "cell_type": "code",
   "execution_count": 63,
   "id": "e6d4509c-f394-4d15-8475-cea149d5b739",
   "metadata": {},
   "outputs": [
    {
     "name": "stdout",
     "output_type": "stream",
     "text": [
      "With quarter swaps the fermionic puzzle is universal: False\n",
      "With quarter swaps the bosonic puzzle is universal: False\n",
      "With quarter swaps the mixed puzzle is universal: False\n",
      "With eighth swaps the fermionic puzzle is universal: False\n",
      "With eighth swaps the bosonic puzzle is universal: False\n",
      "With eighth swaps the mixed puzzle is universal: False\n"
     ]
    }
   ],
   "source": [
    "print(\"With quarter swaps the fermionic puzzle is universal:\",Uc.check_universal(S_f3))\n",
    "print(\"With quarter swaps the bosonic puzzle is universal:\",Uc.check_universal(S_b3))\n",
    "print(\"With quarter swaps the mixed puzzle is universal:\",Uc.check_universal(S_m3))\n",
    "\n",
    "print(\"With eighth swaps the fermionic puzzle is universal:\",Uc.check_universal(S_f4))\n",
    "print(\"With eighth swaps the bosonic puzzle is universal:\",Uc.check_universal(S_b4))\n",
    "print(\"With eighth swaps the mixed puzzle is universal:\",Uc.check_universal(S_m4))"
   ]
  }
 ],
 "metadata": {
  "kernelspec": {
   "display_name": "Python 3 (ipykernel)",
   "language": "python",
   "name": "python3"
  },
  "language_info": {
   "codemirror_mode": {
    "name": "ipython",
    "version": 3
   },
   "file_extension": ".py",
   "mimetype": "text/x-python",
   "name": "python",
   "nbconvert_exporter": "python",
   "pygments_lexer": "ipython3",
   "version": "3.9.7"
  }
 },
 "nbformat": 4,
 "nbformat_minor": 5
}
