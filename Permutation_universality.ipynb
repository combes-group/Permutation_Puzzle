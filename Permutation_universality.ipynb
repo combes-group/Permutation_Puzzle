{
 "cells": [
  {
   "cell_type": "code",
   "execution_count": 1,
   "id": "cbe9473e-fe69-43f5-82e6-518fbb01a7a0",
   "metadata": {},
   "outputs": [],
   "source": [
    "import numpy as np\n",
    "import scipy as sp\n",
    "import math\n",
    "import Universality_check as Uc\n",
    "import Gate_helper\n",
    "import Swap_generators"
   ]
  },
  {
   "cell_type": "markdown",
   "id": "0f6431d1-b89c-4588-a976-726af404a557",
   "metadata": {},
   "source": [
    "### Gate Set (S)"
   ]
  },
  {
   "cell_type": "code",
   "execution_count": 2,
   "id": "36dafe5d-c71f-4d48-b89a-a69cc0f48df2",
   "metadata": {
    "tags": []
   },
   "outputs": [],
   "source": [
    "## Fermionic puzzle\n",
    "Perms_f = Swap_generators.swaps(-1,-1)\n",
    "SQRT_SWAP_f = Swap_generators.sqrt_swaps(-1,-1)\n",
    "Quarter_Swap_f = Swap_generators.general_swaps(-1,-1,theta=np.pi/4)\n",
    "S_f = SQRT_SWAP_f\n",
    "\n",
    "## Bosonic puzzle\n",
    "Perms_b = Swap_generators.swaps(1,1)\n",
    "SQRT_SWAP_b = Swap_generators.sqrt_swaps(1,1)\n",
    "Quarter_Swap_b = Swap_generators.general_swaps(1,1,theta=np.pi/4)\n",
    "S_b = SQRT_SWAP_b\n",
    "\n",
    "## Mixed puzzle\n",
    "Perms_m = Swap_generators.swaps(-1,1)# we add diagonal swaps here to get universality.\n",
    "SQRT_SWAP_m = Swap_generators.sqrt_swaps(-1,1)\n",
    "Quarter_Swap_m = Swap_generators.general_swaps(-1,1,theta=np.pi/4)\n",
    "S_m = SQRT_SWAP_m"
   ]
  },
  {
   "cell_type": "markdown",
   "id": "2bb30ff3-12f3-4945-b443-df5501a7d342",
   "metadata": {},
   "source": [
    "## Step 1 of the algorithm,"
   ]
  },
  {
   "cell_type": "markdown",
   "id": "591a24ab-81cc-4d31-9b7a-cc2664cf6829",
   "metadata": {},
   "source": [
    "For our gate set to be universal we need the center of our group to be the trivial center which is just scalar multiples of the identity. If there is a non identity element in the center than that element will commute with everything in our gate set and can thus not be synthesised by a sequence of gates. If the center is nontrivial than the groups may still be infinite but they cannot be universal."
   ]
  },
  {
   "cell_type": "code",
   "execution_count": 3,
   "id": "f27c16ab-1542-4dbe-8a3a-c7552afe3339",
   "metadata": {
    "tags": []
   },
   "outputs": [
    {
     "name": "stdout",
     "output_type": "stream",
     "text": [
      "Center is trivial for fermionic puzzle: False\n",
      "Center is trivial for bosonic puzzle: False\n",
      "Center is trivial for mixed puzzle: False\n"
     ]
    }
   ],
   "source": [
    "print(\"Center is trivial for fermionic puzzle:\",Uc.check_center(S_f))\n",
    "print(\"Center is trivial for bosonic puzzle:\",Uc.check_center(S_b))\n",
    "print(\"Center is trivial for mixed puzzle:\",Uc.check_center(S_m))"
   ]
  },
  {
   "cell_type": "markdown",
   "id": "37fc0fc4-b583-4ec2-876c-960d49316426",
   "metadata": {},
   "source": [
    "### Step 2 of the algorithm"
   ]
  },
  {
   "cell_type": "markdown",
   "id": "55267f31-376f-4f86-bd7e-070270ed5678",
   "metadata": {},
   "source": [
    "This code determines the span of our gate set is infinite or finite. It does this by attempting to find an element that can be reached from our gate set that is in a ball of appropriate radius that is not in the center of the group. Note that if this check passes, but the previous check fails, that the span of $S$ is infinite, but not all of $SU(6)$, meaning it is not universal.  "
   ]
  },
  {
   "cell_type": "code",
   "execution_count": 5,
   "id": "a637a770-e3bc-4ab0-a686-2fdd62399a85",
   "metadata": {},
   "outputs": [
    {
     "name": "stdout",
     "output_type": "stream",
     "text": [
      "Fermionic puzzle is infinite: True\n",
      "Bosonic puzzle is infinite: True\n",
      "Mixed puzzle is infinite: True\n"
     ]
    }
   ],
   "source": [
    "# using a much smaller value for N than is required to be thourough since i want this to actually run \n",
    "N_SU6 = 100  #36398100 # upper bound for N\n",
    "\n",
    "print(\"Fermionic puzzle is infinite:\",not Uc.check_finite(S_f,N_SU6,10,verbose=False))\n",
    "print(\"Bosonic puzzle is infinite:\",not Uc.check_finite(S_b,N_SU6,10,verbose=False))\n",
    "print(\"Mixed puzzle is infinite:\",not Uc.check_finite(S_m,N_SU6,10,verbose=False))"
   ]
  },
  {
   "cell_type": "markdown",
   "id": "865a814e-8af5-4c27-86b1-378392d834fd",
   "metadata": {},
   "source": [
    "## Or all together we can check for universality\n"
   ]
  },
  {
   "cell_type": "code",
   "execution_count": 6,
   "id": "3d322770-9ad2-46e3-8f6a-5f750371a8ce",
   "metadata": {},
   "outputs": [
    {
     "name": "stdout",
     "output_type": "stream",
     "text": [
      "Fermionic puzzle is univeral: False\n",
      "Bosonic puzzle is univeral: False\n",
      "Mixed puzzle is univeral: False\n"
     ]
    }
   ],
   "source": [
    "print(\"Fermionic puzzle is univeral:\",Uc.check_universal(S_f))\n",
    "print(\"Bosonic puzzle is univeral:\",Uc.check_universal(S_b))\n",
    "print(\"Mixed puzzle is univeral:\",Uc.check_universal(S_m))"
   ]
  },
  {
   "cell_type": "markdown",
   "id": "3b254835-fef2-481b-a1db-0e50c8da98e2",
   "metadata": {},
   "source": [
    "# Puzzle variants that achieve universality"
   ]
  },
  {
   "cell_type": "markdown",
   "id": "f3ccf525-3aa5-4200-9dde-5b5ccc4af5a5",
   "metadata": {},
   "source": [
    "## 1) Half Swaps with and an S gate"
   ]
  },
  {
   "cell_type": "code",
   "execution_count": 7,
   "id": "306e632a-f75d-455b-b921-7bf0172b6515",
   "metadata": {},
   "outputs": [],
   "source": [
    "## add S_gate to fermionic gate set,\n",
    "S_f1 = [G for G in SQRT_SWAP_f]\n",
    "S_f1.append(Gate_helper.S_gate(6))\n",
    "\n",
    "S_b1 = [G for G in SQRT_SWAP_b]\n",
    "S_b1.append(Gate_helper.S_gate(6))\n",
    "\n",
    "S_m1 = [G for G in SQRT_SWAP_m]\n",
    "S_m1.append(Gate_helper.S_gate(6))"
   ]
  },
  {
   "cell_type": "code",
   "execution_count": 8,
   "id": "c5581d2b-dfec-4315-8936-d711d72db079",
   "metadata": {},
   "outputs": [
    {
     "name": "stdout",
     "output_type": "stream",
     "text": [
      "With S gate the fermionic puzzle is universal: True\n",
      "With S gate the bosonic puzzle is universal: True\n",
      "With S gate the mixed puzzle is universal: True\n"
     ]
    }
   ],
   "source": [
    "print(\"With S gate the fermionic puzzle is universal:\",Uc.check_universal(S_f1))\n",
    "print(\"With S gate the bosonic puzzle is universal:\",Uc.check_universal(S_b1))\n",
    "print(\"With S gate the mixed puzzle is universal:\",Uc.check_universal(S_m1))"
   ]
  },
  {
   "cell_type": "markdown",
   "id": "330ee347-2345-440c-9511-724754c08dd2",
   "metadata": {},
   "source": [
    "## 2) Add in Diagonal swaps so the puzzle allows all to all swaps"
   ]
  },
  {
   "cell_type": "code",
   "execution_count": 10,
   "id": "31dc19b6-ec78-44bd-b09d-85e58cb5c474",
   "metadata": {},
   "outputs": [
    {
     "ename": "NameError",
     "evalue": "name 'SN_f' is not defined",
     "output_type": "error",
     "traceback": [
      "\u001b[0;31m---------------------------------------------------------------------------\u001b[0m",
      "\u001b[0;31mNameError\u001b[0m                                 Traceback (most recent call last)",
      "Cell \u001b[0;32mIn[10], line 2\u001b[0m\n\u001b[1;32m      1\u001b[0m \u001b[38;5;66;03m# TODO: Fix this error\u001b[39;00m\n\u001b[0;32m----> 2\u001b[0m Perms_f2 \u001b[38;5;241m=\u001b[39m [\u001b[43mSN_f\u001b[49m,SS_f,SE_f,SN_f,D1_f,D2_f]\n\u001b[1;32m      3\u001b[0m SQRT_SWAP_f2 \u001b[38;5;241m=\u001b[39m [(Id \u001b[38;5;241m+\u001b[39m \u001b[38;5;241m1\u001b[39mj\u001b[38;5;241m*\u001b[39mP)\u001b[38;5;241m/\u001b[39mnp\u001b[38;5;241m.\u001b[39msqrt(\u001b[38;5;241m2\u001b[39m) \u001b[38;5;28;01mfor\u001b[39;00m P \u001b[38;5;129;01min\u001b[39;00m Perms_f2]\n\u001b[1;32m      4\u001b[0m S_f2 \u001b[38;5;241m=\u001b[39m SQRT_SWAP_f2\n",
      "\u001b[0;31mNameError\u001b[0m: name 'SN_f' is not defined"
     ]
    }
   ],
   "source": [
    "# TODO: Fix this error\n",
    "Perms_f2 = [SN_f,SS_f,SE_f,SN_f,D1_f,D2_f]\n",
    "SQRT_SWAP_f2 = [(Id + 1j*P)/np.sqrt(2) for P in Perms_f2]\n",
    "S_f2 = SQRT_SWAP_f2\n",
    "\n",
    "Perms_b2 = [SN_b,SS_b,SE_b,SN_b,D1_b,D2_b]\n",
    "SQRT_SWAP_b2 = [(Id + 1j*P)/np.sqrt(2) for P in Perms_b2]\n",
    "S_b2 = SQRT_SWAP_b2\n",
    "\n",
    "Perms_m2 = [SN_m,SS_m,SE_m,SN_m,D1_m,D2_m]\n",
    "SQRT_SWAP_m2 = [(Id + 1j*P)/np.sqrt(2) for P in Perms_m2]\n",
    "S_m2 = SQRT_SWAP_m2"
   ]
  },
  {
   "cell_type": "code",
   "execution_count": 16,
   "id": "7a846607-ee26-4a71-97ac-ca5a178bfffb",
   "metadata": {},
   "outputs": [
    {
     "name": "stdout",
     "output_type": "stream",
     "text": [
      "With diagonal swaps the fermionic puzzle is universal: False\n",
      "With diagonal swaps the bosonic puzzle is universal: False\n",
      "With diagonal swaps the mixed puzzle is universal: True\n"
     ]
    }
   ],
   "source": [
    "print(\"With diagonal swaps the fermionic puzzle is universal:\",Uc.check_universal(S_f2))\n",
    "print(\"With diagonal swaps the bosonic puzzle is universal:\",Uc.check_universal(S_b2))\n",
    "print(\"With diagonal swaps the mixed puzzle is universal:\",Uc.check_universal(S_m2))"
   ]
  },
  {
   "cell_type": "markdown",
   "id": "b3950b73-14b4-4ba7-9987-b2d2af8616dc",
   "metadata": {},
   "source": [
    "### Quarter Swaps and Eight Swaps"
   ]
  },
  {
   "cell_type": "code",
   "execution_count": 11,
   "id": "6b306e64-8039-49b7-a84c-24c726da6842",
   "metadata": {},
   "outputs": [],
   "source": [
    "S_f3 = Quarter_Swap_f\n",
    "S_b3 = Quarter_Swap_b\n",
    "S_m3 = Quarter_Swap_m\n",
    "\n",
    "Eighth_Swap_f = Swap_generators.general_swaps(-1,-1,theta=np.pi/8)\n",
    "Eighth_Swap_b = Swap_generators.general_swaps(1,1,theta=np.pi/8)\n",
    "Eighth_Swap_m = Swap_generators.general_swaps(-1,1,theta=np.pi/8)\n",
    "\n",
    "S_f4 = Eighth_Swap_f\n",
    "S_b4 = Eighth_Swap_b\n",
    "S_m4 = Eighth_Swap_m"
   ]
  },
  {
   "cell_type": "code",
   "execution_count": 12,
   "id": "e6d4509c-f394-4d15-8475-cea149d5b739",
   "metadata": {},
   "outputs": [
    {
     "name": "stdout",
     "output_type": "stream",
     "text": [
      "With quarter swaps the fermionic puzzle is universal: False\n",
      "With quarter swaps the bosonic puzzle is universal: False\n",
      "With quarter swaps the mixed puzzle is universal: False\n",
      "------------------------------------------------------\n",
      "With eighth swaps the fermionic puzzle is universal: False\n",
      "With eighth swaps the bosonic puzzle is universal: False\n",
      "With eighth swaps the mixed puzzle is universal: False\n"
     ]
    }
   ],
   "source": [
    "print(\"With quarter swaps the fermionic puzzle is universal:\",Uc.check_universal(S_f3))\n",
    "print(\"With quarter swaps the bosonic puzzle is universal:\",Uc.check_universal(S_b3))\n",
    "print(\"With quarter swaps the mixed puzzle is universal:\",Uc.check_universal(S_m3))\n",
    "print('------------------------------------------------------')\n",
    "print(\"With eighth swaps the fermionic puzzle is universal:\",Uc.check_universal(S_f4))\n",
    "print(\"With eighth swaps the bosonic puzzle is universal:\",Uc.check_universal(S_b4))\n",
    "print(\"With eighth swaps the mixed puzzle is universal:\",Uc.check_universal(S_m4))"
   ]
  },
  {
   "cell_type": "markdown",
   "id": "4eeb0a06-9210-414d-93a6-c5f901a742d3",
   "metadata": {},
   "source": [
    "# Add in minimal addition"
   ]
  },
  {
   "cell_type": "code",
   "execution_count": 13,
   "id": "3c343d4b-e74b-46af-ac04-b5b795273d9c",
   "metadata": {},
   "outputs": [],
   "source": [
    "## add S_gate to fermionic gate set,\n",
    "Fake_phase = np.diag([1,1,1,1,1,-1])\n",
    "\n",
    "\n",
    "S_f1 = [G for G in SQRT_SWAP_f]\n",
    "S_f1.append(Fake_phase)\n",
    "\n",
    "S_b1 = [G for G in SQRT_SWAP_b]\n",
    "S_b1.append(Fake_phase)\n",
    "\n",
    "S_m1 = [G for G in SQRT_SWAP_m]\n",
    "S_m1.append(Fake_phase)"
   ]
  },
  {
   "cell_type": "code",
   "execution_count": 14,
   "id": "32e50a60-bfbd-4a29-9a9a-92246654d70f",
   "metadata": {},
   "outputs": [
    {
     "name": "stdout",
     "output_type": "stream",
     "text": [
      "Fermions with fake phase gate: True\n",
      "Bosons with fake phase gate: True\n",
      "Mixed puzzle with fake phast gate: True\n"
     ]
    }
   ],
   "source": [
    "print(\"Fermions with fake phase gate:\",Uc.check_universal(S_f1))\n",
    "print(\"Bosons with fake phase gate:\",Uc.check_universal(S_b1))\n",
    "print(\"Mixed puzzle with fake phast gate:\",Uc.check_universal(S_m1))"
   ]
  },
  {
   "cell_type": "code",
   "execution_count": 12,
   "id": "c30713a1-904a-49d6-b320-fffe75f19a5a",
   "metadata": {},
   "outputs": [],
   "source": [
    "def commutator(A,B):\n",
    "    return A@B - B@A\n",
    "def vec(A):\n",
    "    vector = np.array(A[:,0])\n",
    "    for i in range(len(A[0,:])-1):\n",
    "        column = A[:,i+1]\n",
    "        vector = np.append(vector,column)\n",
    "    return np.transpose(vector)"
   ]
  },
  {
   "cell_type": "code",
   "execution_count": 13,
   "id": "aefaf7d1-0c59-42d0-ac3d-8701f88990a9",
   "metadata": {},
   "outputs": [],
   "source": [
    "#commutator(SQRT_SWAP_f[0],Fake_phase)\n"
   ]
  },
  {
   "cell_type": "code",
   "execution_count": 14,
   "id": "96ab0d84-758a-41d3-a070-59f928e24632",
   "metadata": {},
   "outputs": [],
   "source": [
    "dim = 6\n",
    "X = np.zeros((dim,dim),dtype=complex)\n",
    "for i in range(dim):\n",
    "    X[i,i-1] = 1\n",
    "Z = Gate_helper.Z_gate(dim)\n",
    "Y = 1j*X@Z\n",
    "I = np.eye(dim)\n",
    "#paulis = [X,Y,Z]\n",
    "basis = [ np.linalg.matrix_power(X,m+1)@np.linalg.matrix_power(Z,(n+1)) for n in range(dim) for m in range(dim)]\n",
    "s = [G for G in SQRT_SWAP_f] \n",
    "Fake_phase = np.diag([1,1,1,1,1,-1])\n",
    "#s.append(Fake_phase)\n",
    "commutator_mat = np.zeros((len(s),len(basis),dim,dim),dtype=complex)\n",
    "for i,gate in enumerate(s):\n",
    "    for j,pauli in enumerate(basis):\n",
    "        commutator_mat[i,j,:,:] = commutator(gate,pauli)\n"
   ]
  },
  {
   "cell_type": "code",
   "execution_count": 15,
   "id": "0d77c74d-c0e3-431a-9971-ee5f37b9f533",
   "metadata": {},
   "outputs": [],
   "source": [
    "Mat = np.zeros([dim**2*len(s),len(basis)],dtype=complex)\n",
    "for column in range(len(commutator_mat[0,:,0,0])):\n",
    "    for row in range(len(commutator_mat[:,0,0,0])):\n",
    "        vector = vec(commutator_mat[row,column,:,:])\n",
    "        Mat[36*row:(36*(row+1)),column] = vector"
   ]
  },
  {
   "cell_type": "code",
   "execution_count": 16,
   "id": "51f4035b-c515-4897-9268-7de5f03a7c93",
   "metadata": {},
   "outputs": [
    {
     "data": {
      "text/plain": [
       "<matplotlib.image.AxesImage at 0x7fde89c65790>"
      ]
     },
     "execution_count": 16,
     "metadata": {},
     "output_type": "execute_result"
    },
    {
     "data": {
      "image/png": "[encoded data removed]",
      "text/plain": [
       "<Figure size 432x288 with 1 Axes>"
      ]
     },
     "metadata": {
      "needs_background": "light"
     },
     "output_type": "display_data"
    }
   ],
   "source": [
    "from matplotlib import pyplot as plt\n",
    "plt.imshow(np.abs(Mat),aspect=.2)"
   ]
  },
  {
   "cell_type": "code",
   "execution_count": 17,
   "id": "af4de8ad-2526-4d99-8427-aa1bc3145f91",
   "metadata": {},
   "outputs": [],
   "source": [
    "import numpy as np\n",
    "from numpy.linalg import svd\n",
    "\n",
    "def nullspace(A, atol=1e-13, rtol=0):\n",
    "    A = np.atleast_2d(A)\n",
    "    u, s, vh = svd(A)\n",
    "    tol = max(atol, rtol * s[0])\n",
    "    nnz = (s >= tol).sum()\n",
    "    ns = vh[nnz:].conj().T\n",
    "    return ns\n",
    "null_vals = nullspace(Mat)\n",
    "null_mats = []\n",
    "\n",
    "for i in range(len(null_vals[0,:])):\n",
    "    sum_mat = np.zeros([dim,dim],dtype=complex)\n",
    "    for j,paulis in enumerate(basis):\n",
    "        sum_mat += null_vals[j,i]*basis[j]\n",
    "    null_mats.append(sum_mat)"
   ]
  },
  {
   "cell_type": "code",
   "execution_count": 18,
   "id": "8b1a6ed2-46c4-4bd6-b9f7-faef8f1cb1cd",
   "metadata": {},
   "outputs": [
    {
     "data": {
      "text/plain": [
       "array([1., 1., 1.])"
      ]
     },
     "execution_count": 18,
     "metadata": {},
     "output_type": "execute_result"
    }
   ],
   "source": [
    "coeff_sum = np.sum(np.abs(null_vals)**2,axis=0)\n",
    "coeff_sum\n",
    "# index = 0\n",
    "# for i in range(36):\n",
    "#     for j in range(36):\n",
    "#         if i!=j:\n",
    "#             if (null_vals[i,index]*null_vals[j,index]!=0):\n",
    "#                 print(null_vals[i,index]*null_vals[j,index])"
   ]
  },
  {
   "cell_type": "code",
   "execution_count": 19,
   "id": "4ebf0180-d2c4-4774-a690-bcdd572fca69",
   "metadata": {},
   "outputs": [
    {
     "data": {
      "text/plain": [
       "array([[1.     , 0.08061, 0.2952 , 0.2952 , 0.2952 , 0.2952 ],\n",
       "       [0.08061, 1.     , 0.2952 , 0.2952 , 0.2952 , 0.2952 ],\n",
       "       [0.2952 , 0.2952 , 1.     , 0.08061, 0.2952 , 0.2952 ],\n",
       "       [0.2952 , 0.2952 , 0.08061, 1.     , 0.2952 , 0.2952 ],\n",
       "       [0.2952 , 0.2952 , 0.2952 , 0.2952 , 1.     , 0.08061],\n",
       "       [0.2952 , 0.2952 , 0.2952 , 0.2952 , 0.08061, 1.     ]])"
      ]
     },
     "execution_count": 19,
     "metadata": {},
     "output_type": "execute_result"
    }
   ],
   "source": [
    "np.abs(np.round(np.transpose(np.conj(null_mats[2]))@null_mats[2],5))"
   ]
  },
  {
   "cell_type": "code",
   "execution_count": 20,
   "id": "76aacccc-debb-40c9-b648-21b02fa7b4f9",
   "metadata": {},
   "outputs": [
    {
     "data": {
      "image/png": "[encoded data removed]",
      "text/plain": [
       "<Figure size 432x288 with 1 Axes>"
      ]
     },
     "metadata": {
      "needs_background": "light"
     },
     "output_type": "display_data"
    }
   ],
   "source": [
    "plt.imshow(np.abs(null_mats[1])**2)\n",
    "#print(np.round(commutator(np.transpose(np.conj(null_mats[2])),null_mats[1]),4))\n",
    "for null_mat in null_mats:\n",
    "    for gate in s:\n",
    "        assert(np.isclose(commutator(gate,null_mat),np.zeros([dim,dim])).all())"
   ]
  },
  {
   "cell_type": "markdown",
   "id": "be4967b2-d053-4393-b945-a7de96cd5ff0",
   "metadata": {},
   "source": [
    "These matricies are not unitary so we need to determine what unitaries can be constructed from the linear combination of them. To do this we will solve the eqaution $$(\\alpha M_1+\\beta M_2)^\\dagger(\\alpha M_1+\\beta M_2) = I$$ we can do this by multiplying out the LHS $$|\\alpha|^2M_1^\\dagger M_1+|\\beta|^2M_2^\\dagger M_2+\\alpha^*\\beta M_1^\\dagger M_2 + \\alpha\\beta^* M_2^\\dagger M_1 = I$$ We note that $\\left[M_1,M_2\\right] = 0$ by construction."
   ]
  },
  {
   "cell_type": "code",
   "execution_count": 104,
   "id": "bbbac058-f678-44a8-b6a2-8bf01c9eb6c2",
   "metadata": {},
   "outputs": [],
   "source": [
    "U_1 = null_mats[0]/(np.trace(np.conj(null_mats[0].T)@null_mats[0]))*dim\n",
    "U_2 = null_mats[1] - np.trace(np.conj(U_1.T)@null_mats[1])*U_1\n",
    "U_2 /= np.trace(np.conj(U_2.T)@U_2)/dim\n",
    "U_3 = null_mats[2] - np.trace(np.conj(U_1.T)@null_mats[2])*U_1 - np.trace(np.conj(U_2.T)@null_mats[2])*U_2\n",
    "U_3 /= np.trace(np.conj(U_3.T)@U_3)/dim"
   ]
  },
  {
   "cell_type": "code",
   "execution_count": 106,
   "id": "24bcca50-2ce9-4d6a-9b56-3a241bd5f54a",
   "metadata": {},
   "outputs": [
    {
     "data": {
      "text/plain": [
       "array([[ 1.    +0.j,  0.9194-0.j,  0.2048-0.j,  0.2048-0.j, -0.2048+0.j,\n",
       "        -0.2048-0.j],\n",
       "       [ 0.9194+0.j,  1.    +0.j,  0.2048-0.j,  0.2048-0.j, -0.2048+0.j,\n",
       "        -0.2048-0.j],\n",
       "       [ 0.2048+0.j,  0.2048+0.j,  1.    +0.j,  0.9194+0.j, -0.2048+0.j,\n",
       "        -0.2048-0.j],\n",
       "       [ 0.2048+0.j,  0.2048+0.j,  0.9194-0.j,  1.    +0.j, -0.2048+0.j,\n",
       "        -0.2048-0.j],\n",
       "       [-0.2048-0.j, -0.2048-0.j, -0.2048-0.j, -0.2048-0.j,  1.    +0.j,\n",
       "         0.9194+0.j],\n",
       "       [-0.2048+0.j, -0.2048+0.j, -0.2048+0.j, -0.2048+0.j,  0.9194-0.j,\n",
       "         1.    +0.j]])"
      ]
     },
     "execution_count": 106,
     "metadata": {},
     "output_type": "execute_result"
    }
   ],
   "source": [
    "np.round(np.conj(U_2.T)@U_2,4)"
   ]
  },
  {
   "cell_type": "code",
   "execution_count": 31,
   "id": "012e5f6c-2174-465c-9103-40e375e538b3",
   "metadata": {},
   "outputs": [],
   "source": [
    "basis_com = [np.transpose(np.conj(mat_1))@mat_2 for mat_1 in null_mats for mat_2 in null_mats]\n",
    "Mat_com = np.zeros([dim**2,len(basis_com)],dtype=complex)\n",
    "for column in range(len(basis_com)):\n",
    "    Mat_com[:,column] = vec(basis_com[column])\n",
    "null_vals_com = nullspace(Mat_com)\n",
    "null_mats_com = []\n",
    "gamma_sq = null_vals_com[0]+1\n",
    "alpha_sq = null_vals_com[4]\n",
    "beta_sq = null_vals_com[8]\n",
    "normed_vals = null_vals_com/(np.sqrt(beta_sq*alpha_sq*gamma_sq))\n",
    "# for i in range(len(null_vals_com[0,:])):\n",
    "#     sum_mat = np.zeros([dim,dim],dtype=complex)\n",
    "#     for j,paulis in enumerate(basis_com):\n",
    "#         sum_mat += null_vals_com[j,i]*basis_com[j]\n",
    "#     null_mats_com.append(sum_mat)"
   ]
  },
  {
   "cell_type": "code",
   "execution_count": 32,
   "id": "6049824a-133f-450e-a3f3-d7b9e4ebbcd5",
   "metadata": {},
   "outputs": [
    {
     "data": {
      "text/plain": [
       "array([1.15373952+0.j, 0.96217564+0.j, 1.03833424+0.j, 0.68847695+0.j,\n",
       "       0.31867879+0.j, 0.8472588 +0.j])"
      ]
     },
     "execution_count": 32,
     "metadata": {},
     "output_type": "execute_result"
    }
   ],
   "source": [
    "gamma_sq"
   ]
  },
  {
   "cell_type": "code",
   "execution_count": null,
   "id": "880abb58-ad59-472a-9a3e-5eaff40f431d",
   "metadata": {},
   "outputs": [],
   "source": []
  }
 ],
 "metadata": {
  "kernelspec": {
   "display_name": "Python 3 (ipykernel)",
   "language": "python",
   "name": "python3"
  },
  "language_info": {
   "codemirror_mode": {
    "name": "ipython",
    "version": 3
   },
   "file_extension": ".py",
   "mimetype": "text/x-python",
   "name": "python",
   "nbconvert_exporter": "python",
   "pygments_lexer": "ipython3",
   "version": "3.10.13"
  }
 },
 "nbformat": 4,
 "nbformat_minor": 5
}
