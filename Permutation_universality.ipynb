{
 "cells": [
  {
   "cell_type": "code",
   "execution_count": 17,
   "id": "cbe9473e-fe69-43f5-82e6-518fbb01a7a0",
   "metadata": {},
   "outputs": [],
   "source": [
    "import numpy as np\n",
    "import scipy as sp\n",
    "import math\n",
    "import Universality_check as Uc\n",
    "import Gate_helper\n",
    "import Swap_generators"
   ]
  },
  {
   "cell_type": "markdown",
   "id": "0f6431d1-b89c-4588-a976-726af404a557",
   "metadata": {},
   "source": [
    "### Gate Set (S)"
   ]
  },
  {
   "cell_type": "code",
   "execution_count": 18,
   "id": "36dafe5d-c71f-4d48-b89a-a69cc0f48df2",
   "metadata": {
    "tags": []
   },
   "outputs": [],
   "source": [
    "## Fermionic puzzle\n",
    "Perms_f = Swap_generators.swaps(-1,-1)\n",
    "SQRT_SWAP_f = Swap_generators.sqrt_swaps(-1,-1)\n",
    "Quarter_Swap_f = Swap_generators.general_swaps(-1,-1,theta=np.pi/8)\n",
    "S_f = SQRT_SWAP_f\n",
    "## Bosonic puzzle\n",
    "Perms_b = Swap_generators.swaps(1,1)\n",
    "SQRT_SWAP_b = Swap_generators.sqrt_swaps(1,1)\n",
    "Quarter_Swap_b = Swap_generators.general_swaps(1,1,theta=np.pi/8)\n",
    "S_b = SQRT_SWAP_b\n",
    "## Mixed puzzle\n",
    "Perms_m = Swap_generators.swaps(-1,1)# we add diagonal swaps here to get universality.\n",
    "SQRT_SWAP_m = Swap_generators.sqrt_swaps(-1,1)\n",
    "Quarter_Swap_m = Swap_generators.general_swaps(-1,1,theta=np.pi/8)\n",
    "S_m = SQRT_SWAP_m\n"
   ]
  },
  {
   "cell_type": "markdown",
   "id": "2bb30ff3-12f3-4945-b443-df5501a7d342",
   "metadata": {},
   "source": [
    "## Step 1 of the algorithm,"
   ]
  },
  {
   "cell_type": "markdown",
   "id": "591a24ab-81cc-4d31-9b7a-cc2664cf6829",
   "metadata": {},
   "source": [
    "For our gate set to be universal we need the center of our group to be the trivial center which is just scalar multiples of the identity. If there is a non identity element in the center than that element will commute with everything in our gate set and can thus not be synthesised by a sequence of gates. If the center is nontrivial than the groups may still be infinite but they cannot be universal."
   ]
  },
  {
   "cell_type": "code",
   "execution_count": 19,
   "id": "f27c16ab-1542-4dbe-8a3a-c7552afe3339",
   "metadata": {
    "tags": []
   },
   "outputs": [
    {
     "name": "stdout",
     "output_type": "stream",
     "text": [
      "Center is trivial for fermionic puzzle: False\n",
      "Center is trivial for bosonic puzzle: False\n",
      "Center is trivial for mixed puzzle: False\n"
     ]
    }
   ],
   "source": [
    "print(\"Center is trivial for fermionic puzzle:\",Uc.check_center(S_f))\n",
    "print(\"Center is trivial for bosonic puzzle:\",Uc.check_center(S_b))\n",
    "print(\"Center is trivial for mixed puzzle:\",Uc.check_center(S_m))"
   ]
  },
  {
   "cell_type": "markdown",
   "id": "37fc0fc4-b583-4ec2-876c-960d49316426",
   "metadata": {},
   "source": [
    "### Step 2 of the algorithm"
   ]
  },
  {
   "cell_type": "markdown",
   "id": "55267f31-376f-4f86-bd7e-070270ed5678",
   "metadata": {},
   "source": [
    "This code determines the span of our gate set is infinite or finite. It does this by attempting to find an element that can be reached from our gate set that is in a ball of appropriate radius that is not in the center of the group. Note that if this check passes, but the previous check fails, that the span of $S$ is infinite, but not all of $SU(6)$, meaning it is not universal.  "
   ]
  },
  {
   "cell_type": "code",
   "execution_count": 20,
   "id": "a637a770-e3bc-4ab0-a686-2fdd62399a85",
   "metadata": {},
   "outputs": [
    {
     "name": "stdout",
     "output_type": "stream",
     "text": [
      "Fermionic puzzle is infinite: True\n",
      "Bosonic puzzle is infinite: True\n",
      "Mixed puzzle is infinite: True\n"
     ]
    }
   ],
   "source": [
    "# using a much smaller value for N than is required to be thourough since i want this to actually run \n",
    "N_SU6 = 100  #36398100 # upper bound for N\n",
    "\n",
    "print(\"Fermionic puzzle is infinite:\",not Uc.check_finite(S_f,N_SU6,10,verbose=False))\n",
    "print(\"Bosonic puzzle is infinite:\",not Uc.check_finite(S_b,N_SU6,10,verbose=False))\n",
    "print(\"Mixed puzzle is infinite:\",not Uc.check_finite(S_m,N_SU6,10,verbose=False))"
   ]
  },
  {
   "cell_type": "markdown",
   "id": "865a814e-8af5-4c27-86b1-378392d834fd",
   "metadata": {},
   "source": [
    "## Or all together we can check for universality\n"
   ]
  },
  {
   "cell_type": "code",
   "execution_count": 21,
   "id": "3d322770-9ad2-46e3-8f6a-5f750371a8ce",
   "metadata": {},
   "outputs": [
    {
     "name": "stdout",
     "output_type": "stream",
     "text": [
      "Fermionic puzzle is universal: False\n",
      "Bosonic puzzle is universal: False\n",
      "Mixed puzzle is universal: False\n"
     ]
    }
   ],
   "source": [
    "print(\"Fermionic puzzle is universal:\",Uc.check_universal(S_f))\n",
    "print(\"Bosonic puzzle is universal:\",Uc.check_universal(S_b))\n",
    "print(\"Mixed puzzle is universal:\",Uc.check_universal(S_m))"
   ]
  },
  {
   "cell_type": "markdown",
   "id": "3b254835-fef2-481b-a1db-0e50c8da98e2",
   "metadata": {},
   "source": [
    "# Puzzle variants that achieve universality"
   ]
  },
  {
   "cell_type": "markdown",
   "id": "f3ccf525-3aa5-4200-9dde-5b5ccc4af5a5",
   "metadata": {},
   "source": [
    "## 1) Half Swaps with and an S gate"
   ]
  },
  {
   "cell_type": "code",
   "execution_count": 22,
   "id": "306e632a-f75d-455b-b921-7bf0172b6515",
   "metadata": {},
   "outputs": [],
   "source": [
    "## add S_gate to fermionic gate set,\n",
    "S_f1 = [G for G in SQRT_SWAP_f]\n",
    "S_f1.append(Gate_helper.S_gate(6))\n",
    "\n",
    "S_b1 = [G for G in SQRT_SWAP_b]\n",
    "S_b1.append(Gate_helper.S_gate(6))\n",
    "\n",
    "S_m1 = [G for G in SQRT_SWAP_m]\n",
    "S_m1.append(Gate_helper.S_gate(6))"
   ]
  },
  {
   "cell_type": "code",
   "execution_count": 23,
   "id": "c5581d2b-dfec-4315-8936-d711d72db079",
   "metadata": {},
   "outputs": [
    {
     "name": "stdout",
     "output_type": "stream",
     "text": [
      "With S gate the fermionic puzzle is universal: True\n",
      "With S gate the bosonic puzzle is universal: True\n",
      "With S gate the mixed puzzle is universal: True\n"
     ]
    }
   ],
   "source": [
    "print(\"With S gate the fermionic puzzle is universal:\",Uc.check_universal(S_f1))\n",
    "print(\"With S gate the bosonic puzzle is universal:\",Uc.check_universal(S_b1))\n",
    "print(\"With S gate the mixed puzzle is universal:\",Uc.check_universal(S_m1))"
   ]
  },
  {
   "cell_type": "markdown",
   "id": "330ee347-2345-440c-9511-724754c08dd2",
   "metadata": {},
   "source": [
    "## 2) Add in Diagonal swaps so the puzzle allows all to all swaps"
   ]
  },
  {
   "cell_type": "code",
   "execution_count": 24,
   "id": "31dc19b6-ec78-44bd-b09d-85e58cb5c474",
   "metadata": {},
   "outputs": [],
   "source": [
    "# TODO: Fix this error\n",
    "Perms_f2 = Swap_generators.swaps(-1,-1,diagonals=True)\n",
    "SQRT_SWAP_f2 = Swap_generators.sqrt_swaps(-1,-1,diagonals=True)\n",
    "S_f2 = SQRT_SWAP_f2\n",
    "\n",
    "Perms_b2 = Swap_generators.swaps(1,1,diagonals=True)\n",
    "SQRT_SWAP_b2 = Swap_generators.sqrt_swaps(1,1,diagonals=True)\n",
    "S_b2 = SQRT_SWAP_b2\n",
    "\n",
    "Perms_m2 = Swap_generators.swaps(-1,1,diagonals=True)\n",
    "SQRT_SWAP_m2 = Swap_generators.sqrt_swaps(-1,1,diagonals=False)\n",
    "S_m2 = SQRT_SWAP_m2\n",
    "S_m2.append(Perms_m2[-1])\n",
    "S_m2.append(Perms_m2[-2])"
   ]
  },
  {
   "cell_type": "code",
   "execution_count": 25,
   "id": "7a846607-ee26-4a71-97ac-ca5a178bfffb",
   "metadata": {},
   "outputs": [
    {
     "name": "stdout",
     "output_type": "stream",
     "text": [
      "With diagonal swaps the fermionic puzzle is universal: False\n",
      "With diagonal swaps the bosonic puzzle is universal: False\n",
      "With diagonal swaps the mixed puzzle is universal: True\n"
     ]
    }
   ],
   "source": [
    "print(\"With diagonal swaps the fermionic puzzle is universal:\",Uc.check_universal(S_f2))\n",
    "print(\"With diagonal swaps the bosonic puzzle is universal:\",Uc.check_universal(S_b2))\n",
    "print(\"With diagonal swaps the mixed puzzle is universal:\",Uc.check_universal(S_m2))"
   ]
  },
  {
   "cell_type": "markdown",
   "id": "b3950b73-14b4-4ba7-9987-b2d2af8616dc",
   "metadata": {},
   "source": [
    "### Quarter Swaps and Eight Swaps"
   ]
  },
  {
   "cell_type": "code",
   "execution_count": 26,
   "id": "6b306e64-8039-49b7-a84c-24c726da6842",
   "metadata": {},
   "outputs": [],
   "source": [
    "S_f3 = Quarter_Swap_f\n",
    "S_b3 = Quarter_Swap_b\n",
    "S_m3 = Quarter_Swap_m\n",
    "\n",
    "Eighth_Swap_f = Swap_generators.general_swaps(-1,-1,theta=np.pi/16)\n",
    "Eighth_Swap_b = Swap_generators.general_swaps(1,1,theta=np.pi/16)\n",
    "Eighth_Swap_m = Swap_generators.general_swaps(-1,1,theta=np.pi/16)\n",
    "\n",
    "S_f4 = Eighth_Swap_f\n",
    "S_b4 = Eighth_Swap_b\n",
    "S_m4 = Eighth_Swap_m"
   ]
  },
  {
   "cell_type": "code",
   "execution_count": 27,
   "id": "e6d4509c-f394-4d15-8475-cea149d5b739",
   "metadata": {},
   "outputs": [
    {
     "name": "stdout",
     "output_type": "stream",
     "text": [
      "With quarter swaps the fermionic puzzle is universal: False\n",
      "With quarter swaps the bosonic puzzle is universal: False\n",
      "With quarter swaps the mixed puzzle is universal: False\n",
      "------------------------------------------------------\n",
      "With eighth swaps the fermionic puzzle is universal: False\n",
      "With eighth swaps the bosonic puzzle is universal: False\n",
      "With eighth swaps the mixed puzzle is universal: False\n"
     ]
    }
   ],
   "source": [
    "print(\"With quarter swaps the fermionic puzzle is universal:\",Uc.check_universal(S_f3))\n",
    "print(\"With quarter swaps the bosonic puzzle is universal:\",Uc.check_universal(S_b3))\n",
    "print(\"With quarter swaps the mixed puzzle is universal:\",Uc.check_universal(S_m3))\n",
    "print('------------------------------------------------------')\n",
    "print(\"With eighth swaps the fermionic puzzle is universal:\",Uc.check_universal(S_f4))\n",
    "print(\"With eighth swaps the bosonic puzzle is universal:\",Uc.check_universal(S_b4))\n",
    "print(\"With eighth swaps the mixed puzzle is universal:\",Uc.check_universal(S_m4))"
   ]
  },
  {
   "cell_type": "markdown",
   "id": "4eeb0a06-9210-414d-93a6-c5f901a742d3",
   "metadata": {},
   "source": [
    "# One simple addition that achieves universality"
   ]
  },
  {
   "cell_type": "code",
   "execution_count": 28,
   "id": "3c343d4b-e74b-46af-ac04-b5b795273d9c",
   "metadata": {},
   "outputs": [],
   "source": [
    "P = np.diag([1,1,1,1,1,-1])\n",
    "\n",
    "\n",
    "S_f5 = [G for G in SQRT_SWAP_f]\n",
    "S_f5.append(P)\n",
    "\n",
    "S_b5 = [G for G in SQRT_SWAP_b]\n",
    "S_b5.append(P)\n",
    "\n",
    "S_m5 = [G for G in SQRT_SWAP_m]\n",
    "S_m5.append(P)"
   ]
  },
  {
   "cell_type": "code",
   "execution_count": 29,
   "id": "32e50a60-bfbd-4a29-9a9a-92246654d70f",
   "metadata": {},
   "outputs": [
    {
     "name": "stdout",
     "output_type": "stream",
     "text": [
      "Fermions with phase gate: True\n",
      "Bosons with phase gate: True\n",
      "Mixed puzzle with phast gate: True\n"
     ]
    }
   ],
   "source": [
    "print(\"Fermions with phase gate:\",Uc.check_universal(S_f5))\n",
    "print(\"Bosons with phase gate:\",Uc.check_universal(S_b5))\n",
    "print(\"Mixed puzzle with phast gate:\",Uc.check_universal(S_m5))"
   ]
  },
  {
   "cell_type": "code",
   "execution_count": null,
   "id": "313144f7-24f1-4d7e-aed5-11b527e46ef0",
   "metadata": {},
   "outputs": [],
   "source": []
  }
 ],
 "metadata": {
  "kernelspec": {
   "display_name": "Python 3 (ipykernel)",
   "language": "python",
   "name": "python3"
  },
  "language_info": {
   "codemirror_mode": {
    "name": "ipython",
    "version": 3
   },
   "file_extension": ".py",
   "mimetype": "text/x-python",
   "name": "python",
   "nbconvert_exporter": "python",
   "pygments_lexer": "ipython3",
   "version": "3.9.7"
  }
 },
 "nbformat": 4,
 "nbformat_minor": 5
}
