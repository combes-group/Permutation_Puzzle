{
 "cells": [
  {
   "cell_type": "code",
   "execution_count": 6,
   "id": "cbe9473e-fe69-43f5-82e6-518fbb01a7a0",
   "metadata": {},
   "outputs": [],
   "source": [
    "import numpy as np\n",
    "import scipy as sp\n",
    "import math\n",
    "import Universality_check as Uc\n",
    "import Gate_helper"
   ]
  },
  {
   "cell_type": "markdown",
   "id": "009c89f0-c873-483e-9478-5657f9a81698",
   "metadata": {
    "tags": []
   },
   "source": [
    "### States"
   ]
  },
  {
   "cell_type": "code",
   "execution_count": 7,
   "id": "9c610a00-c04b-4cc1-a1dc-7da6dd6537f7",
   "metadata": {
    "jupyter": {
     "source_hidden": true
    },
    "tags": []
   },
   "outputs": [],
   "source": [
    "zero  = np.array([[1], [0], [0], [0], [0], [0]],dtype=complex)\n",
    "one   = np.array([[0], [1], [0], [0], [0], [0]],dtype=complex)\n",
    "two   = np.array([[0], [0], [1], [0], [0], [0]],dtype=complex)\n",
    "three = np.array([[0], [0], [0], [1], [0], [0]],dtype=complex)\n",
    "four  = np.array([[0], [0], [0], [0], [1], [0]],dtype=complex)\n",
    "five  = np.array([[0], [0], [0], [0], [0], [1]],dtype=complex)"
   ]
  },
  {
   "cell_type": "markdown",
   "id": "74d52449-ffe6-4fe1-aa13-e80962efbc72",
   "metadata": {},
   "source": [
    "### Permutations"
   ]
  },
  {
   "cell_type": "code",
   "execution_count": 8,
   "id": "4604dad3-1be5-414a-b57d-cd932ce34dbe",
   "metadata": {},
   "outputs": [],
   "source": [
    "SN = - zero@zero.T - one@one.T + five@two.T \\\n",
    "     +four@three.T+three@four.T+ two@five.T\n",
    "\n",
    "SS =  -zero@zero.T - one@one.T + five@three.T \\\n",
    "     +four@two.T+two@four.T+ three@five.T\n",
    "\n",
    "SE =  -two@two.T - three@three.T + five@one.T \\\n",
    "     +four@zero.T+zero@four.T+ one@five.T\n",
    "\n",
    "SW = - two@two.T - three@three.T + five@zero.T \\\n",
    "     +four@one.T+one@four.T+ zero@five.T\n",
    "\n",
    "D1 = zero@three.T + three@zero.T +one@two.T + two@one.T \\\n",
    "     -four@four.T - five@five.T\n",
    "\n",
    "D2 = zero@two.T + two@zero.T +one@three.T + three@one.T \\\n",
    "     -four@four.T - five@five.T\n",
    "\n",
    "rot_CW = zero@three.T + three@one.T + one@two.T + two@zero.T + four@five.T + five@four.T\n",
    "\n",
    "rot_CCW = rot_CW.T\n",
    "\n",
    "flip_V = zero@zero.T + one@one.T + three@two.T + two@three.T + four@five.T + five@four.T\n",
    "\n",
    "flip_H = zero@one.T + one@zero.T + three@three.T + two@two.T + four@five.T + five@four.T\n",
    "\n",
    "Id = zero@zero.T + one@one.T + two@two.T + \\\n",
    "     three@three.T + four@four.T + five@five.T"
   ]
  },
  {
   "cell_type": "markdown",
   "id": "0f6431d1-b89c-4588-a976-726af404a557",
   "metadata": {},
   "source": [
    "### Gate Set (S)"
   ]
  },
  {
   "cell_type": "code",
   "execution_count": 9,
   "id": "36dafe5d-c71f-4d48-b89a-a69cc0f48df2",
   "metadata": {
    "tags": []
   },
   "outputs": [],
   "source": [
    "Perms = [SN,SS,SE,SN]#D1,D2,flip_H,flip_V,rot_CW,rot_CCW]\n",
    "SQRT_SWAP = [(Id + 1j*P)/np.sqrt(2) for P in Perms]\n",
    "Quarter_Swap = [np.cos(np.pi/8)*Id + np.sin(np.pi/8)*1j*P for P in Perms]\n",
    "S = SQRT_SWAP"
   ]
  },
  {
   "cell_type": "markdown",
   "id": "2bb30ff3-12f3-4945-b443-df5501a7d342",
   "metadata": {},
   "source": [
    "### Step 1 of the algorithm,"
   ]
  },
  {
   "cell_type": "markdown",
   "id": "591a24ab-81cc-4d31-9b7a-cc2664cf6829",
   "metadata": {},
   "source": [
    "For our gate set to be universal we need the"
   ]
  },
  {
   "cell_type": "code",
   "execution_count": 10,
   "id": "f27c16ab-1542-4dbe-8a3a-c7552afe3339",
   "metadata": {
    "tags": []
   },
   "outputs": [
    {
     "data": {
      "text/plain": [
       "False"
      ]
     },
     "execution_count": 10,
     "metadata": {},
     "output_type": "execute_result"
    }
   ],
   "source": [
    "Uc.check_Center(S)"
   ]
  },
  {
   "cell_type": "markdown",
   "id": "37fc0fc4-b583-4ec2-876c-960d49316426",
   "metadata": {},
   "source": [
    "### Step 2 of the algorithm"
   ]
  },
  {
   "cell_type": "markdown",
   "id": "55267f31-376f-4f86-bd7e-070270ed5678",
   "metadata": {},
   "source": [
    "This code determines the span of our gate set is infinite or finite. It does this by attempting to find an element that can be reached from our gate set that is in a ball of radius 1 that is not in the center of the group. Not if this check pases, but the previous check fails that the span of $S$ is infinite, but not all of $SU(6)$, meaning it is not universal.  "
   ]
  },
  {
   "cell_type": "code",
   "execution_count": 11,
   "id": "a637a770-e3bc-4ab0-a686-2fdd62399a85",
   "metadata": {},
   "outputs": [
    {
     "name": "stdout",
     "output_type": "stream",
     "text": [
      "l =  0 current size =  4\n",
      "l =  1 current size =  12\n",
      "Infinite [[ 0.5-0.5j  0. +0.j   0. +0.j   0. +0.j   0.5+0.5j  0. +0.j ]\n",
      " [ 0. +0.j   0.5-0.5j  0. +0.j   0. +0.j   0. +0.j   0.5+0.5j]\n",
      " [ 0. +0.j  -0.5+0.j   0.5-0.5j  0. +0.j   0. +0.j   0. +0.5j]\n",
      " [-0.5+0.j   0. +0.j   0. +0.j   0.5-0.5j  0. +0.5j  0. +0.j ]\n",
      " [ 0. +0.5j  0. +0.j   0. +0.j   0.5+0.5j  0.5+0.j   0. +0.j ]\n",
      " [ 0. +0.j   0. +0.5j  0.5+0.5j  0. +0.j   0. +0.j   0.5+0.j ]]\n"
     ]
    },
    {
     "data": {
      "text/plain": [
       "[False, -1]"
      ]
     },
     "execution_count": 11,
     "metadata": {},
     "output_type": "execute_result"
    }
   ],
   "source": [
    "# using a much smaller value for N than is required to be thourough since i want this to actually run \n",
    "N_SU6 = 100  #36398100 # upper bound for N\n",
    "Uc.check_Finite(S,N_SU6,10)"
   ]
  },
  {
   "cell_type": "markdown",
   "id": "865a814e-8af5-4c27-86b1-378392d834fd",
   "metadata": {},
   "source": [
    "## Or all together we can check for universality\n"
   ]
  },
  {
   "cell_type": "code",
   "execution_count": 12,
   "id": "3d322770-9ad2-46e3-8f6a-5f750371a8ce",
   "metadata": {},
   "outputs": [
    {
     "data": {
      "text/plain": [
       "False"
      ]
     },
     "execution_count": 12,
     "metadata": {},
     "output_type": "execute_result"
    }
   ],
   "source": [
    "Uc.check_universal(S)"
   ]
  },
  {
   "cell_type": "markdown",
   "id": "3b254835-fef2-481b-a1db-0e50c8da98e2",
   "metadata": {},
   "source": [
    "# Puzzle variants that achieve universality"
   ]
  },
  {
   "cell_type": "markdown",
   "id": "f3ccf525-3aa5-4200-9dde-5b5ccc4af5a5",
   "metadata": {},
   "source": [
    "## 1) Half Swaps with and an S gate"
   ]
  },
  {
   "cell_type": "code",
   "execution_count": 13,
   "id": "306e632a-f75d-455b-b921-7bf0172b6515",
   "metadata": {},
   "outputs": [],
   "source": [
    "SN = - zero@zero.T - one@one.T + five@two.T \\\n",
    "     +four@three.T+three@four.T+ two@five.T\n",
    "\n",
    "SS =  -zero@zero.T - one@one.T + five@three.T \\\n",
    "     +four@two.T+two@four.T+ three@five.T\n",
    "\n",
    "SE =  -two@two.T - three@three.T + five@one.T \\\n",
    "     +four@zero.T+zero@four.T+ one@five.T\n",
    "\n",
    "SW = - two@two.T - three@three.T + five@zero.T \\\n",
    "     +four@one.T+one@four.T+ zero@five.T\n",
    "\n",
    "Perms = [SN,SS,SE,SN]\n",
    "SQRT_SWAP = [(Id + 1j*P)/np.sqrt(2) for P in Perms]\n",
    "S = SQRT_SWAP\n",
    "S.append(Gate_helper.S_gate(6))"
   ]
  },
  {
   "cell_type": "code",
   "execution_count": 14,
   "id": "c5581d2b-dfec-4315-8936-d711d72db079",
   "metadata": {},
   "outputs": [
    {
     "name": "stdout",
     "output_type": "stream",
     "text": [
      "Infinite [[-0.5-0.5j  0. +0.j   0. +0.j   0. +0.j   0.5-0.5j  0. +0.j ]\n",
      " [ 0. +0.j  -0.5-0.5j  0. +0.j   0. +0.j   0. +0.j   0.5-0.5j]\n",
      " [ 0. +0.j  -0.5+0.j  -0.5+0.5j  0. +0.j   0. +0.j   0. +0.5j]\n",
      " [-0.5+0.j   0. +0.j   0. +0.j  -0.5+0.5j  0. +0.5j  0. +0.j ]\n",
      " [ 0. -0.5j  0. +0.j   0. +0.j   0.5+0.5j -0.5+0.j   0. +0.j ]\n",
      " [ 0. +0.j   0. -0.5j  0.5+0.5j  0. +0.j   0. +0.j  -0.5+0.j ]]\n"
     ]
    },
    {
     "data": {
      "text/plain": [
       "True"
      ]
     },
     "execution_count": 14,
     "metadata": {},
     "output_type": "execute_result"
    }
   ],
   "source": [
    "Uc.check_universal(S)"
   ]
  },
  {
   "cell_type": "markdown",
   "id": "330ee347-2345-440c-9511-724754c08dd2",
   "metadata": {},
   "source": [
    "## 2) 2 Fermions, 2 Holes and all to all swaps"
   ]
  },
  {
   "cell_type": "code",
   "execution_count": 16,
   "id": "31dc19b6-ec78-44bd-b09d-85e58cb5c474",
   "metadata": {},
   "outputs": [],
   "source": [
    "SN = - zero@zero.T + one@one.T + five@two.T \\\n",
    "     +four@three.T+three@four.T+ two@five.T\n",
    "\n",
    "SS =  zero@zero.T - one@one.T + five@three.T \\\n",
    "     +four@two.T+two@four.T+ three@five.T\n",
    "\n",
    "SE =  two@two.T - three@three.T + five@one.T \\\n",
    "     +four@zero.T+zero@four.T+ one@five.T\n",
    "\n",
    "SW = - two@two.T + three@three.T + five@zero.T \\\n",
    "     +four@one.T+one@four.T+ zero@five.T\n",
    "\n",
    "D1 = zero@three.T + three@zero.T +one@two.T + two@one.T \\\n",
    "     -four@four.T + five@five.T\n",
    "\n",
    "D2 = zero@two.T + two@zero.T +one@three.T + three@one.T \\\n",
    "     +four@four.T - five@five.T\n",
    "Perms = [SN,SS,SE,SN,D1,D2]\n",
    "SQRT_SWAP = [(Id + 1j*P)/np.sqrt(2) for P in Perms]\n",
    "S = SQRT_SWAP\n",
    "#S.append(Gate_helper.S_gate(6))"
   ]
  },
  {
   "cell_type": "code",
   "execution_count": 17,
   "id": "7a846607-ee26-4a71-97ac-ca5a178bfffb",
   "metadata": {},
   "outputs": [
    {
     "name": "stdout",
     "output_type": "stream",
     "text": [
      "Infinite [[-0.5-0.5j  0. +0.j   0. +0.j   0. +0.j   0.5-0.5j  0. +0.j ]\n",
      " [ 0. +0.j  -0.5+0.5j  0. +0.j   0. +0.j   0. +0.j  -0.5-0.5j]\n",
      " [ 0. +0.j  -0.5+0.j  -0.5-0.5j  0. +0.j   0. +0.j   0. +0.5j]\n",
      " [-0.5+0.j   0. +0.j   0. +0.j  -0.5+0.5j  0. +0.5j  0. +0.j ]\n",
      " [ 0. -0.5j  0. +0.j   0. +0.j   0.5+0.5j -0.5+0.j   0. +0.j ]\n",
      " [ 0. +0.j   0. -0.5j -0.5+0.5j  0. +0.j   0. +0.j  -0.5+0.j ]]\n"
     ]
    },
    {
     "data": {
      "text/plain": [
       "True"
      ]
     },
     "execution_count": 17,
     "metadata": {},
     "output_type": "execute_result"
    }
   ],
   "source": [
    "Uc.check_universal(S)"
   ]
  },
  {
   "cell_type": "markdown",
   "id": "b3950b73-14b4-4ba7-9987-b2d2af8616dc",
   "metadata": {},
   "source": [
    "### And if we had 4 fermions instead of 2 fermions 2 holes"
   ]
  },
  {
   "cell_type": "code",
   "execution_count": 18,
   "id": "6b306e64-8039-49b7-a84c-24c726da6842",
   "metadata": {},
   "outputs": [],
   "source": [
    "SN = - zero@zero.T - one@one.T + five@two.T \\\n",
    "     +four@three.T+three@four.T+ two@five.T\n",
    "\n",
    "SS =  -zero@zero.T - one@one.T + five@three.T \\\n",
    "     +four@two.T+two@four.T+ three@five.T\n",
    "\n",
    "SE =  -two@two.T - three@three.T + five@one.T \\\n",
    "     +four@zero.T+zero@four.T+ one@five.T\n",
    "\n",
    "SW = - two@two.T - three@three.T + five@zero.T \\\n",
    "     +four@one.T+one@four.T+ zero@five.T\n",
    "\n",
    "D1 = zero@three.T + three@zero.T +one@two.T + two@one.T \\\n",
    "     -four@four.T - five@five.T\n",
    "\n",
    "D2 = zero@two.T + two@zero.T +one@three.T + three@one.T \\\n",
    "     -four@four.T - five@five.T\n",
    "Perms = [SN,SS,SE,SN,D1,D2]\n",
    "SQRT_SWAP = [(Id + 1j*P)/np.sqrt(2) for P in Perms]\n",
    "S = SQRT_SWAP"
   ]
  },
  {
   "cell_type": "code",
   "execution_count": 19,
   "id": "e6d4509c-f394-4d15-8475-cea149d5b739",
   "metadata": {},
   "outputs": [
    {
     "data": {
      "text/plain": [
       "False"
      ]
     },
     "execution_count": 19,
     "metadata": {},
     "output_type": "execute_result"
    }
   ],
   "source": [
    "Uc.check_universal(S)"
   ]
  },
  {
   "cell_type": "code",
   "execution_count": 33,
   "id": "b8c64b01-50dc-47a7-a54f-b99238ec3e9e",
   "metadata": {},
   "outputs": [
    {
     "data": {
      "text/plain": [
       "array([[ 1.00000000e+00+0.j       ,  0.00000000e+00+0.j       ,\n",
       "         0.00000000e+00+0.j       ,  0.00000000e+00+0.j       ,\n",
       "         0.00000000e+00+0.j       ,  0.00000000e+00+0.j       ],\n",
       "       [ 0.00000000e+00+0.j       ,  8.66025404e-01+0.5j      ,\n",
       "         0.00000000e+00+0.j       ,  0.00000000e+00+0.j       ,\n",
       "         0.00000000e+00+0.j       ,  0.00000000e+00+0.j       ],\n",
       "       [ 0.00000000e+00+0.j       ,  0.00000000e+00+0.j       ,\n",
       "        -5.00000000e-01+0.8660254j,  0.00000000e+00+0.j       ,\n",
       "         0.00000000e+00+0.j       ,  0.00000000e+00+0.j       ],\n",
       "       [ 0.00000000e+00+0.j       ,  0.00000000e+00+0.j       ,\n",
       "         0.00000000e+00+0.j       , -1.83697020e-16-1.j       ,\n",
       "         0.00000000e+00+0.j       ,  0.00000000e+00+0.j       ],\n",
       "       [ 0.00000000e+00+0.j       ,  0.00000000e+00+0.j       ,\n",
       "         0.00000000e+00+0.j       ,  0.00000000e+00+0.j       ,\n",
       "        -5.00000000e-01+0.8660254j,  0.00000000e+00+0.j       ],\n",
       "       [ 0.00000000e+00+0.j       ,  0.00000000e+00+0.j       ,\n",
       "         0.00000000e+00+0.j       ,  0.00000000e+00+0.j       ,\n",
       "         0.00000000e+00+0.j       ,  8.66025404e-01+0.5j      ]])"
      ]
     },
     "execution_count": 33,
     "metadata": {},
     "output_type": "execute_result"
    }
   ],
   "source": [
    "Gate_helper.S_gate(6)"
   ]
  },
  {
   "cell_type": "code",
   "execution_count": null,
   "id": "56c0e344-1570-4483-9d95-cc87bbb8e4a8",
   "metadata": {},
   "outputs": [],
   "source": []
  }
 ],
 "metadata": {
  "kernelspec": {
   "display_name": "Python 3 (ipykernel)",
   "language": "python",
   "name": "python3"
  },
  "language_info": {
   "codemirror_mode": {
    "name": "ipython",
    "version": 3
   },
   "file_extension": ".py",
   "mimetype": "text/x-python",
   "name": "python",
   "nbconvert_exporter": "python",
   "pygments_lexer": "ipython3",
   "version": "3.9.7"
  }
 },
 "nbformat": 4,
 "nbformat_minor": 5
}
