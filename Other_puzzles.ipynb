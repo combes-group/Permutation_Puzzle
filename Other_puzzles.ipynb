{
 "cells": [
  {
   "cell_type": "code",
   "execution_count": 94,
   "id": "cbe9473e-fe69-43f5-82e6-518fbb01a7a0",
   "metadata": {},
   "outputs": [],
   "source": [
    "import numpy as np\n",
    "import math\n",
    "import random\n",
    "import matplotlib.pyplot as plt\n",
    "import matplotlib.cm as cm\n",
    "import pickle\n",
    "import pandas as pd\n",
    "import Strategy_helper"
   ]
  },
  {
   "cell_type": "markdown",
   "id": "0f6431d1-b89c-4588-a976-726af404a557",
   "metadata": {},
   "source": [
    "## Puzzles\n",
    "We will consider the simple case of nx1 puzzles with n-1 green particles and 1 blue particle. It is easy to show there are n classical basis states for each puzzles. \n",
    "Here we will only consider fermionic exchange statistics for brevity."
   ]
  },
  {
   "cell_type": "code",
   "execution_count": 95,
   "id": "36dafe5d-c71f-4d48-b89a-a69cc0f48df2",
   "metadata": {
    "tags": []
   },
   "outputs": [],
   "source": [
    "# Swaps for Nmax x 1 puzzles\n",
    "def basis(Nmax,n):\n",
    "    vec = np.zeros((Nmax,1))\n",
    "    vec[n] = 1\n",
    "    return np.array(vec)\n",
    "def SWAP(Nmax,n):\n",
    "    assert(n<Nmax-1)\n",
    "    # -1 from fermionic exchange\n",
    "    mat = -1*np.eye(Nmax)\n",
    "    mat[n,n] = 0\n",
    "    mat[n+1,n+1] = 0\n",
    "    mat[n,n+1] = 1\n",
    "    mat[n+1,n] = 1\n",
    "    return mat\n",
    "\n",
    "# Swaps for 2x3 puzzle with 3 of each color\n",
    "Nmax = 20\n",
    "U = sum([-1/2*basis(20,n)@basis(20,n).T for n in range(8)]) +basis(Nmax,8)@basis(Nmax,14).T+basis(Nmax,9)@basis(Nmax,15).T+basis(Nmax,10)@basis(Nmax,16).T\\\n",
    "    +basis(Nmax,11)@basis(Nmax,17).T+basis(Nmax,12)@basis(Nmax,18).T+basis(Nmax,13)@basis(Nmax,19).T\n",
    "U = U + U.T\n",
    "M = sum([-1/2*basis(20,n)@basis(20,n).T for n in [4,5,6,7,8,9,14,15]]) +basis(Nmax,0)@basis(Nmax,2).T+basis(Nmax,1)@basis(Nmax,3).T+basis(Nmax,10)@basis(Nmax,19).T\\\n",
    "    +basis(Nmax,11)@basis(Nmax,18).T+basis(Nmax,12)@basis(Nmax,17).T+basis(Nmax,13)@basis(Nmax,16).T\n",
    "M = M + M.T\n",
    "D = sum([-1/2*basis(20,n)@basis(20,n).T for n in [0,1,2,3,8,9,14,15]]) +basis(Nmax,4)@basis(Nmax,6).T+basis(Nmax,5)@basis(Nmax,7).T+basis(Nmax,10)@basis(Nmax,12).T\\\n",
    "    +basis(Nmax,11)@basis(Nmax,13).T+basis(Nmax,16)@basis(Nmax,18).T+basis(Nmax,17)@basis(Nmax,19).T\n",
    "D = D + D.T\n",
    "LU = sum([-1/2*basis(20,n)@basis(20,n).T for n in [0,1,8,9,10,11,12,13]]) +basis(Nmax,2)@basis(Nmax,14).T+basis(Nmax,3)@basis(Nmax,15).T+basis(Nmax,4)@basis(Nmax,16).T\\\n",
    "    +basis(Nmax,5)@basis(Nmax,17).T+basis(Nmax,6)@basis(Nmax,18).T+basis(Nmax,7)@basis(Nmax,19).T\n",
    "LU = LU + LU.T\n",
    "\n",
    "RU = sum([-1/2*basis(20,n)@basis(20,n).T for n in [2,3,10,11,12,13,14,15]]) +basis(Nmax,0)@basis(Nmax,8).T+basis(Nmax,1)@basis(Nmax,9).T+basis(Nmax,4)@basis(Nmax,19).T\\\n",
    "    +basis(Nmax,5)@basis(Nmax,18).T+basis(Nmax,6)@basis(Nmax,17).T+basis(Nmax,7)@basis(Nmax,16).T\n",
    "RU = RU + RU.T\n",
    "\n",
    "RD = sum([-1/2*basis(20,n)@basis(20,n).T for n in [0,1,6,7,12,13,18,19]]) +basis(Nmax,2)@basis(Nmax,4).T+basis(Nmax,3)@basis(Nmax,5).T+basis(Nmax,8)@basis(Nmax,10).T\\\n",
    "    +basis(Nmax,9)@basis(Nmax,11).T+basis(Nmax,14)@basis(Nmax,16).T+basis(Nmax,15)@basis(Nmax,17).T\n",
    "RD = RD + RD.T\n",
    "\n",
    "LD = sum([-1/2*basis(20,n)@basis(20,n).T for n in [2,3,4,5,12,13,18,19]]) +basis(Nmax,0)@basis(Nmax,6).T+basis(Nmax,1)@basis(Nmax,7).T+basis(Nmax,8)@basis(Nmax,16).T\\\n",
    "    +basis(Nmax,9)@basis(Nmax,17).T+basis(Nmax,10)@basis(Nmax,15).T+basis(Nmax,11)@basis(Nmax,14).T\n",
    "LD = LD + LD.T"
   ]
  },
  {
   "cell_type": "code",
   "execution_count": 3,
   "id": "9210fd3b-52bb-4604-8d76-9005703bb05d",
   "metadata": {},
   "outputs": [],
   "source": [
    "Nmax = 5\n",
    "CS = [SWAP(Nmax,n) for n in range(Nmax-1)]\n",
    "QS = []\n",
    "MS = []\n",
    "for move in CS:\n",
    "    QS.append((np.eye(Nmax) + 1j*move)/np.sqrt(2))\n",
    "    QS.append((np.eye(Nmax) - 1j*move)/np.sqrt(2))\n",
    "    MS.append((np.eye(Nmax) + 1j*move)/np.sqrt(2))\n",
    "    MS.append((np.eye(Nmax) - 1j*move)/np.sqrt(2))\n",
    "    MS.append(move)"
   ]
  },
  {
   "cell_type": "markdown",
   "id": "5dc14f5e-4bf7-4a13-a5fd-96485102c4e4",
   "metadata": {},
   "source": [
    "## Scrambling\n",
    "Scrambles are sqeunces of half swaps applied to the solved state. Here we generate a number of random scrambles with some constraintes on the minimum and maximum length of the scramble. "
   ]
  },
  {
   "cell_type": "code",
   "execution_count": 7,
   "id": "e3732cc5-29dd-48ae-a325-85ef9294356a",
   "metadata": {},
   "outputs": [],
   "source": [
    "## Generate a bunch of scrambles\n",
    "Num_scrambles = 100\n",
    "min_length = 200\n",
    "max_length = 500\n",
    "Scrambles = []\n",
    "for i in range(Num_scrambles):\n",
    "    l = random.randint(min_length,max_length)\n",
    "    move_list = random.choices(QS,k=l)\n",
    "    state = basis(Nmax,0) # choose the 0 state as solved\n",
    "    for move in move_list:\n",
    "        state = move @ state\n",
    "    Scrambles.append(state)\n"
   ]
  },
  {
   "cell_type": "code",
   "execution_count": 9,
   "id": "0be520fd-1a06-4541-acd1-33889098f07b",
   "metadata": {},
   "outputs": [
    {
     "name": "stdout",
     "output_type": "stream",
     "text": [
      "True\n",
      "True\n",
      "True\n",
      "True\n"
     ]
    }
   ],
   "source": [
    "def is_permutation_matrix(matrix):\n",
    "    matrix = np.abs(matrix)\n",
    "    rows, cols = matrix.shape\n",
    "    if rows != cols:\n",
    "        return False\n",
    "    \n",
    "    # Check if all elements are 0 or 1\n",
    "    if not np.all(np.logical_or(matrix == 0, matrix == 1)):\n",
    "\n",
    "        return False\n",
    "    \n",
    "    # Check if each row and column sums to 1\n",
    "    if not (np.all(np.abs(matrix.sum(axis=1)) == 1) and np.all(np.abs(matrix.sum(axis=0)) == 1)):\n",
    "        return False\n",
    "    \n",
    "    return True\n",
    "for gate in CS:\n",
    "    print(is_permutation_matrix(gate))\n"
   ]
  },
  {
   "cell_type": "markdown",
   "id": "769e55b5-a615-41fb-bd9c-1483c7564794",
   "metadata": {},
   "source": [
    "# Rules\n",
    "\n",
    "At first we will consider the situation in which the puzzle is reset after a measurement failure. After that we will consider a simplified version where each solver is only given one puzzle and only has one chance to measure it. "
   ]
  },
  {
   "cell_type": "markdown",
   "id": "a0b70580-9053-424c-b5cf-08ca978b06c2",
   "metadata": {
    "tags": []
   },
   "source": [
    "## Finding performance of optimal strategy for reseting puzzle\n",
    "The optimal strategy requires us to iterativly find all states that are up to $n$ moves away from the scrambled state. A target state is 1 move away from the scramble if a single actions from the solvers set of actions can transform the scrambled state into the target state. A state is 2 moves away from the scramble if the shortest possible set of actions from the solver to go between the scramble and target state is 2 moves.\n",
    "\n",
    "Implementing this requires a breadth first search approach, that keeps track of which states have been seen and which have not. This search is implemented using a hashing of the state keeping 8 significant digits and canonicallizing the states. The optimal_search function then implements the search that will either continue until the optimal state is found, or some max_depth constraint is reached.\n",
    "\n",
    "The function takes in a scramble a set of solving actions and optionally a set of costs for applying solving actions and measureing."
   ]
  },
  {
   "cell_type": "code",
   "execution_count": 7,
   "id": "33fe13ee-f29a-409c-a1ce-6e3fa7d63fb7",
   "metadata": {},
   "outputs": [],
   "source": [
    "Costs = [1,1] # Swaps cost the same a measuring"
   ]
  },
  {
   "cell_type": "code",
   "execution_count": 8,
   "id": "1ffe46d9-8034-4c4f-9633-7c559c98bfc7",
   "metadata": {},
   "outputs": [
    {
     "name": "stdout",
     "output_type": "stream",
     "text": [
      "Progress: 0.0\n",
      "Progress: 0.1\n",
      "Progress: 0.2\n",
      "Progress: 0.31\n",
      "Progress: 0.4\n",
      "Progress: 0.51\n",
      "Progress: 0.61\n",
      "Progress: 0.71\n",
      "Progress: 0.8\n",
      "Progress: 0.91\n"
     ]
    }
   ],
   "source": [
    "dataQ = Strategy_helper.Sample_scrambles_opt(Scrambles,QS,Costs,max_depth=7)"
   ]
  },
  {
   "cell_type": "code",
   "execution_count": 9,
   "id": "ea5129b1-e520-45da-91dd-b6bbfe5add2a",
   "metadata": {},
   "outputs": [
    {
     "name": "stdout",
     "output_type": "stream",
     "text": [
      "Progress: 0.0\n",
      "Progress: 0.1\n",
      "Progress: 0.2\n",
      "Progress: 0.31\n",
      "Progress: 0.4\n",
      "Progress: 0.51\n",
      "Progress: 0.61\n",
      "Progress: 0.71\n",
      "Progress: 0.8\n",
      "Progress: 0.91\n"
     ]
    }
   ],
   "source": [
    "dataC = Strategy_helper.Sample_scrambles_opt(Scrambles,CS,Costs,max_depth=7)"
   ]
  },
  {
   "cell_type": "code",
   "execution_count": 11,
   "id": "3ac07a11-c673-4c54-b909-977a465707f8",
   "metadata": {},
   "outputs": [
    {
     "name": "stdout",
     "output_type": "stream",
     "text": [
      "Progress: 0.0\n",
      "Progress: 0.1\n",
      "Progress: 0.2\n",
      "Progress: 0.31\n",
      "Progress: 0.4\n",
      "Progress: 0.51\n",
      "Progress: 0.61\n",
      "Progress: 0.71\n",
      "Progress: 0.8\n",
      "Progress: 0.91\n"
     ]
    }
   ],
   "source": [
    "dataM = Strategy_helper.Sample_scrambles_opt(Scrambles,MS,Costs,max_depth=10)"
   ]
  },
  {
   "cell_type": "code",
   "execution_count": 12,
   "id": "197f27b1-fd9e-47a9-9886-ccc7447affa1",
   "metadata": {},
   "outputs": [],
   "source": [
    "dbfile = open('Data/Other_puzzle/Quantum_Nmax_5', 'ab')\n",
    "     \n",
    "pickle.dump(dataQ, dbfile) \n",
    "dbfile.close()\n",
    "                  \n",
    "dbfile = open('Data/Other_puzzle/Classical_Nmax_5', 'ab')\n",
    "     \n",
    "pickle.dump(dataC, dbfile) \n",
    "dbfile.close()\n",
    "\n",
    "dbfile = open('Data/Other_puzzle/Mixed_Nmax_5', 'ab')\n",
    "     \n",
    "pickle.dump(dataM, dbfile) \n",
    "dbfile.close()\n"
   ]
  },
  {
   "cell_type": "code",
   "execution_count": 135,
   "id": "b33d8c8d-4f3a-421a-ac62-997b504938be",
   "metadata": {},
   "outputs": [
    {
     "name": "stdout",
     "output_type": "stream",
     "text": [
      "Progress: 0.0\n",
      "Progress: 0.12\n",
      "Progress: 0.2\n",
      "Progress: 0.32\n",
      "Progress: 0.4\n",
      "Progress: 0.52\n",
      "Progress: 0.64\n",
      "Progress: 0.72\n",
      "Progress: 0.8\n",
      "Progress: 0.92\n",
      "Progress: 0.0\n",
      "Progress: 0.12\n",
      "Progress: 0.2\n",
      "Progress: 0.32\n",
      "Progress: 0.4\n",
      "Progress: 0.52\n",
      "Progress: 0.64\n",
      "Progress: 0.72\n",
      "Progress: 0.8\n",
      "Progress: 0.92\n",
      "Progress: 0.0\n",
      "Progress: 0.12\n",
      "Progress: 0.2\n",
      "Progress: 0.32\n",
      "Progress: 0.4\n",
      "Progress: 0.52\n",
      "Progress: 0.64\n",
      "Progress: 0.72\n",
      "Progress: 0.8\n",
      "Progress: 0.92\n",
      "Progress: 0.0\n",
      "Progress: 0.12\n",
      "Progress: 0.2\n",
      "Progress: 0.32\n",
      "Progress: 0.4\n",
      "Progress: 0.52\n",
      "Progress: 0.64\n",
      "Progress: 0.72\n",
      "Progress: 0.8\n",
      "Progress: 0.92\n",
      "Progress: 0.0\n",
      "Progress: 0.12\n",
      "Progress: 0.2\n",
      "Progress: 0.32\n",
      "Progress: 0.4\n",
      "Progress: 0.52\n",
      "Progress: 0.64\n",
      "Progress: 0.72\n",
      "Progress: 0.8\n",
      "Progress: 0.92\n",
      "Progress: 0.0\n",
      "Progress: 0.12\n",
      "Progress: 0.2\n",
      "Progress: 0.32\n",
      "Progress: 0.4\n",
      "Progress: 0.52\n",
      "Progress: 0.64\n",
      "Progress: 0.72\n",
      "Progress: 0.8\n",
      "Progress: 0.92\n",
      "Progress: 0.0\n",
      "Progress: 0.12\n",
      "Progress: 0.2\n",
      "Progress: 0.32\n",
      "Progress: 0.4\n",
      "Progress: 0.52\n",
      "Progress: 0.64\n",
      "Progress: 0.72\n",
      "Progress: 0.8\n",
      "Progress: 0.92\n",
      "Progress: 0.0\n",
      "Progress: 0.12\n",
      "Progress: 0.2\n",
      "Progress: 0.32\n",
      "Progress: 0.4\n",
      "Progress: 0.52\n",
      "Progress: 0.64\n",
      "Progress: 0.72\n",
      "Progress: 0.8\n",
      "Progress: 0.92\n",
      "Progress: 0.0\n",
      "Progress: 0.12\n",
      "Progress: 0.2\n",
      "Progress: 0.32\n",
      "Progress: 0.4\n",
      "Progress: 0.52\n",
      "Progress: 0.64\n",
      "Progress: 0.72\n",
      "Progress: 0.8\n",
      "Progress: 0.92\n",
      "Progress: 0.0\n",
      "Progress: 0.12\n",
      "Progress: 0.2\n",
      "Progress: 0.32\n",
      "Progress: 0.4\n",
      "Progress: 0.52\n",
      "Progress: 0.64\n",
      "Progress: 0.72\n",
      "Progress: 0.8\n",
      "Progress: 0.92\n",
      "Progress: 0.0\n",
      "Progress: 0.12\n",
      "Progress: 0.2\n",
      "Progress: 0.32\n",
      "Progress: 0.4\n",
      "Progress: 0.52\n",
      "Progress: 0.64\n",
      "Progress: 0.72\n",
      "Progress: 0.8\n",
      "Progress: 0.92\n",
      "Progress: 0.0\n",
      "Progress: 0.12\n",
      "Progress: 0.2\n",
      "Progress: 0.32\n",
      "Progress: 0.4\n",
      "Progress: 0.52\n",
      "Progress: 0.64\n",
      "Progress: 0.72\n",
      "Progress: 0.8\n",
      "Progress: 0.92\n",
      "Progress: 0.0\n",
      "Progress: 0.12\n",
      "Progress: 0.2\n",
      "Progress: 0.32\n",
      "Progress: 0.4\n",
      "Progress: 0.52\n",
      "Progress: 0.64\n",
      "Progress: 0.72\n",
      "Progress: 0.8\n",
      "Progress: 0.92\n",
      "Progress: 0.0\n",
      "Progress: 0.12\n",
      "Progress: 0.2\n",
      "Progress: 0.32\n",
      "Progress: 0.4\n",
      "Progress: 0.52\n",
      "Progress: 0.64\n",
      "Progress: 0.72\n",
      "Progress: 0.8\n",
      "Progress: 0.92\n",
      "Progress: 0.0\n",
      "Progress: 0.12\n",
      "Progress: 0.2\n",
      "Progress: 0.32\n",
      "Progress: 0.4\n",
      "Progress: 0.52\n",
      "Progress: 0.64\n",
      "Progress: 0.72\n",
      "Progress: 0.8\n",
      "Progress: 0.92\n"
     ]
    }
   ],
   "source": [
    "N_vals = [5]\n",
    "Costs = [1,1] # Swaps cost the same a measuring\n",
    "for Nmax in N_vals:\n",
    "    # get the allowed moves\n",
    "    CS = [SWAP(Nmax,n) for n in range(Nmax-1)]\n",
    "    QS = []\n",
    "    MS = []\n",
    "    for move in CS:\n",
    "        QS.append((np.eye(Nmax) + 1j*move)/np.sqrt(2))\n",
    "        QS.append((np.eye(Nmax) - 1j*move)/np.sqrt(2))\n",
    "        MS.append((np.eye(Nmax) + 1j*move)/np.sqrt(2))\n",
    "        MS.append((np.eye(Nmax) - 1j*move)/np.sqrt(2))\n",
    "        MS.append(move)\n",
    "        \n",
    "    # generate Scrambles\n",
    "    for n in range(1):\n",
    "        Num_scrambles = 25\n",
    "        min_length = 200\n",
    "        max_length = 500\n",
    "        Scrambles = []\n",
    "        for i in range(Num_scrambles):\n",
    "            l = random.randint(min_length,max_length)\n",
    "            move_list = random.choices(QS,k=l)\n",
    "            state = basis(Nmax,0) # choose the 0 state as solved\n",
    "            for move in move_list:\n",
    "                state = move @ state\n",
    "            Scrambles.append(state)\n",
    "\n",
    "        # simulate solving\n",
    "        dataQ = Strategy_helper.Sample_scrambles_opt(Scrambles,QS,Costs,max_depth=10,Verbose=False)\n",
    "        # Saving\n",
    "        dbfile = open('Data/Other_puzzle/Quantum_Nmax3_{}_{}'.format(Nmax,n), 'wb')\n",
    "        pickle.dump(dataQ, dbfile) \n",
    "        dbfile.close()\n",
    "\n",
    "        # simulate solving\n",
    "        dataC = Strategy_helper.Sample_scrambles_opt(Scrambles,CS,Costs,max_depth=10,Verbose=False)\n",
    "        # Saving\n",
    "        dbfile = open('Data/Other_puzzle/Classical_Nmax3_{}_{}'.format(Nmax,n), 'wb')\n",
    "        pickle.dump(dataC, dbfile) \n",
    "        dbfile.close()\n",
    "\n",
    "    \n",
    "        # simulate solving\n",
    "        dataM = Strategy_helper.Sample_scrambles_opt(Scrambles,MS,Costs,max_depth=12)\n",
    "        # Saving\n",
    "        dbfile = open('Data/Other_puzzle/Mixed_Nmax3_{}_{}'.format(Nmax,n), 'wb')\n",
    "        pickle.dump(dataM, dbfile) \n",
    "        dbfile.close()"
   ]
  },
  {
   "cell_type": "code",
   "execution_count": 70,
   "id": "4c83eb14-47c0-41a6-89f3-e3faf815699a",
   "metadata": {},
   "outputs": [
    {
     "name": "stderr",
     "output_type": "stream",
     "text": [
      "/Users/admin/Documents/Permutation/Permutation_Puzzle/Strategy_helper.py:16: RuntimeWarning: divide by zero encountered in true_divide\n",
      "  return m/P\n"
     ]
    },
    {
     "name": "stdout",
     "output_type": "stream",
     "text": [
      "Progress: 0.0\n",
      "Progress: 0.1\n",
      "Progress: 0.2\n",
      "Progress: 0.3006666666666667\n",
      "Progress: 0.4\n",
      "Progress: 0.5006666666666667\n",
      "Progress: 0.6006666666666667\n",
      "Progress: 0.7006666666666667\n",
      "Progress: 0.8\n",
      "Progress: 0.9006666666666666\n",
      "Progress: 0.0\n",
      "Progress: 0.1\n",
      "Progress: 0.2\n",
      "Progress: 0.3006666666666667\n",
      "Progress: 0.4\n",
      "Progress: 0.5006666666666667\n",
      "Progress: 0.6006666666666667\n",
      "Progress: 0.7006666666666667\n",
      "Progress: 0.8\n",
      "Progress: 0.9006666666666666\n",
      "Progress: 0.0\n",
      "Progress: 0.1\n",
      "Progress: 0.2\n",
      "Progress: 0.3006666666666667\n",
      "Progress: 0.4\n",
      "Progress: 0.5006666666666667\n",
      "Progress: 0.6006666666666667\n",
      "Progress: 0.7006666666666667\n",
      "Progress: 0.8\n",
      "Progress: 0.9006666666666666\n",
      "Progress: 0.0\n",
      "Progress: 0.1\n",
      "Progress: 0.2\n",
      "Progress: 0.301\n",
      "Progress: 0.4\n",
      "Progress: 0.501\n",
      "Progress: 0.601\n",
      "Progress: 0.701\n",
      "Progress: 0.8\n",
      "Progress: 0.901\n",
      "Progress: 0.0\n",
      "Progress: 0.1\n",
      "Progress: 0.2\n",
      "Progress: 0.301\n",
      "Progress: 0.4\n",
      "Progress: 0.501\n",
      "Progress: 0.601\n",
      "Progress: 0.701\n",
      "Progress: 0.8\n",
      "Progress: 0.901\n",
      "Progress: 0.0\n",
      "Progress: 0.1\n",
      "Progress: 0.2\n",
      "Progress: 0.301\n",
      "Progress: 0.4\n",
      "Progress: 0.501\n",
      "Progress: 0.601\n",
      "Progress: 0.701\n",
      "Progress: 0.8\n",
      "Progress: 0.901\n",
      "Progress: 0.0\n",
      "Progress: 0.1\n",
      "Progress: 0.2\n",
      "Progress: 0.30133333333333334\n",
      "Progress: 0.4\n",
      "Progress: 0.5013333333333333\n",
      "Progress: 0.6013333333333334\n",
      "Progress: 0.7013333333333334\n",
      "Progress: 0.8\n",
      "Progress: 0.9013333333333333\n",
      "Progress: 0.0\n",
      "Progress: 0.1\n",
      "Progress: 0.2\n",
      "Progress: 0.30133333333333334\n",
      "Progress: 0.4\n",
      "Progress: 0.5013333333333333\n",
      "Progress: 0.6013333333333334\n",
      "Progress: 0.7013333333333334\n",
      "Progress: 0.8\n",
      "Progress: 0.9013333333333333\n",
      "Progress: 0.0\n",
      "Progress: 0.1\n",
      "Progress: 0.2\n",
      "Progress: 0.30133333333333334\n",
      "Progress: 0.4\n",
      "Progress: 0.5013333333333333\n",
      "Progress: 0.6013333333333334\n",
      "Progress: 0.7013333333333334\n",
      "Progress: 0.8\n",
      "Progress: 0.9013333333333333\n"
     ]
    }
   ],
   "source": [
    "N_vals = [2,3,4]\n",
    "Costs = [1,1] # Swaps cost the same a measuring\n",
    "for Nmax in N_vals:\n",
    "    # get the allowed moves\n",
    "    CS = [SWAP(Nmax,n) for n in range(Nmax-1)]\n",
    "    QS = []\n",
    "    MS = []\n",
    "    for move in CS:\n",
    "        QS.append((np.eye(Nmax) + 1j*move)/np.sqrt(2))\n",
    "        QS.append((np.eye(Nmax) - 1j*move)/np.sqrt(2))\n",
    "        MS.append((np.eye(Nmax) + 1j*move)/np.sqrt(2))\n",
    "        MS.append((np.eye(Nmax) - 1j*move)/np.sqrt(2))\n",
    "        MS.append(move)\n",
    "        \n",
    "    # generate Scrambles\n",
    "    Num_scrambles = 3000//Nmax\n",
    "    min_length = 200\n",
    "    max_length = 500\n",
    "    Scrambles = []\n",
    "    for i in range(Num_scrambles):\n",
    "        l = random.randint(min_length,max_length)\n",
    "        move_list = random.choices(QS,k=l)\n",
    "        state = basis(Nmax,0) # choose the 0 state as solved\n",
    "        for move in move_list:\n",
    "            state = move @ state\n",
    "        Scrambles.append(state)\n",
    "        \n",
    "    # simulate solving\n",
    "    dataQ = Strategy_helper.Sample_scrambles_opt(Scrambles,QS,Costs,max_depth=12)\n",
    "    # Saving\n",
    "    dbfile = open('Data/Other_puzzle/Quantum_Nmax_{}'.format(Nmax), 'wb')\n",
    "    pickle.dump(dataQ, dbfile) \n",
    "    dbfile.close()\n",
    "    \n",
    "    # simulate solving\n",
    "    dataC = Strategy_helper.Sample_scrambles_opt(Scrambles,CS,Costs,max_depth=12)\n",
    "    # Saving\n",
    "    dbfile = open('Data/Other_puzzle/Classical_Nmax_{}'.format(Nmax), 'wb')\n",
    "    pickle.dump(dataC, dbfile) \n",
    "    dbfile.close()\n",
    "    \n",
    "    \n",
    "    # simulate solving\n",
    "    dataM = Strategy_helper.Sample_scrambles_opt(Scrambles,MS,Costs,max_depth=12)\n",
    "    # Saving\n",
    "    dbfile = open('Data/Other_puzzle/Mixed_Nmax_{}'.format(Nmax), 'wb')\n",
    "    pickle.dump(dataM, dbfile) \n",
    "    dbfile.close()"
   ]
  },
  {
   "cell_type": "markdown",
   "id": "3c9cc8f5-6978-4cd8-a84b-6414a7b2f8a5",
   "metadata": {},
   "source": [
    "### Analyzing the data\n",
    "In the case where the puzzle is reset the number of moves until the puzzle is solved follows a gemoetric distribution. \n",
    "$$\n",
    "N_\\varphi = (M_\\varphi+1)\\text{Geo}(P_\\varphi)\n",
    "$$\n",
    "where $M_\\varphi$ is the distance from the scramble to the optimal state $\\varphi$ and $P_\\varphi$ is the squared overlap of the optimal state with the solved state $|\\langle\\varphi|\\text{solved}\\rangle|^2$.\n",
    "In order to find the true performance of each solver we descretely sample the scramble space to build a distribution $Z(M,P)$ that describes how the parameters of the geometric distribution are distributied among random scrambles of the puzzle. We can finally define $G(n|M,P)$ to be the PDF that describes the distribution of the number of moves to solved $n$ given the scramble based parameters $M,P$.\n",
    "\n",
    "In the limit of infinite sampling the the distribution of move count independent of scrambles becomes\n",
    "$$\n",
    "G(n) = \\int_\\Omega G(n|M,P) d\\mu(\\Omega(M,P)) = \\sum_{M=1}^\\infty \\int_0^1 dP G(n|M,P)Z(M,P)\n",
    "$$\n",
    "\n"
   ]
  },
  {
   "cell_type": "code",
   "execution_count": 62,
   "id": "29729dce-24e5-4d5d-93c8-eec74674b2e7",
   "metadata": {
    "tags": []
   },
   "outputs": [],
   "source": [
    "dbfile = open('Data/Other_puzzle/Quantum_Nmax_2', 'rb')\n",
    "     \n",
    "dataQ = pickle.load(dbfile)\n",
    "dbfile.close()\n",
    "dataQ[1] = dataQ[1].T[0]\n",
    "\n",
    "\n",
    "dbfile = open('Data/Other_puzzle/Classical_Nmax_4', 'rb')\n",
    "     \n",
    "dataC = pickle.load(dbfile)\n",
    "dbfile.close()\n",
    "dataC[1] = dataC[1].T[0]\n",
    "\n",
    "dbfile = open('Data/Other_puzzle/Mixed_Nmax_4', 'rb')\n",
    "     \n",
    "dataM = pickle.load(dbfile)\n",
    "dbfile.close()\n",
    "dataM[1] = dataM[1].T[0]"
   ]
  },
  {
   "cell_type": "code",
   "execution_count": 64,
   "id": "69fa0543-b448-4b77-b12c-e9bf3aae97cd",
   "metadata": {
    "tags": []
   },
   "outputs": [
    {
     "name": "stdout",
     "output_type": "stream",
     "text": [
      "100\n"
     ]
    }
   ],
   "source": [
    "print(len(dataQ[0]))"
   ]
  },
  {
   "cell_type": "code",
   "execution_count": 241,
   "id": "e5dc1a7c-1de4-4b96-aa91-9439f3a83a90",
   "metadata": {},
   "outputs": [
    {
     "name": "stdout",
     "output_type": "stream",
     "text": [
      "1500\n",
      "Quantum solver average: 2.1442777777777766\n",
      "Classical solver average: 1.8936666666666666\n",
      "Mixed solver average: 1.8936666666666666\n",
      "1000\n",
      "Quantum solver average: 3.302623412698415\n",
      "Classical solver average: 3.2139075396824084\n",
      "Mixed solver average: 2.878193650793648\n",
      "750\n",
      "Quantum solver average: 4.653259259259017\n",
      "Classical solver average: 4.614317460317126\n",
      "Mixed solver average: 3.9662380952380105\n"
     ]
    }
   ],
   "source": [
    "## analyzing data for N = 2-4\n",
    "\n",
    "Frac_Q = []\n",
    "Frac_M = []\n",
    "diff_Q = []\n",
    "diff_M = []\n",
    "for Nmax in [2,3,4]:\n",
    "    dbfile = open('Data/Other_puzzle/Quantum_Nmax_{}'.format(Nmax), 'rb')\n",
    "\n",
    "    dataQ = pickle.load(dbfile)\n",
    "    dbfile.close()\n",
    "    dataQ[1] = dataQ[1].T[0]\n",
    "\n",
    "\n",
    "    dbfile = open('Data/Other_puzzle/Classical_Nmax_{}'.format(Nmax), 'rb')\n",
    "\n",
    "    dataC = pickle.load(dbfile)\n",
    "    dbfile.close()\n",
    "    dataC[1] = dataC[1].T[0]\n",
    "\n",
    "    if(Nmax!=5):\n",
    "        dbfile = open('Data/Other_puzzle/Mixed_Nmax_{}'.format(Nmax), 'rb')\n",
    "\n",
    "        dataM = pickle.load(dbfile)\n",
    "        dbfile.close()\n",
    "        dataM[1] = dataM[1].T[0]\n",
    "\n",
    "    depth = 15\n",
    "    Num_scrambles = len(dataQ[0])\n",
    "    print(Num_scrambles)\n",
    "    Costs = [1,1]\n",
    "    #Pvals = np.linspace(0,1,10)\n",
    "\n",
    "\n",
    "    ZQ,MQ,PQ = Strategy_helper.scramble_probabilities(dataQ,depth,Costs)#,Pvals=Pvals)#,Mvals=Mvals,Pvals=Pvals)\n",
    "    ZC,MC,PC = Strategy_helper.scramble_probabilities(dataC,depth,Costs)#,Pvals=Pvals)#,Mvals=Mvals,Pvals=Pvals)\n",
    "    ZM,MM,PM = Strategy_helper.scramble_probabilities(dataM,depth,Costs)#,Pvals=Pvals)#,Mvals=Mvals,Pvals=Pvals)\n",
    "    distQ = []\n",
    "    distC = []\n",
    "    distM = []\n",
    "    meanQ = 0\n",
    "    meanC = 0\n",
    "    meanM = 0\n",
    "\n",
    "    nvals = range(1,300)\n",
    "    for n in nvals:\n",
    "        P_n_Q = Strategy_helper.Prob(n,MQ,PQ,ZQ)\n",
    "        P_n_C = Strategy_helper.Prob(n,MC,PC,ZC)\n",
    "        P_n_M = Strategy_helper.Prob(n,MM,PM,ZM)\n",
    "        distQ.append(P_n_Q)\n",
    "        distC.append(P_n_C)\n",
    "        distM.append(P_n_M)\n",
    "        meanQ += n*P_n_Q\n",
    "        meanC += n*P_n_C\n",
    "        meanM += n*P_n_M\n",
    "    print(\"Quantum solver average:\",meanQ)\n",
    "    print(\"Classical solver average:\",meanC)\n",
    "    print(\"Mixed solver average:\",meanM)\n",
    "    assert(np.isclose(sum(distQ),1,rtol=1e-3))\n",
    "    assert(np.isclose(sum(distC),1,rtol=1e-3))\n",
    "    assert(np.isclose(sum(distM),1,rtol=1e-3))\n",
    "    Frac_Q.append(2.0*(meanQ-meanC)/(meanQ+meanC))\n",
    "    Frac_M.append(2.0*(meanM-meanC)/(meanM+meanC))\n",
    "    diff_Q.append(meanQ-meanC)\n",
    "    diff_M.append(meanM-meanC)"
   ]
  },
  {
   "cell_type": "code",
   "execution_count": 242,
   "id": "e4c9b056-8d5b-4eb5-9358-8319d55e5a6f",
   "metadata": {},
   "outputs": [
    {
     "name": "stdout",
     "output_type": "stream",
     "text": [
      "1350\n",
      "Quantum solver average: 5.946607984523448\n",
      "Classical solver average: 5.899799903536143\n",
      "Mixed solver average: 5.0435546536523\n"
     ]
    }
   ],
   "source": [
    "## analyzing data for N = 5\n",
    "\n",
    "dbfile = open('Data/Other_puzzle/Quantum_Nmax2_5_0', 'rb')\n",
    "\n",
    "dataQ = pickle.load(dbfile)\n",
    "dbfile.close()\n",
    "dataQ[1] = dataQ[1].T[0]\n",
    "\n",
    "dbfile = open('Data/Other_puzzle/Classical_Nmax2_5_0', 'rb')\n",
    "\n",
    "dataC = pickle.load(dbfile)\n",
    "dbfile.close()\n",
    "dataC[1] = dataC[1].T[0]\n",
    "for n in range(1,4):\n",
    "    dbfile = open('Data/Other_puzzle/Quantum_Nmax2_5_{}'.format(n), 'rb')\n",
    "\n",
    "    datatemp = pickle.load(dbfile)\n",
    "    dbfile.close()\n",
    "    datatemp[1] = datatemp[1].T[0]\n",
    "    dataQ[0] = np.append(dataQ[0],datatemp[0])\n",
    "    dataQ[1] = np.append(dataQ[1],datatemp[1])\n",
    "    dbfile = open('Data/Other_puzzle/Classical_Nmax2_5_{}'.format(n), 'rb')\n",
    "\n",
    "    datatemp = pickle.load(dbfile)\n",
    "    dbfile.close()\n",
    "    datatemp[1] = datatemp[1].T[0]\n",
    "    dataC[0] = np.append(dataC[0],datatemp[0])\n",
    "    dataC[1] = np.append(dataC[1],datatemp[1])\n",
    "for n in range(1,24):\n",
    "    dbfile = open('Data/Other_puzzle/Quantum_Nmax3_5_{}'.format(n), 'rb')\n",
    "\n",
    "    datatemp = pickle.load(dbfile)\n",
    "    dbfile.close()\n",
    "    datatemp[1] = datatemp[1].T[0]\n",
    "    dataQ[0] = np.append(dataQ[0],datatemp[0])\n",
    "    dataQ[1] = np.append(dataQ[1],datatemp[1])\n",
    "    dbfile = open('Data/Other_puzzle/Classical_Nmax3_5_{}'.format(n), 'rb')\n",
    "\n",
    "    datatemp = pickle.load(dbfile)\n",
    "    dbfile.close()\n",
    "    datatemp[1] = datatemp[1].T[0]\n",
    "    dataC[0] = np.append(dataC[0],datatemp[0])\n",
    "    dataC[1] = np.append(dataC[1],datatemp[1])\n",
    "\n",
    "dbfile = open('Data/Other_puzzle/Mixed_Nmax2_5_0', 'rb')\n",
    "\n",
    "dataM = pickle.load(dbfile)\n",
    "dbfile.close()\n",
    "dataM[1] = dataM[1].T[0]    \n",
    "    \n",
    "for n in range(1,12):\n",
    "    dbfile = open('Data/Other_puzzle/Mixed_Nmax2_5_{}'.format(n), 'rb')\n",
    "\n",
    "    datatemp = pickle.load(dbfile)\n",
    "    dbfile.close()\n",
    "    datatemp[1] = datatemp[1].T[0]\n",
    "    dataM[0] = np.append(dataM[0],datatemp[0])\n",
    "    dataM[1] = np.append(dataM[1],datatemp[1])\n",
    "  \n",
    "    \n",
    "for n in range(0,20):\n",
    "    dbfile = open('Data/Other_puzzle/Mixed_Nmax3_5_{}'.format(n), 'rb')\n",
    "\n",
    "    datatemp = pickle.load(dbfile)\n",
    "    dbfile.close()\n",
    "    datatemp[1] = datatemp[1].T[0]\n",
    "    dataM[0] = np.append(dataM[0],datatemp[0])\n",
    "    dataM[1] = np.append(dataM[1],datatemp[1])\n",
    "    \n",
    "depth = 15\n",
    "Num_scrambles = len(dataQ[0])\n",
    "print(Num_scrambles)\n",
    "Costs = [1,1]\n",
    "Pvals = np.linspace(0,1,13)\n",
    "\n",
    "\n",
    "ZQ,MQ,PQ = Strategy_helper.scramble_probabilities(dataQ,depth,Costs,Pvals=Pvals)#,Mvals=Mvals,Pvals=Pvals)\n",
    "ZC,MC,PC = Strategy_helper.scramble_probabilities(dataC,depth,Costs,Pvals=Pvals)#,Mvals=Mvals,Pvals=Pvals)\n",
    "ZM,MM,PM = Strategy_helper.scramble_probabilities(dataM,depth,Costs,Pvals=Pvals)#,Mvals=Mvals,Pvals=Pvals)\n",
    "distQ = []\n",
    "distC = []\n",
    "distM = []\n",
    "meanQ = 0\n",
    "meanC = 0\n",
    "meanM = 0\n",
    "\n",
    "nvals = range(1,300)\n",
    "for n in nvals:\n",
    "    P_n_Q = Strategy_helper.Prob(n,MQ,PQ,ZQ)\n",
    "    P_n_C = Strategy_helper.Prob(n,MC,PC,ZC)\n",
    "    P_n_M = Strategy_helper.Prob(n,MM,PM,ZM)\n",
    "    distQ.append(P_n_Q)\n",
    "    distC.append(P_n_C)\n",
    "    distM.append(P_n_M)\n",
    "    meanQ += n*P_n_Q\n",
    "    meanC += n*P_n_C\n",
    "    meanM += n*P_n_M\n",
    "print(\"Quantum solver average:\",meanQ)\n",
    "print(\"Classical solver average:\",meanC)\n",
    "print(\"Mixed solver average:\",meanM)\n",
    "\n",
    "Frac_Q.append(2.0*(meanQ-meanC)/(meanQ+meanC))\n",
    "Frac_M.append(2.0*(meanM-meanC)/(meanM+meanC))\n",
    "diff_Q.append(meanQ-meanC)\n",
    "diff_M.append(meanM-meanC)"
   ]
  },
  {
   "cell_type": "code",
   "execution_count": 233,
   "id": "41ab31ca-699a-41f5-9239-609fe7636524",
   "metadata": {},
   "outputs": [
    {
     "name": "stdout",
     "output_type": "stream",
     "text": [
      "830\n",
      "Quantum solver average: 7.597088522149752\n",
      "Classical solver average: 7.428574622712891\n"
     ]
    }
   ],
   "source": [
    "# Analyzing for N = 6 the biggest we could do but no combined solver\n",
    "dbfile = open('Data/Other_puzzle/Quantum_Nmax3_6_0', 'rb')\n",
    "\n",
    "dataQ = pickle.load(dbfile)\n",
    "dbfile.close()\n",
    "dataQ[1] = dataQ[1].T[0]\n",
    "\n",
    "dbfile = open('Data/Other_puzzle/Classical_Nmax3_6_0', 'rb')\n",
    "\n",
    "dataC = pickle.load(dbfile)\n",
    "dbfile.close()\n",
    "dataC[1] = dataC[1].T[0]\n",
    "for n in range(1,3):\n",
    "    dbfile = open('Data/Other_puzzle/Quantum_Nmax3_6_{}'.format(n), 'rb')\n",
    "\n",
    "    datatemp = pickle.load(dbfile)\n",
    "    dbfile.close()\n",
    "    datatemp[1] = datatemp[1].T[0]\n",
    "    dataQ[0] = np.append(dataQ[0],datatemp[0])\n",
    "    dataQ[1] = np.append(dataQ[1],datatemp[1])\n",
    "    dbfile = open('Data/Other_puzzle/Classical_Nmax3_6_{}'.format(n), 'rb')\n",
    "\n",
    "    datatemp = pickle.load(dbfile)\n",
    "    dbfile.close()\n",
    "    datatemp[1] = datatemp[1].T[0]\n",
    "    dataC[0] = np.append(dataC[0],datatemp[0])\n",
    "    dataC[1] = np.append(dataC[1],datatemp[1])\n",
    "\n",
    "for n in range(0,4):\n",
    "    dbfile = open('Data/Other_puzzle/Quantum_Nmax_6_{}'.format(n), 'rb')\n",
    "\n",
    "    datatemp = pickle.load(dbfile)\n",
    "    dbfile.close()\n",
    "    datatemp2 = [[],[]]\n",
    "    for data in datatemp:\n",
    "        datatemp2[0].append(data[0])\n",
    "        datatemp2[1].append(data[1])\n",
    "    dataQ[0] = np.append(dataQ[0],np.array(np.transpose(datatemp2[0])))\n",
    "    dataQ[1] = np.append(dataQ[1],np.array(np.transpose(datatemp2[1])))\n",
    "    dataQ[0] = dataQ[0].astype(int)\n",
    "    dbfile = open('Data/Other_puzzle/Classical_Nmax_6_{}'.format(n), 'rb')\n",
    "\n",
    "    datatemp = pickle.load(dbfile)\n",
    "    datatemp3 = [[],[]]\n",
    "    for data in datatemp:\n",
    "        datatemp3[0].append(data[0])\n",
    "        datatemp3[1].append(data[1])\n",
    "    dbfile.close()\n",
    "    dataC[0] = np.append(dataC[0],np.array(np.transpose(datatemp3[0])))\n",
    "    dataC[0] = dataC[0].astype(int)\n",
    "    dataC[1] = np.append(dataC[1],np.array(np.transpose(datatemp3[1])))\n",
    "    \n",
    "    \n",
    "depth = 15\n",
    "Num_scrambles = len(dataQ[0])\n",
    "print(Num_scrambles)\n",
    "Costs = [1,1]\n",
    "Pvals = np.linspace(0,1,12)\n",
    "\n",
    "\n",
    "ZQ,MQ,PQ = Strategy_helper.scramble_probabilities(dataQ,depth,Costs,Pvals=Pvals)#,Mvals=Mvals,Pvals=Pvals)\n",
    "ZC,MC,PC = Strategy_helper.scramble_probabilities(dataC,depth,Costs,Pvals=Pvals)#,Mvals=Mvals,Pvals=Pvals)\n",
    "#ZM,MM,PM = Strategy_helper.scramble_probabilities(dataM,depth,Costs)#,Pvals=Pvals)#,Mvals=Mvals,Pvals=Pvals)\n",
    "distQ = []\n",
    "distC = []\n",
    "distM = []\n",
    "meanQ = 0\n",
    "meanC = 0\n",
    "meanM = 0\n",
    "\n",
    "nvals = range(1,300)\n",
    "for n in nvals:\n",
    "    P_n_Q = Strategy_helper.Prob(n,MQ,PQ,ZQ)\n",
    "    P_n_C = Strategy_helper.Prob(n,MC,PC,ZC)\n",
    "    P_n_M = Strategy_helper.Prob(n,MM,PM,ZM)\n",
    "    distQ.append(P_n_Q)\n",
    "    distC.append(P_n_C)\n",
    "    distM.append(P_n_M)\n",
    "    meanQ += n*P_n_Q\n",
    "    meanC += n*P_n_C\n",
    "    meanM += n*P_n_M\n",
    "print(\"Quantum solver average:\",meanQ)\n",
    "print(\"Classical solver average:\",meanC)\n",
    "\n",
    "Frac_Q.append(2.0*(meanQ-meanC)/(meanQ+meanC))\n",
    "diff_Q.append(meanQ-meanC)\n"
   ]
  },
  {
   "cell_type": "code",
   "execution_count": 246,
   "id": "1f16709d-ff13-498f-a90a-ff49d676a64b",
   "metadata": {},
   "outputs": [
    {
     "data": {
      "image/png": "[encoded data removed]",
      "text/plain": [
       "<Figure size 432x288 with 1 Axes>"
      ]
     },
     "metadata": {
      "needs_background": "light"
     },
     "output_type": "display_data"
    }
   ],
   "source": [
    "SMALL_SIZE = 12\n",
    "MEDIUM_SIZE = 20\n",
    "BIGGER_SIZE = 32\n",
    "\n",
    "plt.rc('font', size=SMALL_SIZE)          # controls default text sizes\n",
    "plt.rc('axes', titlesize=MEDIUM_SIZE)     # fontsize of the axes title\n",
    "plt.rc('axes', labelsize=MEDIUM_SIZE)    # fontsize of the x and y labels\n",
    "plt.rc('xtick', labelsize=MEDIUM_SIZE)    # fontsize of the tick labels\n",
    "plt.rc('ytick', labelsize=MEDIUM_SIZE)    # fontsize of the tick labels\n",
    "plt.rc('legend', fontsize=SMALL_SIZE)    # legend fontsize\n",
    "plt.rc('figure', titlesize=BIGGER_SIZE)  # fontsize of the figure title\n",
    "plt.plot([2,3,4,5],Frac_Q,'--*')\n",
    "plt.plot([2,3,4,5],Frac_M,'--s')\n",
    "plt.plot([2,5],[0,0],'k')\n",
    "plt.legend(['Quantum advantage','Combined advantage','Classical baseline'])\n",
    "plt.ylabel('Percent Speedup')\n",
    "plt.xlabel(r'Puzzle dimension $(n)$')\n",
    "plt.savefig('Figures/advantage.pdf',format='pdf',bbox_inches='tight')"
   ]
  },
  {
   "cell_type": "code",
   "execution_count": 238,
   "id": "1d4400b6-3933-4a42-93c8-745e7c85693e",
   "metadata": {},
   "outputs": [
    {
     "data": {
      "image/png": "[encoded data removed]",
      "text/plain": [
       "<Figure size 432x288 with 1 Axes>"
      ]
     },
     "metadata": {
      "needs_background": "light"
     },
     "output_type": "display_data"
    }
   ],
   "source": [
    "SMALL_SIZE = 12\n",
    "MEDIUM_SIZE = 20\n",
    "BIGGER_SIZE = 32\n",
    "\n",
    "plt.rc('font', size=SMALL_SIZE)          # controls default text sizes\n",
    "plt.rc('axes', titlesize=MEDIUM_SIZE)     # fontsize of the axes title\n",
    "plt.rc('axes', labelsize=MEDIUM_SIZE)    # fontsize of the x and y labels\n",
    "plt.rc('xtick', labelsize=MEDIUM_SIZE)    # fontsize of the tick labels\n",
    "plt.rc('ytick', labelsize=MEDIUM_SIZE)    # fontsize of the tick labels\n",
    "plt.rc('legend', fontsize=SMALL_SIZE)    # legend fontsize\n",
    "plt.rc('figure', titlesize=BIGGER_SIZE)  # fontsize of the figure title\n",
    "plt.plot([2,3,4,5,6],diff_Q,'--*')\n",
    "plt.plot([2,3,4,5],diff_M,'--s')\n",
    "plt.plot([2,6],[0,0],'k')\n",
    "plt.legend(['Quantum advantage','Combined advantage','Classical baseline'])\n",
    "plt.ylabel('Percent Speedup')\n",
    "plt.xlabel(r'Puzzle dimension $(n)$')\n",
    "plt.savefig('Figures/absadvantage.pdf',format='pdf',bbox_inches='tight')"
   ]
  },
  {
   "cell_type": "code",
   "execution_count": 60,
   "id": "f1e3273b-fba1-4851-abba-35b93ed7b71a",
   "metadata": {},
   "outputs": [
    {
     "data": {
      "image/png": "[encoded data removed]",
      "text/plain": [
       "<Figure size 432x288 with 1 Axes>"
      ]
     },
     "metadata": {
      "needs_background": "light"
     },
     "output_type": "display_data"
    }
   ],
   "source": [
    "fig,ax = plt.subplots()\n",
    "# ax.semilogx(nvals,[sum(distQ[0:n]) for n in range(len(distQ))],'--*')\n",
    "# ax.semilogx(nvals,[sum(distC[0:n]) for n in range(len(distC))],'--*')\n",
    "# ax.semilogx(nvals,[sum(distM[0:n]) for n in range(len(distM))],'--*')\n",
    "ax.semilogx(nvals,distQ,'--*')\n",
    "ax.semilogx(nvals,distC,'--*')\n",
    "ax.semilogx(nvals,distM,'--*')\n",
    "ax.set_xlim([1,25])\n",
    "ax.legend([\"Quantum\",\"Classical\",'Mixed'])\n",
    "ax.set_ylabel(\"Percent of scrambles solved\")\n",
    "ax.set_xlabel(\"Move count\")\n",
    "ax.grid()\n",
    "plt.savefig(\"./Figures/SolvingCDF.pdf\",format=\"pdf\")"
   ]
  },
  {
   "cell_type": "code",
   "execution_count": 141,
   "id": "5eacd7ec-ef3c-4408-b10e-46231d15d2f6",
   "metadata": {},
   "outputs": [
    {
     "data": {
      "image/png": "[encoded data removed]",
      "text/plain": [
       "<Figure size 1296x432 with 3 Axes>"
      ]
     },
     "metadata": {
      "needs_background": "light"
     },
     "output_type": "display_data"
    }
   ],
   "source": [
    "from matplotlib.colors import LogNorm\n",
    "fig, ax = plt.subplots(1,3,figsize=(18,6))\n",
    "ax[0].imshow(ZQ, cmap=plt.cm.gist_earth_r,\n",
    "          extent=[1, depth+1, 0, 1],origin='lower',aspect = 5,norm=LogNorm())\n",
    "ax[0].set_title('Quantum Solver')\n",
    "ax[0].set_xlabel('M')\n",
    "ax[0].set_ylabel('P')\n",
    "ax[1].imshow(ZM, cmap=plt.cm.gist_earth_r,\n",
    "          extent=[1, depth+1, 0, 1],origin='lower',aspect = 5,norm=LogNorm())\n",
    "ax[1].set_title('Mixed Solver')\n",
    "ax[1].set_xlabel('M')\n",
    "ax[1].set_ylabel('P')\n",
    "ax[2].imshow(ZC, cmap=plt.cm.gist_earth_r,\n",
    "          extent=[1, depth+1, 0, 1],origin='lower',aspect = 5,norm=LogNorm())\n",
    "ax[2].set_title('Classical Solver')\n",
    "ax[2].set_xlabel('M')\n",
    "ax[2].set_ylabel('P')\n",
    "plt.show()"
   ]
  },
  {
   "cell_type": "code",
   "execution_count": 62,
   "id": "431d1342-160f-4fce-8d18-a8f55b2bf1b0",
   "metadata": {},
   "outputs": [],
   "source": [
    "def scramble_expected_dist(data):\n",
    "    \"\"\"\n",
    "    :param data: 2D numpy array of optimal values of M,P from many scrambles\n",
    "    :param depth: integer largest M \n",
    "    :param Cost: a list of costs, Cost[0] is the cost of moving and Cost[1] is the cost of measureing\n",
    "    :param Mvals: grid of M values to evaluate probabilties on\n",
    "    :param Pvals: grid of P values to evaluate probabilties on\n",
    "    \n",
    "    :returns Z: 2D numpy array with dimensions [len(Mvals),len(Pvals)]\n",
    "    :returns Mvals: np array of grid used to calculate probabilties\n",
    "    :returns Pvals: np array of grid used to calculate probabilties\n",
    "    \"\"\"\n",
    "    expected = data[0]/data[1]\n",
    "    Num_scrambles = len(data[0])\n",
    "    N = int(2*(Num_scrambles)**(1/3))\n",
    "    E_vals = np.linspace(1,12,N-1)\n",
    "    E_vals = np.insert(E_vals,0,0)\n",
    "    counts = np.zeros(N)\n",
    "    for i in range(N-1):\n",
    "        for datapoint in expected:\n",
    "            if (datapoint>E_vals[i] and datapoint<= E_vals[i+1]):\n",
    "                counts[i] += 1\n",
    "    return (counts/Num_scrambles,E_vals)\n",
    "   "
   ]
  },
  {
   "cell_type": "code",
   "execution_count": 63,
   "id": "8b9ac3ce-c5ff-42b5-8c60-2a7e6c38b902",
   "metadata": {},
   "outputs": [],
   "source": [
    "ZQ,EQ = scramble_expected_dist(dataQ)\n",
    "ZC,EC = scramble_expected_dist(dataC)\n",
    "ZM,EM = scramble_expected_dist(dataM)"
   ]
  },
  {
   "cell_type": "code",
   "execution_count": 64,
   "id": "a9b319dc-53a0-4f9d-af48-e38a41a24016",
   "metadata": {},
   "outputs": [
    {
     "data": {
      "image/png": "[encoded data removed]",
      "text/plain": [
       "<Figure size 1296x432 with 3 Axes>"
      ]
     },
     "metadata": {
      "needs_background": "light"
     },
     "output_type": "display_data"
    }
   ],
   "source": [
    "from matplotlib.colors import LogNorm\n",
    "fig, ax = plt.subplots(1,3,figsize=(18,6))\n",
    "ax[0].plot(EQ,ZQ)\n",
    "ax[0].set_title('Quantum Solver')\n",
    "ax[0].set_xlabel(r'$\\mu = M/P$')\n",
    "ax[0].set_ylabel(r'Prob($\\mu$)')\n",
    "ax[0].set_xlim([min(EC),max(EC)])\n",
    "ax[0].set_ylim([0,max(ZM+.01)])\n",
    "ax[1].plot(EM,ZM)\n",
    "ax[1].set_title('Mixed Solver')\n",
    "ax[1].set_xlabel(r'$\\mu = M/P$')\n",
    "ax[1].set_ylabel(r'Prob($\\mu$)')\n",
    "ax[1].set_xlim([min(EC),max(EC)])\n",
    "ax[1].set_ylim([0,max(ZM)+.01])\n",
    "ax[2].plot(EC,ZC)\n",
    "ax[2].set_title('Classical Solver')\n",
    "ax[2].set_xlabel(r'$\\mu = M/P$')\n",
    "ax[2].set_ylabel(r'Prob($\\mu$)')\n",
    "ax[2].set_xlim([min(EC),max(EC)])\n",
    "ax[2].set_ylim([0,max(ZM)+.01])\n",
    "plt.show()"
   ]
  },
  {
   "cell_type": "code",
   "execution_count": 65,
   "id": "2b2e09cc-bc4f-42e6-b135-9ded406497a7",
   "metadata": {},
   "outputs": [
    {
     "data": {
      "image/png": "[encoded data removed]",
      "text/plain": [
       "<Figure size 432x288 with 1 Axes>"
      ]
     },
     "metadata": {
      "needs_background": "light"
     },
     "output_type": "display_data"
    }
   ],
   "source": [
    "fig,ax = plt.subplots()\n",
    "ax.plot(EQ,ZQ,'-*')\n",
    "ax.plot(EC,ZC,'-*')\n",
    "ax.plot(EM,ZM,'-*')\n",
    "ax.set_xlabel(r'$\\mu = M/P$')\n",
    "ax.set_ylabel(r'P($\\mu$)')\n",
    "ax.legend(['Quanutm Solver', 'Classical Solver', 'Combined Solver'])\n",
    "ax.plot([meanQ,meanQ],[0,max(ZQ)],'--',color='tab:blue')\n",
    "#ax.plot([meanC,meanC],[0,ZC[11]],'--',color='tab:orange')\n",
    "ax.plot([meanM,meanM],[0,max(ZM)],'--',color='tab:green')\n",
    "ax.set_xlim([min(EC),10])\n",
    "ax.set_ylim([0,max(ZM)+.01])\n",
    "ax.grid()\n",
    "plt.savefig(\"./Figures/Expected_dist.pdf\",format=\"pdf\")"
   ]
  },
  {
   "cell_type": "code",
   "execution_count": 57,
   "id": "cfc07e7d-571a-4c33-95ea-4f366b50f4a6",
   "metadata": {},
   "outputs": [],
   "source": [
    "def scramble_move_dist(data):\n",
    "    \"\"\"\n",
    "    :param data: 2D numpy array of optimal values of M,P from many scrambles\n",
    "    :param depth: integer largest M \n",
    "    :param Cost: a list of costs, Cost[0] is the cost of moving and Cost[1] is the cost of measureing\n",
    "    :param Mvals: grid of M values to evaluate probabilties on\n",
    "    :param Pvals: grid of P values to evaluate probabilties on\n",
    "    \n",
    "    :returns Z: 2D numpy array with dimensions [len(Mvals),len(Pvals)]\n",
    "    :returns Mvals: np array of grid used to calculate probabilties\n",
    "    :returns Pvals: np array of grid used to calculate probabilties\n",
    "    \"\"\"\n",
    "    Moves = data[0]\n",
    "    Mvals = np.arange(min(Moves),max(Moves)+1)\n",
    "    counts = np.zeros(len(Mvals))\n",
    "    for i,M in enumerate(Mvals):\n",
    "        for datapoint in Moves:\n",
    "            if (datapoint==M):\n",
    "                counts[i] += 1\n",
    "    return (counts/Num_scrambles,Mvals)\n",
    "   "
   ]
  },
  {
   "cell_type": "code",
   "execution_count": 58,
   "id": "c335f934-c884-432b-92fa-9c61facdfb26",
   "metadata": {},
   "outputs": [],
   "source": [
    "ZQ,EQ = scramble_move_dist(dataQ)\n",
    "ZC,EC = scramble_move_dist(dataC)\n",
    "ZM,EM = scramble_move_dist(dataM)"
   ]
  },
  {
   "cell_type": "code",
   "execution_count": 59,
   "id": "d4c909f1-7819-41d6-b532-14b26aca9674",
   "metadata": {},
   "outputs": [
    {
     "data": {
      "text/plain": [
       "array([1, 2, 3, 4, 5])"
      ]
     },
     "execution_count": 59,
     "metadata": {},
     "output_type": "execute_result"
    },
    {
     "data": {
      "image/png": "[encoded data removed]",
      "text/plain": [
       "<Figure size 432x288 with 1 Axes>"
      ]
     },
     "metadata": {
      "needs_background": "light"
     },
     "output_type": "display_data"
    }
   ],
   "source": [
    "fig,ax = plt.subplots()\n",
    "ax.plot(EQ-1,ZQ,'-*')\n",
    "ax.plot(EC-1,ZC,'-*')\n",
    "ax.plot(EM-1,ZM,'--*')\n",
    "ax.set_xlabel('Moves before measureing')\n",
    "ax.set_ylabel(r'Precentage of scrambles solved with each move count')\n",
    "ax.legend(['Quanutm Solver', 'Classical Solver', 'Combined Solver'])\n",
    "\n",
    "ax.grid()\n",
    "EC"
   ]
  },
  {
   "cell_type": "code",
   "execution_count": 66,
   "id": "41d501e2-e402-488a-ae91-f659f3110229",
   "metadata": {},
   "outputs": [],
   "source": [
    "ZQ,MQ,PQ = Strategy_helper.scramble_probabilities(dataQ,depth,Costs)#,Pvals=Pvals)#,Mvals=Mvals,Pvals=Pvals)\n",
    "ZC,MC,PC = Strategy_helper.scramble_probabilities(dataC,depth,Costs)#,Pvals=Pvals)#,Mvals=Mvals,Pvals=Pvals)\n",
    "ZM,MM,PM = Strategy_helper.scramble_probabilities(dataM,depth,Costs)#,Pvals=Pvals)#,Mvals=Mvals,Pvals=Pvals)\n",
    "distQ = []\n",
    "distC = []\n",
    "distM = []\n",
    "meanQ = 0\n",
    "meanC = 0\n",
    "meanM = 0\n",
    "\n",
    "nvals = range(1,300)\n",
    "for n in nvals:\n",
    "    P_n_Q = Strategy_helper.Prob(n,MQ,PQ,ZQ)\n",
    "    P_n_C = Strategy_helper.Prob(n,MC,PC,ZC)\n",
    "    P_n_M = Strategy_helper.Prob(n,MM,PM,ZM)\n",
    "    distQ.append(P_n_Q)\n",
    "    distC.append(P_n_C)\n",
    "    distM.append(P_n_M)"
   ]
  },
  {
   "cell_type": "code",
   "execution_count": 74,
   "id": "edcd5427-6a9d-4dfb-8788-3274653a44cb",
   "metadata": {},
   "outputs": [
    {
     "data": {
      "text/plain": [
       "<BarContainer object of 15 artists>"
      ]
     },
     "execution_count": 74,
     "metadata": {},
     "output_type": "execute_result"
    },
    {
     "data": {
      "image/png": "[encoded data removed]",
      "text/plain": [
       "<Figure size 432x288 with 1 Axes>"
      ]
     },
     "metadata": {
      "needs_background": "light"
     },
     "output_type": "display_data"
    }
   ],
   "source": [
    "plt.bar(nvals[0:15],np.subtract(distM[0:15],distC[0:15]))"
   ]
  },
  {
   "cell_type": "code",
   "execution_count": 78,
   "id": "b6111047-eb67-4677-a3ec-c0ac6ab4012a",
   "metadata": {},
   "outputs": [
    {
     "data": {
      "text/plain": [
       "<matplotlib.legend.Legend at 0x7fa6911e4160>"
      ]
     },
     "execution_count": 78,
     "metadata": {},
     "output_type": "execute_result"
    },
    {
     "data": {
      "image/png": "[encoded data removed]",
      "text/plain": [
       "<Figure size 432x288 with 1 Axes>"
      ]
     },
     "metadata": {
      "needs_background": "light"
     },
     "output_type": "display_data"
    }
   ],
   "source": [
    "plt.bar(nvals[0:15],distM[0:15])\n",
    "plt.bar(nvals[0:15],distC[0:15])\n",
    "plt.legend(['Mixed','Classical'])"
   ]
  },
  {
   "cell_type": "code",
   "execution_count": null,
   "id": "9b2f7caf-2d0c-4f76-8f39-5c8beeda47f4",
   "metadata": {},
   "outputs": [],
   "source": []
  }
 ],
 "metadata": {
  "kernelspec": {
   "display_name": "Python 3 (ipykernel)",
   "language": "python",
   "name": "python3"
  },
  "language_info": {
   "codemirror_mode": {
    "name": "ipython",
    "version": 3
   },
   "file_extension": ".py",
   "mimetype": "text/x-python",
   "name": "python",
   "nbconvert_exporter": "python",
   "pygments_lexer": "ipython3",
   "version": "3.9.7"
  }
 },
 "nbformat": 4,
 "nbformat_minor": 5
}
