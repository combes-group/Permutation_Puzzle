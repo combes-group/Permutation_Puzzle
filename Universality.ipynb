{
 "cells": [
  {
   "cell_type": "code",
   "execution_count": 2,
   "id": "cbe9473e-fe69-43f5-82e6-518fbb01a7a0",
   "metadata": {},
   "outputs": [],
   "source": [
    "import numpy as np\n",
    "import scipy as sp\n",
    "import math\n",
    "import matplotlib.pyplot as plt\n",
    "import matplotlib.cm as cm\n"
   ]
  },
  {
   "cell_type": "markdown",
   "id": "009c89f0-c873-483e-9478-5657f9a81698",
   "metadata": {
    "tags": []
   },
   "source": [
    "### States"
   ]
  },
  {
   "cell_type": "code",
   "execution_count": 93,
   "id": "9c610a00-c04b-4cc1-a1dc-7da6dd6537f7",
   "metadata": {
    "tags": []
   },
   "outputs": [],
   "source": [
    "zero  = np.array([[1], [0], [0], [0], [0], [0]],dtype=complex)\n",
    "one   = np.array([[0], [1], [0], [0], [0], [0]],dtype=complex)\n",
    "two   = np.array([[0], [0], [1], [0], [0], [0]],dtype=complex)\n",
    "three = np.array([[0], [0], [0], [1], [0], [0]],dtype=complex)\n",
    "four  = np.array([[0], [0], [0], [0], [1], [0]],dtype=complex)\n",
    "five  = np.array([[0], [0], [0], [0], [0], [1]],dtype=complex)"
   ]
  },
  {
   "cell_type": "markdown",
   "id": "74d52449-ffe6-4fe1-aa13-e80962efbc72",
   "metadata": {},
   "source": [
    "### Permutations"
   ]
  },
  {
   "cell_type": "code",
   "execution_count": 94,
   "id": "4604dad3-1be5-414a-b57d-cd932ce34dbe",
   "metadata": {},
   "outputs": [],
   "source": [
    "SN = - zero@zero.T - one@one.T + five@two.T \\\n",
    "     +four@three.T+three@four.T+ two@five.T\n",
    "\n",
    "SS =  -zero@zero.T - one@one.T + five@three.T \\\n",
    "     +four@two.T+two@four.T+ three@five.T\n",
    "\n",
    "SE =  -two@two.T - three@three.T + five@one.T \\\n",
    "     +four@zero.T+zero@four.T+ one@five.T\n",
    "\n",
    "SW = - two@two.T - three@three.T + five@zero.T \\\n",
    "     +four@one.T+one@four.T+ zero@five.T\n",
    "\n",
    "D1 = zero@three.T + three@zero.T +one@two.T + two@one.T \\\n",
    "     -four@four.T - five@five.T\n",
    "\n",
    "D2 = zero@two.T + two@zero.T +one@three.T + three@one.T \\\n",
    "     -four@four.T - five@five.T\n",
    "\n",
    "rot_CW = zero@three.T + three@one.T + one@two.T + two@zero.T + four@five.T + five@four.T\n",
    "\n",
    "rot_CCW = rot_CW.T\n",
    "\n",
    "flip_V = zero@zero.T + one@one.T + three@two.T + two@three.T + four@five.T + five@four.T\n",
    "\n",
    "flip_H = zero@one.T + one@zero.T + three@three.T + two@two.T + four@five.T + five@four.T\n",
    "\n",
    "Id = zero@zero.T + one@one.T + two@two.T + \\\n",
    "     three@three.T + four@four.T + five@five.T"
   ]
  },
  {
   "cell_type": "code",
   "execution_count": 97,
   "id": "0ea089e9-3c86-4e20-af08-4ea4bc875dc4",
   "metadata": {},
   "outputs": [],
   "source": [
    "omega = np.exp(1j*2*np.pi/6)\n",
    "#S_gate = np.matrix(np.diag([omega**0, omega**1, omega**3, omega**6,omega**10,omega**15]))\n",
    "#states = [zero, one, two, three, four, five]\n",
    "H = np.zeros((6,6),dtype=complex)\n",
    "S_gate = np.zeros((6,6),dtype=complex)\n",
    "for i in range(6):\n",
    "    S_gate[i,i] = omega**(i*(i+1)/2)\n",
    "    for j in range(6):\n",
    "        H[i,j] = 1/math.sqrt(6) * omega**(j*i)\n"
   ]
  },
  {
   "cell_type": "markdown",
   "id": "0f6431d1-b89c-4588-a976-726af404a557",
   "metadata": {},
   "source": [
    "### Gate Set (S)"
   ]
  },
  {
   "cell_type": "code",
   "execution_count": 98,
   "id": "36dafe5d-c71f-4d48-b89a-a69cc0f48df2",
   "metadata": {
    "tags": []
   },
   "outputs": [],
   "source": [
    "Perms = [SN,SS,SE,SN]#D1,D2,flip_H,flip_V,rot_CW,rot_CCW]\n",
    "SQRT_SWAP = [(Id + 1j*P)/np.sqrt(2) for P in Perms]\n",
    "Quarter_Swap = [np.cos(np.pi/8)*Id + np.sin(np.pi/8)*1j*P for P in Perms]\n",
    "S = [S_gate,H]\n",
    "\n",
    "#S.append(S_gate)"
   ]
  },
  {
   "cell_type": "markdown",
   "id": "c73b54dc-3ec3-4a4a-bc7d-b2feee21a5b1",
   "metadata": {},
   "source": [
    "## Finding Adjoint representation in SO(35)"
   ]
  },
  {
   "cell_type": "markdown",
   "id": "a442d602-7032-4972-99e1-4c8327d07376",
   "metadata": {},
   "source": [
    "Generators of $\\mathfrak{s u}(6)$ are found in mathematica via the approach found in https://mathematica.stackexchange.com/questions/159014/calculate-representations-of-sun-generators\n",
    "\n"
   ]
  },
  {
   "cell_type": "code",
   "execution_count": 99,
   "id": "7f461f42-8c7d-415a-bca7-b46bd9466664",
   "metadata": {},
   "outputs": [],
   "source": [
    "G = []\n",
    "# generate all the nondiagonal matricies\n",
    "for i in range(6):\n",
    "    for j in range(1,6-i):\n",
    "        a = np.matrix(np.zeros((6,6),dtype=complex))\n",
    "        b =  np.matrix(np.zeros((6,6)))\n",
    "        a[i,i+j] = 1j/math.sqrt(2)\n",
    "        a[i+j,i] = 1j/math.sqrt(2)\n",
    "        b[i,i+j] = -1/math.sqrt(2)\n",
    "        b[i+j,i] = 1/math.sqrt(2)\n",
    "        G.append(a)\n",
    "        G.append(b)\n",
    "# generate the remaining diagonal generators\n",
    "G.append(np.matrix(np.diag([1j/math.sqrt(2),-1j/math.sqrt(2),0,0,0,0])))\n",
    "G.append(np.matrix(np.diag([1j/math.sqrt(6),1j/math.sqrt(6),-1j*math.sqrt(2/3),0,0,0])))\n",
    "G.append(np.matrix(np.diag([1j/(2*math.sqrt(3)),1j/(2*math.sqrt(3)),1j/(2*math.sqrt(3)),-1j*math.sqrt(3)/2,0,0])))\n",
    "G.append(np.matrix(np.diag([1j/(2*math.sqrt(5)),1j/(2*math.sqrt(5)),1j/(2*math.sqrt(5)),1j/(2*math.sqrt(5)),-2j/math.sqrt(5),0])))\n",
    "G.append(np.matrix(np.diag([1j/(math.sqrt(30)),1j/(math.sqrt(30)),1j/(math.sqrt(30)),1j/(math.sqrt(30)),1j/(math.sqrt(30)),-1j*math.sqrt(5/6)])))"
   ]
  },
  {
   "cell_type": "code",
   "execution_count": null,
   "id": "0bcfa3b4-e27a-45f1-a3f4-aba951cf4f5c",
   "metadata": {},
   "outputs": [],
   "source": []
  },
  {
   "cell_type": "markdown",
   "id": "6aca5ed5-0a8d-4390-98ef-48c1175a4987",
   "metadata": {},
   "source": [
    "### Using the generators of the lie algebra to generate the adjoint representation of the matricies in our gate set"
   ]
  },
  {
   "cell_type": "code",
   "execution_count": 100,
   "id": "16a04f3f-c74f-4936-a232-c7f3b697aefa",
   "metadata": {},
   "outputs": [],
   "source": [
    "# generate the adjoint of an operator in SU(d) in SO(d^2-1)\n",
    "def Ad(U,G):\n",
    "    d = len(G)\n",
    "    Ad_U = np.matrix(np.zeros((d,d),dtype=complex))\n",
    "    for i in range(d):\n",
    "        for j  in range(d):\n",
    "            Ad_U[i,j] = -1/2 * np.trace(G[i]*U*G[j]*np.linalg.inv(U))\n",
    "    return Ad_U"
   ]
  },
  {
   "cell_type": "markdown",
   "id": "2bb30ff3-12f3-4945-b443-df5501a7d342",
   "metadata": {},
   "source": [
    "### Step 1 of the algorithm,"
   ]
  },
  {
   "cell_type": "markdown",
   "id": "6542bff0-cd15-404d-a03a-707c72ca2a9c",
   "metadata": {},
   "source": [
    "We need this code to print 1, which is the dimension of the kernal of the matrix $M_S$. If this is not onedimensional then it means that ther exists a set of matricies $A$ in the adjoint representation of $SU(6)$ that commute with every element of our gate set. This means that even though our set might be infinite we do not have a universal gate set. "
   ]
  },
  {
   "cell_type": "code",
   "execution_count": 101,
   "id": "f27c16ab-1542-4dbe-8a3a-c7552afe3339",
   "metadata": {
    "tags": []
   },
   "outputs": [
    {
     "name": "stdout",
     "output_type": "stream",
     "text": [
      "The dimension of the kernal is 1\n"
     ]
    }
   ],
   "source": [
    "I = np.matrix(np.eye(len(G)))\n",
    "Ms = np.matrix(np.zeros((len(G)**2*len(S),len(G)**2),dtype=complex))\n",
    "for i,gate in enumerate(S):\n",
    "    Ms[i*len(G)**2:(i+1)*len(G)**2,:] = np.kron(I,Ad(gate,G)) - np.kron(Ad(np.conj(gate.T),G),I)\n",
    "# finding the kernal of MS\n",
    "#Ms = np.matrix(Ms)\n",
    "dim_ker = len(G)**2 - np.linalg.matrix_rank(Ms)\n",
    "#ker = np.conj(Ms.T) @ Ms\n",
    "print('The dimension of the kernal is', dim_ker)"
   ]
  },
  {
   "cell_type": "markdown",
   "id": "37fc0fc4-b583-4ec2-876c-960d49316426",
   "metadata": {},
   "source": [
    "### Step 2 of the algorithm"
   ]
  },
  {
   "cell_type": "code",
   "execution_count": 102,
   "id": "ed21ff49-1be8-4a89-a2ca-3e7e6c7cfabb",
   "metadata": {},
   "outputs": [],
   "source": [
    "def ball_check(gate,N,alphas):\n",
    "    dim = gate.shape[0]\n",
    "    for n in range(N):\n",
    "        trace = np.trace(gate)\n",
    "        for alpha in alphas:\n",
    "            if (2*(dim) - alpha*np.conj(trace) - np.conj(alpha)*trace <= 1/math.sqrt(2)): # check if it is in B\n",
    "                if (gate/gate[0,0] != np.eye(gate.shape[0])).all(): #check if it is in the center\n",
    "                    return True\n",
    "        gate = gate @ gate # increase the power by one\n",
    "    return False\n",
    "\n",
    "def test_close(A,B):\n",
    "    dim = len(B[:,0])\n",
    "    return np.allclose(np.abs(np.trace(np.conj(A.T)@B)),dim)\n",
    "\n",
    "def add_unique(new_elems, group_elems):\n",
    "    added = False\n",
    "    for new_elem in new_elems:\n",
    "        flag = False\n",
    "        for group_elem in group_elems:\n",
    "            if test_close(new_elem,group_elem):\n",
    "                flag = True\n",
    "                break\n",
    "        if not(flag): \n",
    "            group_elems.append(new_elem)\n",
    "            #group_elems.append(np.linalg.inv(new_elem))\n",
    "            added = True\n",
    "    return added"
   ]
  },
  {
   "cell_type": "markdown",
   "id": "c3711dca-689a-4f5d-a54d-2cd97d3ff677",
   "metadata": {},
   "source": [
    "### Iterating steps 2 and 3"
   ]
  },
  {
   "cell_type": "markdown",
   "id": "55267f31-376f-4f86-bd7e-070270ed5678",
   "metadata": {},
   "source": [
    "This code determines the span of our gate set is infinite or finite. It does this by attempting to find an element that can be reached from our gate set that is in a ball of radius 1 that is not in the center of the group. Not if this check pases, but the previous check fails that the span of $S$ is infinite, but not all of $SU(6)$, meaning it is not universal.  "
   ]
  },
  {
   "cell_type": "code",
   "execution_count": 103,
   "id": "a637a770-e3bc-4ab0-a686-2fdd62399a85",
   "metadata": {},
   "outputs": [
    {
     "name": "stdout",
     "output_type": "stream",
     "text": [
      "l =  0\n",
      "Infinite [[ 0.40824829+0.00000000e+00j  0.40824829+0.00000000e+00j\n",
      "   0.40824829+0.00000000e+00j  0.40824829+0.00000000e+00j\n",
      "   0.40824829+0.00000000e+00j  0.40824829+0.00000000e+00j]\n",
      " [ 0.40824829+0.00000000e+00j  0.20412415+3.53553391e-01j\n",
      "  -0.20412415+3.53553391e-01j -0.40824829+1.58636328e-16j\n",
      "  -0.20412415-3.53553391e-01j  0.20412415-3.53553391e-01j]\n",
      " [ 0.40824829+0.00000000e+00j -0.20412415+3.53553391e-01j\n",
      "  -0.20412415-3.53553391e-01j  0.40824829-3.39934989e-16j\n",
      "  -0.20412415+3.53553391e-01j -0.20412415-3.53553391e-01j]\n",
      " [ 0.40824829+0.00000000e+00j -0.40824829+1.58636328e-16j\n",
      "   0.40824829-3.39934989e-16j -0.40824829+5.43895982e-16j\n",
      "   0.40824829-7.25194643e-16j -0.40824829+8.83830971e-16j]\n",
      " [ 0.40824829+0.00000000e+00j -0.20412415-3.53553391e-01j\n",
      "  -0.20412415+3.53553391e-01j  0.40824829-7.25194643e-16j\n",
      "  -0.20412415-3.53553391e-01j -0.20412415+3.53553391e-01j]\n",
      " [ 0.40824829+0.00000000e+00j  0.20412415-3.53553391e-01j\n",
      "  -0.20412415-3.53553391e-01j -0.40824829+8.83830971e-16j\n",
      "  -0.20412415+3.53553391e-01j  0.20412415+3.53553391e-01j]]\n"
     ]
    },
    {
     "name": "stderr",
     "output_type": "stream",
     "text": [
      "C:\\Users\\Noah\\AppData\\Local\\Temp\\ipykernel_19564\\1977419837.py:9: RuntimeWarning: overflow encountered in matmul\n",
      "  gate = gate @ gate # increase the power by one\n",
      "C:\\Users\\Noah\\AppData\\Local\\Temp\\ipykernel_19564\\1977419837.py:9: RuntimeWarning: invalid value encountered in matmul\n",
      "  gate = gate @ gate # increase the power by one\n",
      "C:\\Users\\Noah\\AppData\\Local\\Temp\\ipykernel_19564\\1977419837.py:6: RuntimeWarning: invalid value encountered in cdouble_scalars\n",
      "  if (2*(dim) - alpha*np.conj(trace) - np.conj(alpha)*trace <= 1/math.sqrt(2)): # check if it is in B\n"
     ]
    }
   ],
   "source": [
    "# using a much smaller value for N that is required to be thourough since i want this to actually run \n",
    "N_SU6 = 100  #36398100 # upper bound for N\n",
    "alphas = [np.exp(1j*2*np.pi/6*m) for m in range(6)]\n",
    "G_s = [np.matrix(np.eye(6))]\n",
    "flag = False\n",
    "for l in range(10):# check words up to length 10 starting at l = 0\n",
    "    new_gates = []\n",
    "    for gate in G_s:\n",
    "        if ball_check(gate,N_SU6,alphas):\n",
    "            print('Infinite',gate) # if it is infinite also output the gate that is part of the ball and not the center\n",
    "            flag = True\n",
    "            break\n",
    "        for U in S:\n",
    "            new_gates.append(gate@U) # might be adding duplicate elements \n",
    "    if flag:\n",
    "        break\n",
    "    print('l = ',l)\n",
    "    add_unique(new_gates,G_s)\n",
    "            "
   ]
  },
  {
   "cell_type": "markdown",
   "id": "fc6c6c89-aefc-4bda-85d3-2fe0a45a42e0",
   "metadata": {},
   "source": [
    "# Qubit Version of the Code"
   ]
  },
  {
   "cell_type": "code",
   "execution_count": 72,
   "id": "06cdbc29-6d46-421b-bb3f-99b92db9249b",
   "metadata": {},
   "outputs": [],
   "source": [
    "zero  = np.array([[1], [0]],dtype=complex)\n",
    "one   = np.array([[0], [1]],dtype=complex)"
   ]
  },
  {
   "cell_type": "code",
   "execution_count": 88,
   "id": "db99b42b-6716-4334-ad47-66dea806a18f",
   "metadata": {},
   "outputs": [],
   "source": [
    "S_gate = np.matrix(np.diag([1,1j]))\n",
    "H = 1/math.sqrt(2)*np.matrix([[1,1],[-1,1]])\n",
    "S = [S_gate,H]"
   ]
  },
  {
   "cell_type": "code",
   "execution_count": 89,
   "id": "4761c105-fbaf-4d5f-a8d7-85d52956c4e1",
   "metadata": {},
   "outputs": [],
   "source": [
    "X = np.matrix([[0,1],[1,0]])\n",
    "Y = np.matrix([[0,-1j],[1j,0]])\n",
    "Z = np.matrix(np.diag([1,-1]))\n",
    "G = [X,Y,Z]"
   ]
  },
  {
   "cell_type": "code",
   "execution_count": 90,
   "id": "da5cf900-405d-4fdd-91fc-8d97aa4cdf98",
   "metadata": {},
   "outputs": [
    {
     "name": "stdout",
     "output_type": "stream",
     "text": [
      "The dimension of the kernal is 1\n"
     ]
    }
   ],
   "source": [
    "I = np.matrix(np.eye(len(G)))\n",
    "Ms = np.matrix(np.zeros((len(G)**2*len(S),len(G)**2),dtype=complex))\n",
    "for i,gate in enumerate(S):\n",
    "    Ms[i*len(G)**2:(i+1)*len(G)**2,:] = np.kron(I,Ad(gate,G)) - np.kron(Ad(np.conj(gate.T),G),I)\n",
    "# finding the kernal of MS\n",
    "#Ms = np.matrix(Ms)\n",
    "dim_ker = len(G)**2 - np.linalg.matrix_rank(Ms)\n",
    "#ker = np.conj(Ms.T) @ Ms\n",
    "print('The dimension of the kernal is', dim_ker)"
   ]
  },
  {
   "cell_type": "code",
   "execution_count": 92,
   "id": "04aa18ee-0d01-47eb-9598-f73900eb52f8",
   "metadata": {},
   "outputs": [
    {
     "name": "stdout",
     "output_type": "stream",
     "text": [
      "l =  0\n",
      "l =  1\n",
      "l =  2\n",
      "l =  3\n",
      "l =  4\n",
      "l =  5\n",
      "24\n"
     ]
    }
   ],
   "source": [
    "# using a much smaller value for N that is required to be thourough since i want this to actually run \n",
    "N_SU2 = 6  #36398100 # upper bound for N\n",
    "alphas = [np.exp(1j*2*np.pi/2*m) for m in range(6)]\n",
    "G_s = [np.matrix(np.eye(2))]\n",
    "flag = False\n",
    "for l in range(10):# check words up to length 10 starting at l = 0\n",
    "    new_gates = []\n",
    "    for gate in G_s:\n",
    "        if ball_check(gate,N_SU2,alphas):\n",
    "            print('Infinite',gate) # if it is infinite also output the gate that is part of the ball and not the center\n",
    "            flag = True\n",
    "            break\n",
    "        for U in S:\n",
    "            new_gates.append(gate@U) # might be adding duplicate elements \n",
    "    if flag:\n",
    "        break\n",
    "    print('l = ',l)\n",
    "    if not(add_unique(new_gates,G_s)):\n",
    "        break\n",
    "print(len(G_s))\n"
   ]
  },
  {
   "cell_type": "code",
   "execution_count": null,
   "id": "b6f5fa47-6401-4a38-8ae3-cf3f747537ed",
   "metadata": {},
   "outputs": [],
   "source": []
  },
  {
   "cell_type": "code",
   "execution_count": null,
   "id": "0b5e9300-1831-4986-b037-e8b1c69644fa",
   "metadata": {},
   "outputs": [],
   "source": []
  }
 ],
 "metadata": {
  "kernelspec": {
   "display_name": "Python 3 (ipykernel)",
   "language": "python",
   "name": "python3"
  },
  "language_info": {
   "codemirror_mode": {
    "name": "ipython",
    "version": 3
   },
   "file_extension": ".py",
   "mimetype": "text/x-python",
   "name": "python",
   "nbconvert_exporter": "python",
   "pygments_lexer": "ipython3",
   "version": "3.9.12"
  }
 },
 "nbformat": 4,
 "nbformat_minor": 5
}
