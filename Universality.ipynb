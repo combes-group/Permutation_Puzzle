{
 "cells": [
  {
   "cell_type": "code",
   "execution_count": 287,
   "id": "cbe9473e-fe69-43f5-82e6-518fbb01a7a0",
   "metadata": {},
   "outputs": [],
   "source": [
    "import numpy as np\n",
    "import scipy as sp\n",
    "import math\n",
    "import matplotlib.pyplot as plt\n",
    "import matplotlib.cm as cm\n"
   ]
  },
  {
   "cell_type": "markdown",
   "id": "009c89f0-c873-483e-9478-5657f9a81698",
   "metadata": {
    "tags": []
   },
   "source": [
    "### States"
   ]
  },
  {
   "cell_type": "code",
   "execution_count": 310,
   "id": "9c610a00-c04b-4cc1-a1dc-7da6dd6537f7",
   "metadata": {
    "tags": []
   },
   "outputs": [],
   "source": [
    "zero  = np.array([[1], [0], [0], [0], [0], [0]],dtype=complex)\n",
    "one   = np.array([[0], [1], [0], [0], [0], [0]],dtype=complex)\n",
    "two   = np.array([[0], [0], [1], [0], [0], [0]],dtype=complex)\n",
    "three = np.array([[0], [0], [0], [1], [0], [0]],dtype=complex)\n",
    "four  = np.array([[0], [0], [0], [0], [1], [0]],dtype=complex)\n",
    "five  = np.array([[0], [0], [0], [0], [0], [1]],dtype=complex)"
   ]
  },
  {
   "cell_type": "markdown",
   "id": "74d52449-ffe6-4fe1-aa13-e80962efbc72",
   "metadata": {},
   "source": [
    "### Permutations"
   ]
  },
  {
   "cell_type": "code",
   "execution_count": 311,
   "id": "4604dad3-1be5-414a-b57d-cd932ce34dbe",
   "metadata": {},
   "outputs": [],
   "source": [
    "SN = - zero@zero.T - one@one.T + five@two.T \\\n",
    "     +four@three.T+three@four.T+ two@five.T\n",
    "\n",
    "SS =  -zero@zero.T - one@one.T + five@three.T \\\n",
    "     +four@two.T+two@four.T+ three@five.T\n",
    "\n",
    "SE =  -two@two.T - three@three.T + five@one.T \\\n",
    "     +four@zero.T+zero@four.T+ one@five.T\n",
    "\n",
    "SW = - two@two.T - three@three.T + five@zero.T \\\n",
    "     +four@one.T+one@four.T+ zero@five.T\n",
    "\n",
    "D1 = zero@three.T + three@zero.T +one@two.T + two@one.T \\\n",
    "     -four@four.T - five@five.T\n",
    "\n",
    "D2 = zero@two.T + two@zero.T +one@three.T + three@one.T \\\n",
    "     -four@four.T - five@five.T\n",
    "\n",
    "rot_CW = zero@three.T + three@one.T + one@two.T + two@zero.T + four@five.T + five@four.T\n",
    "\n",
    "rot_CCW = rot_CW.T\n",
    "\n",
    "flip_V = zero@zero.T + one@one.T + three@two.T + two@three.T + four@five.T + five@four.T\n",
    "\n",
    "flip_H = zero@one.T + one@zero.T + three@three.T + two@two.T + four@five.T + five@four.T\n",
    "\n",
    "Id = zero@zero.T + one@one.T + two@two.T + \\\n",
    "     three@three.T + four@four.T + five@five.T"
   ]
  },
  {
   "cell_type": "code",
   "execution_count": 312,
   "id": "0ea089e9-3c86-4e20-af08-4ea4bc875dc4",
   "metadata": {},
   "outputs": [],
   "source": [
    "omega = np.exp(1j*2*np.pi/6)\n",
    "#S_gate = np.matrix(np.diag([omega**0, omega**1, omega**3, omega**6,omega**10,omega**15]))\n",
    "#states = [zero, one, two, three, four, five]\n",
    "H = np.zeros((6,6),dtype=complex)\n",
    "S_gate = np.zeros((6,6),dtype=complex)\n",
    "T_gate = np.zeros((6,6),dtype=complex)\n",
    "for i in range(6):\n",
    "    S_gate[i,i] = omega**(i*(i+1)/2)\n",
    "    T_gate[i,i] = omega**(i**3/6)\n",
    "    for j in range(6):\n",
    "        H[i,j] = 1/math.sqrt(6) * omega**(j*i)\n",
    "\n",
    "#ball_check(H,100,alphas)"
   ]
  },
  {
   "cell_type": "markdown",
   "id": "0f6431d1-b89c-4588-a976-726af404a557",
   "metadata": {},
   "source": [
    "### Gate Set (S)"
   ]
  },
  {
   "cell_type": "code",
   "execution_count": 313,
   "id": "36dafe5d-c71f-4d48-b89a-a69cc0f48df2",
   "metadata": {
    "tags": []
   },
   "outputs": [],
   "source": [
    "Perms = [SN,SS,SE,SN]#D1,D2,flip_H,flip_V,rot_CW,rot_CCW]\n",
    "SQRT_SWAP = [(Id + 1j*P)/np.sqrt(2) for P in Perms]\n",
    "Quarter_Swap = [np.cos(np.pi/8)*Id + np.sin(np.pi/8)*1j*P for P in Perms]\n",
    "#S = SQRT_SWAP\n",
    "S = [S_gate,H]\n",
    "\n",
    "#S.append(S_gate)"
   ]
  },
  {
   "cell_type": "markdown",
   "id": "c73b54dc-3ec3-4a4a-bc7d-b2feee21a5b1",
   "metadata": {},
   "source": [
    "## Finding Adjoint representation in SO(35)"
   ]
  },
  {
   "cell_type": "markdown",
   "id": "a442d602-7032-4972-99e1-4c8327d07376",
   "metadata": {},
   "source": [
    "Generators of $\\mathfrak{s u}(6)$ are found in mathematica via the approach found in https://mathematica.stackexchange.com/questions/159014/calculate-representations-of-sun-generators\n",
    "\n"
   ]
  },
  {
   "cell_type": "code",
   "execution_count": 314,
   "id": "7f461f42-8c7d-415a-bca7-b46bd9466664",
   "metadata": {},
   "outputs": [],
   "source": [
    "G = []\n",
    "# generate all the nondiagonal matricies\n",
    "for i in range(6):\n",
    "    for j in range(1,6-i):\n",
    "        a = np.matrix(np.zeros((6,6),dtype=complex))\n",
    "        b =  np.matrix(np.zeros((6,6)))\n",
    "        a[i,i+j] = 1j/math.sqrt(2)\n",
    "        a[i+j,i] = 1j/math.sqrt(2)\n",
    "        b[i,i+j] = -1/math.sqrt(2)\n",
    "        b[i+j,i] = 1/math.sqrt(2)\n",
    "        G.append(a)\n",
    "        G.append(b)\n",
    "# generate the remaining diagonal generators\n",
    "G.append(np.matrix(np.diag([1j/math.sqrt(2),-1j/math.sqrt(2),0,0,0,0])))\n",
    "G.append(np.matrix(np.diag([1j/math.sqrt(6),1j/math.sqrt(6),-1j*math.sqrt(2/3),0,0,0])))\n",
    "G.append(np.matrix(np.diag([1j/(2*math.sqrt(3)),1j/(2*math.sqrt(3)),1j/(2*math.sqrt(3)),-1j*math.sqrt(3)/2,0,0])))\n",
    "G.append(np.matrix(np.diag([1j/(2*math.sqrt(5)),1j/(2*math.sqrt(5)),1j/(2*math.sqrt(5)),1j/(2*math.sqrt(5)),-2j/math.sqrt(5),0])))\n",
    "G.append(np.matrix(np.diag([1j/(math.sqrt(30)),1j/(math.sqrt(30)),1j/(math.sqrt(30)),1j/(math.sqrt(30)),1j/(math.sqrt(30)),-1j*math.sqrt(5/6)])))"
   ]
  },
  {
   "cell_type": "code",
   "execution_count": null,
   "id": "0bcfa3b4-e27a-45f1-a3f4-aba951cf4f5c",
   "metadata": {},
   "outputs": [],
   "source": []
  },
  {
   "cell_type": "markdown",
   "id": "6aca5ed5-0a8d-4390-98ef-48c1175a4987",
   "metadata": {},
   "source": [
    "### Using the generators of the lie algebra to generate the adjoint representation of the matricies in our gate set"
   ]
  },
  {
   "cell_type": "code",
   "execution_count": 315,
   "id": "16a04f3f-c74f-4936-a232-c7f3b697aefa",
   "metadata": {},
   "outputs": [],
   "source": [
    "# generate the adjoint of an operator in SU(d) in SO(d^2-1)\n",
    "def Ad(U,G):\n",
    "    d = len(G)\n",
    "    Ad_U = np.matrix(np.zeros((d,d),dtype=complex))\n",
    "    for i in range(d):\n",
    "        for j  in range(d):\n",
    "            Ad_U[i,j] = -1/2 * np.trace(G[i]*U*G[j]*np.linalg.inv(U))\n",
    "    return Ad_U"
   ]
  },
  {
   "cell_type": "markdown",
   "id": "2bb30ff3-12f3-4945-b443-df5501a7d342",
   "metadata": {},
   "source": [
    "### Step 1 of the algorithm,"
   ]
  },
  {
   "cell_type": "markdown",
   "id": "6542bff0-cd15-404d-a03a-707c72ca2a9c",
   "metadata": {},
   "source": [
    "We need this code to print 1, which is the dimension of the kernal of the matrix $M_S$. If this is not onedimensional then it means that ther exists a set of matricies $A$ in the adjoint representation of $SU(6)$ that commute with every element of our gate set. This means that even though our set might be infinite we do not have a universal gate set. "
   ]
  },
  {
   "cell_type": "code",
   "execution_count": 316,
   "id": "f27c16ab-1542-4dbe-8a3a-c7552afe3339",
   "metadata": {
    "tags": []
   },
   "outputs": [
    {
     "name": "stdout",
     "output_type": "stream",
     "text": [
      "The dimension of the kernal is 1\n"
     ]
    }
   ],
   "source": [
    "I = np.matrix(np.eye(len(G)))\n",
    "Ms = np.matrix(np.zeros((len(G)**2*len(S),len(G)**2),dtype=complex))\n",
    "for i,gate in enumerate(S):\n",
    "    Ms[i*len(G)**2:(i+1)*len(G)**2,:] = np.kron(I,Ad(gate,G)) - np.kron(Ad(np.conj(gate.T),G),I)\n",
    "# finding the kernal of MS\n",
    "#Ms = np.matrix(Ms)\n",
    "dim_ker = len(G)**2 - np.linalg.matrix_rank(Ms)\n",
    "#ker = np.conj(Ms.T) @ Ms\n",
    "print('The dimension of the kernal is', dim_ker)"
   ]
  },
  {
   "cell_type": "markdown",
   "id": "37fc0fc4-b583-4ec2-876c-960d49316426",
   "metadata": {},
   "source": [
    "### Step 2 of the algorithm"
   ]
  },
  {
   "cell_type": "code",
   "execution_count": 317,
   "id": "ed21ff49-1be8-4a89-a2ca-3e7e6c7cfabb",
   "metadata": {},
   "outputs": [],
   "source": [
    "def ball_check(gate,N,alphas):\n",
    "    dim = gate.shape[0]\n",
    "    nth_gate = gate\n",
    "    for n in range(N):\n",
    "        trace = np.trace(nth_gate)\n",
    "        for alpha in alphas:\n",
    "            if (2*(dim) - alpha*np.conj(trace) - np.conj(alpha)*trace <= 1/2): # check if it is in B\n",
    "                if not np.allclose(nth_gate/nth_gate[0,0],np.eye(dim)): #check if it is in the center\n",
    "                    print(nth_gate)\n",
    "                    return True\n",
    "        nth_gate = nth_gate @ gate # increase the power by one\n",
    "    return False\n",
    "\n",
    "# def ball_check_eigs(gate,N):\n",
    "#     dim = gate.shape[0]\n",
    "#     eig,_ = np.linalg.eig(gate) \n",
    "#     for n in range(N):\n",
    "#         for m in range(dim):\n",
    "#             theta = 2*np.pi*m/dim\n",
    "#             eig_sum = 0\n",
    "#             for i in range(dim):\n",
    "#                 phi = np.angle(eig[i])\n",
    "#                 eig_sum += np.sin((phi-theta)/2)**2\n",
    "            \n",
    "#             if eig_sum < 1/8:\n",
    "#                 print('here')\n",
    "#                 if not np.allclose(eig,eig[0]*np.ones(dim)): # make sure all the eigenvalues arent the same\n",
    "#                     return True\n",
    "#     return False\n",
    "\n",
    "def test_close(A,B):\n",
    "    dim = len(B[:,0])\n",
    "    return np.allclose(np.abs(np.trace(np.conj(A.T)@B)),dim)\n",
    "\n",
    "def add_unique(new_elems, group_elems):\n",
    "    added = False\n",
    "    for new_elem in new_elems:\n",
    "        flag = False\n",
    "        for group_elem in group_elems:\n",
    "            if test_close(new_elem,group_elem):\n",
    "                flag = True\n",
    "                break\n",
    "        if not(flag): \n",
    "            group_elems.append(new_elem)\n",
    "            #group_elems.append(np.linalg.inv(new_elem))\n",
    "            added = True\n",
    "    return added"
   ]
  },
  {
   "cell_type": "markdown",
   "id": "c3711dca-689a-4f5d-a54d-2cd97d3ff677",
   "metadata": {},
   "source": [
    "### Iterating steps 2 and 3"
   ]
  },
  {
   "cell_type": "markdown",
   "id": "55267f31-376f-4f86-bd7e-070270ed5678",
   "metadata": {},
   "source": [
    "This code determines the span of our gate set is infinite or finite. It does this by attempting to find an element that can be reached from our gate set that is in a ball of radius 1 that is not in the center of the group. Not if this check pases, but the previous check fails that the span of $S$ is infinite, but not all of $SU(6)$, meaning it is not universal.  "
   ]
  },
  {
   "cell_type": "code",
   "execution_count": 318,
   "id": "a637a770-e3bc-4ab0-a686-2fdd62399a85",
   "metadata": {},
   "outputs": [
    {
     "name": "stdout",
     "output_type": "stream",
     "text": [
      "l =  0\n",
      "l =  1\n",
      "l =  2\n",
      "l =  3\n",
      "l =  4\n",
      "[[-4.39671572e-01-8.96358760e-01j  2.59263650e-03-8.38961889e-03j\n",
      "   3.38328557e-02-1.98285433e-02j  1.12410081e-14-3.49720253e-15j\n",
      "   2.55594381e-04+3.92143842e-02j  8.56194134e-03-1.94952038e-03j]\n",
      " [ 5.96930484e-03+6.44009852e-03j -5.24046257e-01-8.40772171e-01j\n",
      "   3.33066907e-16+9.71445147e-16j -3.40884501e-02-1.93858409e-02j\n",
      "  -9.29366258e-02+5.75361096e-02j  6.22075953e-02+3.23315832e-02j]\n",
      " [ 3.38328557e-02-1.98285433e-02j  3.46944695e-16-8.88178420e-16j\n",
      "  -5.24046257e-01-8.40772171e-01j  8.56194134e-03-1.94952038e-03j\n",
      "  -3.10382526e-03-7.00391495e-02j  9.29366258e-02-5.75361096e-02j]\n",
      " [ 1.11299858e-14-3.71924713e-15j  2.55594381e-04+3.92143842e-02j\n",
      "   8.56194134e-03-1.94952038e-03j -4.39671572e-01-8.96358760e-01j\n",
      "   2.59263650e-03-8.38961889e-03j  3.38328557e-02-1.98285433e-02j]\n",
      " [-3.40884501e-02-1.93858409e-02j -9.29366258e-02+5.75361096e-02j\n",
      "   6.22075953e-02+3.23315832e-02j  5.96930484e-03+6.44009852e-03j\n",
      "  -5.24046257e-01-8.40772171e-01j  6.38378239e-16+5.82867088e-16j]\n",
      " [ 8.56194134e-03-1.94952038e-03j -3.10382526e-03-7.00391495e-02j\n",
      "   9.29366258e-02-5.75361096e-02j  3.38328557e-02-1.98285433e-02j\n",
      "   4.57966998e-16-5.55111512e-16j -5.24046257e-01-8.40772171e-01j]]\n",
      "Infinite [[-2.06535559e-16+3.35137555e-16j -1.66666667e-01+2.88675135e-01j\n",
      "   5.00000000e-01+2.88675135e-01j -1.66666667e-01-2.88675135e-01j\n",
      "   5.00000000e-01-2.88675135e-01j  3.33333333e-01-1.66533454e-16j]\n",
      " [-1.66666667e-01-2.88675135e-01j -5.00000000e-01+2.88675135e-01j\n",
      "   3.33333333e-01-6.10622664e-16j  1.02649336e-15+5.77350269e-01j\n",
      "  -1.66666667e-01+2.88675135e-01j -4.99600361e-16-1.30451205e-15j]\n",
      " [ 5.00000000e-01+2.88675135e-01j -1.66666667e-01-2.88675135e-01j\n",
      "   5.00000000e-01-2.88675135e-01j  3.33333333e-01-4.02865095e-16j\n",
      "  -8.88178420e-16+1.11022302e-15j -1.66666667e-01+2.88675135e-01j]\n",
      " [-1.66666667e-01-2.88675135e-01j  5.00000000e-01-2.88675135e-01j\n",
      "   3.33333333e-01-6.93889390e-16j -8.32849770e-16+1.01729519e-15j\n",
      "  -1.66666667e-01+2.88675135e-01j  5.00000000e-01+2.88675135e-01j]\n",
      " [ 2.68310838e-15+5.77350269e-01j -1.66666667e-01+2.88675135e-01j\n",
      "  -4.71844785e-16-1.24900090e-15j -1.66666667e-01-2.88675135e-01j\n",
      "  -5.00000000e-01+2.88675135e-01j  3.33333333e-01-2.27595720e-15j]\n",
      " [ 3.33333333e-01-1.62635087e-15j -8.32667268e-16+1.11022302e-15j\n",
      "  -1.66666667e-01+2.88675135e-01j  5.00000000e-01+2.88675135e-01j\n",
      "  -1.66666667e-01-2.88675135e-01j  5.00000000e-01-2.88675135e-01j]]\n"
     ]
    }
   ],
   "source": [
    "# using a much smaller value for N that is required to be thourough since i want this to actually run \n",
    "N_SU6 = 100  #36398100 # upper bound for N\n",
    "alphas = [np.exp(1j*2*np.pi/6*m) for m in range(6)]\n",
    "G_s = [np.matrix(np.eye(6))]\n",
    "flag = False\n",
    "for l in range(10):# check words up to length 10 starting at l = 0\n",
    "    new_gates = []\n",
    "    for gate in G_s:\n",
    "        flag = ball_check(gate,N_SU6,alphas)#,alphas)\n",
    "        if flag:\n",
    "            print('Infinite',gate) # if it is infinite also output the gate that is part of the ball and not the center\n",
    "            flag = True\n",
    "            break\n",
    "        for U in S:\n",
    "            new_gates.append(gate@U) # might be adding duplicate elements \n",
    "    if flag:\n",
    "        break\n",
    "    print('l = ',l)\n",
    "    add_unique(new_gates,G_s)\n"
   ]
  },
  {
   "cell_type": "markdown",
   "id": "fc6c6c89-aefc-4bda-85d3-2fe0a45a42e0",
   "metadata": {},
   "source": [
    "# Qubit Version of the Code"
   ]
  },
  {
   "cell_type": "code",
   "execution_count": 297,
   "id": "06cdbc29-6d46-421b-bb3f-99b92db9249b",
   "metadata": {},
   "outputs": [],
   "source": [
    "zero  = np.array([[1], [0]],dtype=complex)\n",
    "one   = np.array([[0], [1]],dtype=complex)"
   ]
  },
  {
   "cell_type": "code",
   "execution_count": 298,
   "id": "db99b42b-6716-4334-ad47-66dea806a18f",
   "metadata": {},
   "outputs": [],
   "source": [
    "S_gate = np.matrix(np.diag([1,1j]))\n",
    "T_gate = np.matrix(np.diag([1,np.exp(1j*np.pi/4)]))\n",
    "H = 1/math.sqrt(2)*np.matrix([[1,1],[1,-1]])\n",
    "S = [S_gate,H]"
   ]
  },
  {
   "cell_type": "code",
   "execution_count": 299,
   "id": "4761c105-fbaf-4d5f-a8d7-85d52956c4e1",
   "metadata": {},
   "outputs": [],
   "source": [
    "X = np.matrix([[0,1],[1,0]])\n",
    "Y = np.matrix([[0,-1j],[1j,0]])\n",
    "Z = np.matrix(np.diag([1,-1]))\n",
    "G = [X,Y,Z]"
   ]
  },
  {
   "cell_type": "code",
   "execution_count": 300,
   "id": "da5cf900-405d-4fdd-91fc-8d97aa4cdf98",
   "metadata": {},
   "outputs": [
    {
     "name": "stdout",
     "output_type": "stream",
     "text": [
      "The dimension of the kernal is 1\n"
     ]
    }
   ],
   "source": [
    "I = np.matrix(np.eye(len(G)))\n",
    "Ms = np.matrix(np.zeros((len(G)**2*len(S),len(G)**2),dtype=complex))\n",
    "for i,gate in enumerate(S):\n",
    "    Ms[i*len(G)**2:(i+1)*len(G)**2,:] = np.kron(I,Ad(gate,G)) - np.kron(Ad(np.conj(gate.T),G),I)\n",
    "# finding the kernal of MS\n",
    "#Ms = np.matrix(Ms)\n",
    "dim_ker = len(G)**2 - np.linalg.matrix_rank(Ms)\n",
    "#ker = np.conj(Ms.T) @ Ms\n",
    "print('The dimension of the kernal is', dim_ker)"
   ]
  },
  {
   "cell_type": "code",
   "execution_count": 301,
   "id": "04aa18ee-0d01-47eb-9598-f73900eb52f8",
   "metadata": {},
   "outputs": [
    {
     "name": "stdout",
     "output_type": "stream",
     "text": [
      "l =  0\n",
      "l =  1\n",
      "l =  2\n",
      "l =  3\n",
      "l =  4\n",
      "l =  5\n",
      "l =  6\n",
      "24\n"
     ]
    }
   ],
   "source": [
    "# using a much smaller value for N that is required to be thourough since i want this to actually run \n",
    "N_SU2 = 6  #36398100 # upper bound for N\n",
    "alphas = [np.exp(1j*2*np.pi/2*m) for m in range(6)]\n",
    "G_s = [np.matrix(np.eye(2))]\n",
    "flag = False\n",
    "for l in range(10):# check words up to length 10 starting at l = 0\n",
    "    new_gates = []\n",
    "    for gate in G_s:\n",
    "        if ball_check(gate,N_SU2,alphas):\n",
    "            print('Infinite',gate) # if it is infinite also output the gate that is part of the ball and not the center\n",
    "            flag = True\n",
    "            break\n",
    "        for U in S:\n",
    "            new_gates.append(gate@U) # might be adding duplicate elements \n",
    "    if flag:\n",
    "        break\n",
    "    print('l = ',l)\n",
    "    if not(add_unique(new_gates,G_s)):\n",
    "        break\n",
    "print(len(G_s))\n"
   ]
  },
  {
   "cell_type": "markdown",
   "id": "4ced1510-dff9-4407-9215-6f56db75df2e",
   "metadata": {},
   "source": [
    "## Qutrit Version"
   ]
  },
  {
   "cell_type": "code",
   "execution_count": 335,
   "id": "0b5e9300-1831-4986-b037-e8b1c69644fa",
   "metadata": {},
   "outputs": [],
   "source": [
    "zero  = np.array([[1], [0],[0]],dtype=complex)\n",
    "one   = np.array([[0], [1],[0]],dtype=complex)\n",
    "two   = np.array([[0], [0],[1]],dtype=complex)"
   ]
  },
  {
   "cell_type": "code",
   "execution_count": 336,
   "id": "38618d57-3ccf-4ea7-a0c0-5f35a2ba49a6",
   "metadata": {},
   "outputs": [],
   "source": [
    "omega = np.exp(1j*2*np.pi/3)\n",
    "H = np.zeros((3,3),dtype=complex)\n",
    "S_gate = np.zeros((3,3),dtype=complex)\n",
    "for i in range(3):\n",
    "    S_gate[i,i] = omega**(i*(i+1)/2)\n",
    "    for j in range(3):\n",
    "        H[i,j] = 1/math.sqrt(3) * omega**(j*i)\n",
    "T_gate = np.diag([np.exp(1j*2*np.pi/3),1,np.exp(-1j*2*np.pi/3)])"
   ]
  },
  {
   "cell_type": "code",
   "execution_count": 337,
   "id": "7596596a-4c09-46b3-8dfb-8508f425f474",
   "metadata": {},
   "outputs": [],
   "source": [
    "S = [H,S_gate]"
   ]
  },
  {
   "cell_type": "code",
   "execution_count": 338,
   "id": "e1cbf9c7-403f-4eb4-acf1-c1683566d32f",
   "metadata": {},
   "outputs": [],
   "source": [
    "G = []\n",
    "# generate all the nondiagonal matricies\n",
    "for i in range(3):\n",
    "    for j in range(1,3-i):\n",
    "        a = np.matrix(np.zeros((3,3),dtype=complex))\n",
    "        b =  np.matrix(np.zeros((3,3)))\n",
    "        a[i,i+j] = 1j/math.sqrt(2)\n",
    "        a[i+j,i] = 1j/math.sqrt(2)\n",
    "        b[i,i+j] = -1/math.sqrt(2)\n",
    "        b[i+j,i] = 1/math.sqrt(2)\n",
    "        G.append(a)\n",
    "        G.append(b)\n",
    "# generate the remaining diagonal generators\n",
    "G.append(np.matrix(np.diag([1j/math.sqrt(2),-1j/math.sqrt(2),0])))\n",
    "G.append(np.matrix(np.diag([1j/math.sqrt(6),1j/math.sqrt(6),-1j*math.sqrt(2/3)])))\n"
   ]
  },
  {
   "cell_type": "code",
   "execution_count": 339,
   "id": "b80f8f9b-12f8-4864-8840-d7ed8377763a",
   "metadata": {},
   "outputs": [
    {
     "name": "stdout",
     "output_type": "stream",
     "text": [
      "The dimension of the kernal is 1\n"
     ]
    }
   ],
   "source": [
    "I = np.matrix(np.eye(len(G)))\n",
    "Ms = np.matrix(np.zeros((len(G)**2*len(S),len(G)**2),dtype=complex))\n",
    "for i,gate in enumerate(S):\n",
    "    Ms[i*len(G)**2:(i+1)*len(G)**2,:] = np.kron(I,Ad(gate,G)) - np.kron(Ad(np.conj(gate.T),G),I)\n",
    "# finding the kernal of MS\n",
    "#Ms = np.matrix(Ms)\n",
    "dim_ker = len(G)**2 - np.linalg.matrix_rank(Ms)\n",
    "#ker = np.conj(Ms.T) @ Ms\n",
    "print('The dimension of the kernal is', dim_ker)"
   ]
  },
  {
   "cell_type": "code",
   "execution_count": 346,
   "id": "77be5b4b-d8db-43c9-beca-c4580dd55d99",
   "metadata": {},
   "outputs": [
    {
     "name": "stdout",
     "output_type": "stream",
     "text": [
      "l =  0\n",
      "l =  1\n",
      "l =  2\n",
      "l =  3\n",
      "l =  4\n",
      "l =  5\n",
      "l =  6\n",
      "l =  7\n",
      "l =  8\n",
      "l =  9\n",
      "202 expected number is 216\n"
     ]
    }
   ],
   "source": [
    "# using a much smaller value for N that is required to be thourough since i want this to actually run \n",
    "N_SU3 = 30  #36398100 # upper bound for N\n",
    "alphas = [np.exp(1j*2*np.pi/3*m) for m in range(6)]\n",
    "G_s = [np.matrix(np.eye(3))]\n",
    "flag = False\n",
    "for l in range(10):# check words up to length 10 starting at l = 0\n",
    "    new_gates = []\n",
    "    for gate in G_s:\n",
    "        if ball_check(gate,N_SU3,alphas):\n",
    "            print('Infinite',gate) # if it is infinite also output the gate that is part of the ball and not the center\n",
    "            flag = True\n",
    "            break\n",
    "        for U in S:\n",
    "            new_gates.append(gate@U) # might be adding duplicate elements \n",
    "    if flag:\n",
    "        break\n",
    "    print('l = ',l)\n",
    "    if not(add_unique(new_gates,G_s)):\n",
    "        break\n",
    "print(len(G_s),'expected number is', 3**3*(3**2-1))\n"
   ]
  },
  {
   "cell_type": "code",
   "execution_count": 334,
   "id": "1f675aa2-3424-4fe5-bec3-6acf23186bf8",
   "metadata": {},
   "outputs": [
    {
     "data": {
      "text/plain": [
       "10016"
      ]
     },
     "execution_count": 334,
     "metadata": {},
     "output_type": "execute_result"
    }
   ],
   "source": []
  },
  {
   "cell_type": "code",
   "execution_count": null,
   "id": "cd547320-c980-4271-bba7-63425f3c446a",
   "metadata": {},
   "outputs": [],
   "source": []
  }
 ],
 "metadata": {
  "kernelspec": {
   "display_name": "Python 3 (ipykernel)",
   "language": "python",
   "name": "python3"
  },
  "language_info": {
   "codemirror_mode": {
    "name": "ipython",
    "version": 3
   },
   "file_extension": ".py",
   "mimetype": "text/x-python",
   "name": "python",
   "nbconvert_exporter": "python",
   "pygments_lexer": "ipython3",
   "version": "3.9.7"
  }
 },
 "nbformat": 4,
 "nbformat_minor": 5
}
