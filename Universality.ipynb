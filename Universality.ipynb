{
 "cells": [
  {
   "cell_type": "code",
   "execution_count": 1,
   "id": "cbe9473e-fe69-43f5-82e6-518fbb01a7a0",
   "metadata": {},
   "outputs": [],
   "source": [
    "import numpy as np\n",
    "import scipy as sp\n",
    "import math\n",
    "import matplotlib.pyplot as plt\n",
    "import matplotlib.cm as cm\n"
   ]
  },
  {
   "cell_type": "markdown",
   "id": "009c89f0-c873-483e-9478-5657f9a81698",
   "metadata": {
    "tags": []
   },
   "source": [
    "### States"
   ]
  },
  {
   "cell_type": "code",
   "execution_count": 247,
   "id": "9c610a00-c04b-4cc1-a1dc-7da6dd6537f7",
   "metadata": {
    "tags": []
   },
   "outputs": [],
   "source": [
    "zero  = np.array([[1], [0], [0], [0], [0], [0]],dtype=complex)\n",
    "one   = np.array([[0], [1], [0], [0], [0], [0]],dtype=complex)\n",
    "two   = np.array([[0], [0], [1], [0], [0], [0]],dtype=complex)\n",
    "three = np.array([[0], [0], [0], [1], [0], [0]],dtype=complex)\n",
    "four  = np.array([[0], [0], [0], [0], [1], [0]],dtype=complex)\n",
    "five  = np.array([[0], [0], [0], [0], [0], [1]],dtype=complex)"
   ]
  },
  {
   "cell_type": "markdown",
   "id": "74d52449-ffe6-4fe1-aa13-e80962efbc72",
   "metadata": {},
   "source": [
    "### Permutations"
   ]
  },
  {
   "cell_type": "code",
   "execution_count": 248,
   "id": "4604dad3-1be5-414a-b57d-cd932ce34dbe",
   "metadata": {},
   "outputs": [],
   "source": [
    "SN = - zero@zero.T - one@one.T + five@two.T \\\n",
    "     +four@three.T+three@four.T+ two@five.T\n",
    "\n",
    "SS =  -zero@zero.T - one@one.T + five@three.T \\\n",
    "     +four@two.T+two@four.T+ three@five.T\n",
    "\n",
    "SE =  -two@two.T - three@three.T + five@one.T \\\n",
    "     +four@zero.T+zero@four.T+ one@five.T\n",
    "\n",
    "SW = - two@two.T - three@three.T + five@zero.T \\\n",
    "     +four@one.T+one@four.T+ zero@five.T\n",
    "\n",
    "D1 = zero@three.T + three@zero.T +one@two.T + two@one.T \\\n",
    "     -four@four.T - five@five.T\n",
    "\n",
    "D2 = zero@two.T + two@zero.T +one@three.T + three@one.T \\\n",
    "     -four@four.T - five@five.T\n",
    "\n",
    "rot_CW = zero@three.T + three@one.T + one@two.T + two@zero.T + four@five.T + five@four.T\n",
    "\n",
    "rot_CCW = rot_CW.T\n",
    "\n",
    "flip_V = zero@zero.T + one@one.T + three@two.T + two@three.T + four@five.T + five@four.T\n",
    "\n",
    "flip_H = zero@one.T + one@zero.T + three@three.T + two@two.T + four@five.T + five@four.T\n",
    "\n",
    "Id = zero@zero.T + one@one.T + two@two.T + \\\n",
    "     three@three.T + four@four.T + five@five.T"
   ]
  },
  {
   "cell_type": "code",
   "execution_count": 270,
   "id": "0ea089e9-3c86-4e20-af08-4ea4bc875dc4",
   "metadata": {},
   "outputs": [],
   "source": [
    "omega = np.exp(1j*2*np.pi/6)\n",
    "#S_gate = np.matrix(np.diag([omega**0, omega**1, omega**3, omega**6,omega**10,omega**15]))\n",
    "#states = [zero, one, two, three, four, five]\n",
    "H = np.zeros((6,6),dtype=complex)\n",
    "S_gate = np.zeros((6,6),dtype=complex)\n",
    "T_gate = np.zeros((6,6),dtype=complex)\n",
    "for i in range(6):\n",
    "    S_gate[i,i] = omega**(i*(i+1)/2)\n",
    "    T_gate[i,i] = omega**(i**3/6)\n",
    "    for j in range(6):\n",
    "        H[i,j] = 1/math.sqrt(6) * omega**(j*i)\n",
    "\n",
    "#ball_check(H,100,alphas)"
   ]
  },
  {
   "cell_type": "markdown",
   "id": "0f6431d1-b89c-4588-a976-726af404a557",
   "metadata": {},
   "source": [
    "### Gate Set (S)"
   ]
  },
  {
   "cell_type": "code",
   "execution_count": 271,
   "id": "36dafe5d-c71f-4d48-b89a-a69cc0f48df2",
   "metadata": {
    "tags": []
   },
   "outputs": [],
   "source": [
    "Perms = [SN,SS,SE,SN]#D1,D2,flip_H,flip_V,rot_CW,rot_CCW]\n",
    "SQRT_SWAP = [(Id + 1j*P)/np.sqrt(2) for P in Perms]\n",
    "Quarter_Swap = [np.cos(np.pi/8)*Id + np.sin(np.pi/8)*1j*P for P in Perms]\n",
    "S = [H,T_gate]\n",
    "\n",
    "#S.append(S_gate)"
   ]
  },
  {
   "cell_type": "markdown",
   "id": "c73b54dc-3ec3-4a4a-bc7d-b2feee21a5b1",
   "metadata": {},
   "source": [
    "## Finding Adjoint representation in SO(35)"
   ]
  },
  {
   "cell_type": "markdown",
   "id": "a442d602-7032-4972-99e1-4c8327d07376",
   "metadata": {},
   "source": [
    "Generators of $\\mathfrak{s u}(6)$ are found in mathematica via the approach found in https://mathematica.stackexchange.com/questions/159014/calculate-representations-of-sun-generators\n",
    "\n"
   ]
  },
  {
   "cell_type": "code",
   "execution_count": 272,
   "id": "7f461f42-8c7d-415a-bca7-b46bd9466664",
   "metadata": {},
   "outputs": [],
   "source": [
    "G = []\n",
    "# generate all the nondiagonal matricies\n",
    "for i in range(6):\n",
    "    for j in range(1,6-i):\n",
    "        a = np.matrix(np.zeros((6,6),dtype=complex))\n",
    "        b =  np.matrix(np.zeros((6,6)))\n",
    "        a[i,i+j] = 1j/math.sqrt(2)\n",
    "        a[i+j,i] = 1j/math.sqrt(2)\n",
    "        b[i,i+j] = -1/math.sqrt(2)\n",
    "        b[i+j,i] = 1/math.sqrt(2)\n",
    "        G.append(a)\n",
    "        G.append(b)\n",
    "# generate the remaining diagonal generators\n",
    "G.append(np.matrix(np.diag([1j/math.sqrt(2),-1j/math.sqrt(2),0,0,0,0])))\n",
    "G.append(np.matrix(np.diag([1j/math.sqrt(6),1j/math.sqrt(6),-1j*math.sqrt(2/3),0,0,0])))\n",
    "G.append(np.matrix(np.diag([1j/(2*math.sqrt(3)),1j/(2*math.sqrt(3)),1j/(2*math.sqrt(3)),-1j*math.sqrt(3)/2,0,0])))\n",
    "G.append(np.matrix(np.diag([1j/(2*math.sqrt(5)),1j/(2*math.sqrt(5)),1j/(2*math.sqrt(5)),1j/(2*math.sqrt(5)),-2j/math.sqrt(5),0])))\n",
    "G.append(np.matrix(np.diag([1j/(math.sqrt(30)),1j/(math.sqrt(30)),1j/(math.sqrt(30)),1j/(math.sqrt(30)),1j/(math.sqrt(30)),-1j*math.sqrt(5/6)])))"
   ]
  },
  {
   "cell_type": "code",
   "execution_count": null,
   "id": "0bcfa3b4-e27a-45f1-a3f4-aba951cf4f5c",
   "metadata": {},
   "outputs": [],
   "source": []
  },
  {
   "cell_type": "markdown",
   "id": "6aca5ed5-0a8d-4390-98ef-48c1175a4987",
   "metadata": {},
   "source": [
    "### Using the generators of the lie algebra to generate the adjoint representation of the matricies in our gate set"
   ]
  },
  {
   "cell_type": "code",
   "execution_count": 273,
   "id": "16a04f3f-c74f-4936-a232-c7f3b697aefa",
   "metadata": {},
   "outputs": [],
   "source": [
    "# generate the adjoint of an operator in SU(d) in SO(d^2-1)\n",
    "def Ad(U,G):\n",
    "    d = len(G)\n",
    "    Ad_U = np.matrix(np.zeros((d,d),dtype=complex))\n",
    "    for i in range(d):\n",
    "        for j  in range(d):\n",
    "            Ad_U[i,j] = -1/2 * np.trace(G[i]*U*G[j]*np.linalg.inv(U))\n",
    "    return Ad_U"
   ]
  },
  {
   "cell_type": "markdown",
   "id": "2bb30ff3-12f3-4945-b443-df5501a7d342",
   "metadata": {},
   "source": [
    "### Step 1 of the algorithm,"
   ]
  },
  {
   "cell_type": "markdown",
   "id": "6542bff0-cd15-404d-a03a-707c72ca2a9c",
   "metadata": {},
   "source": [
    "We need this code to print 1, which is the dimension of the kernal of the matrix $M_S$. If this is not onedimensional then it means that ther exists a set of matricies $A$ in the adjoint representation of $SU(6)$ that commute with every element of our gate set. This means that even though our set might be infinite we do not have a universal gate set. "
   ]
  },
  {
   "cell_type": "code",
   "execution_count": 274,
   "id": "f27c16ab-1542-4dbe-8a3a-c7552afe3339",
   "metadata": {
    "tags": []
   },
   "outputs": [
    {
     "name": "stdout",
     "output_type": "stream",
     "text": [
      "The dimension of the kernal is 1\n"
     ]
    }
   ],
   "source": [
    "I = np.matrix(np.eye(len(G)))\n",
    "Ms = np.matrix(np.zeros((len(G)**2*len(S),len(G)**2),dtype=complex))\n",
    "for i,gate in enumerate(S):\n",
    "    Ms[i*len(G)**2:(i+1)*len(G)**2,:] = np.kron(I,Ad(gate,G)) - np.kron(Ad(np.conj(gate.T),G),I)\n",
    "# finding the kernal of MS\n",
    "#Ms = np.matrix(Ms)\n",
    "dim_ker = len(G)**2 - np.linalg.matrix_rank(Ms)\n",
    "#ker = np.conj(Ms.T) @ Ms\n",
    "print('The dimension of the kernal is', dim_ker)"
   ]
  },
  {
   "cell_type": "markdown",
   "id": "37fc0fc4-b583-4ec2-876c-960d49316426",
   "metadata": {},
   "source": [
    "### Step 2 of the algorithm"
   ]
  },
  {
   "cell_type": "code",
   "execution_count": 275,
   "id": "ed21ff49-1be8-4a89-a2ca-3e7e6c7cfabb",
   "metadata": {},
   "outputs": [],
   "source": [
    "def ball_check(gate,N,alphas):\n",
    "    dim = gate.shape[0]\n",
    "    nth_gate = gate\n",
    "    for n in range(N):\n",
    "        trace = np.trace(nth_gate)\n",
    "        for alpha in alphas:\n",
    "            if (2*(dim) - alpha*np.conj(trace) - np.conj(alpha)*trace <= 1/2): # check if it is in B\n",
    "                if not np.allclose(nth_gate/nth_gate[0,0],np.eye(dim)): #check if it is in the center\n",
    "                    print(nth_gate)\n",
    "                    return True\n",
    "        nth_gate = nth_gate @ gate # increase the power by one\n",
    "    return False\n",
    "\n",
    "# def ball_check_eigs(gate,N):\n",
    "#     dim = gate.shape[0]\n",
    "#     eig,_ = np.linalg.eig(gate) \n",
    "#     for n in range(N):\n",
    "#         for m in range(dim):\n",
    "#             theta = 2*np.pi*m/dim\n",
    "#             eig_sum = 0\n",
    "#             for i in range(dim):\n",
    "#                 phi = np.angle(eig[i])\n",
    "#                 eig_sum += np.sin((phi-theta)/2)**2\n",
    "            \n",
    "#             if eig_sum < 1/8:\n",
    "#                 print('here')\n",
    "#                 if not np.allclose(eig,eig[0]*np.ones(dim)): # make sure all the eigenvalues arent the same\n",
    "#                     return True\n",
    "#     return False\n",
    "\n",
    "def test_close(A,B):\n",
    "    dim = len(B[:,0])\n",
    "    return np.allclose(np.abs(np.trace(np.conj(A.T)@B)),dim)\n",
    "\n",
    "def add_unique(new_elems, group_elems):\n",
    "    added = False\n",
    "    for new_elem in new_elems:\n",
    "        flag = False\n",
    "        for group_elem in group_elems:\n",
    "            if test_close(new_elem,group_elem):\n",
    "                flag = True\n",
    "                break\n",
    "        if not(flag): \n",
    "            group_elems.append(new_elem)\n",
    "            #group_elems.append(np.linalg.inv(new_elem))\n",
    "            added = True\n",
    "    return added"
   ]
  },
  {
   "cell_type": "markdown",
   "id": "c3711dca-689a-4f5d-a54d-2cd97d3ff677",
   "metadata": {},
   "source": [
    "### Iterating steps 2 and 3"
   ]
  },
  {
   "cell_type": "markdown",
   "id": "55267f31-376f-4f86-bd7e-070270ed5678",
   "metadata": {},
   "source": [
    "This code determines the span of our gate set is infinite or finite. It does this by attempting to find an element that can be reached from our gate set that is in a ball of radius 1 that is not in the center of the group. Not if this check pases, but the previous check fails that the span of $S$ is infinite, but not all of $SU(6)$, meaning it is not universal.  "
   ]
  },
  {
   "cell_type": "code",
   "execution_count": 276,
   "id": "a637a770-e3bc-4ab0-a686-2fdd62399a85",
   "metadata": {},
   "outputs": [
    {
     "name": "stdout",
     "output_type": "stream",
     "text": [
      "l =  0\n",
      "l =  1\n",
      "l =  2\n",
      "[[-4.50321663e-01+8.90081179e-01j -8.52692884e-16+2.15803694e-15j\n",
      "   8.12323754e-03-3.27711649e-02j  6.75807791e-16+2.49423922e-15j\n",
      "   3.88000663e-02-4.81717091e-02j -1.69478272e-15+4.34877414e-15j]\n",
      " [ 1.31312083e-16+2.37477138e-15j -5.48316440e-01+8.29873665e-01j\n",
      "  -3.48768635e-16-2.23497603e-15j -1.99844411e-02+5.85370038e-02j\n",
      "  -2.81818483e-16+2.52931384e-15j  8.11803036e-02+1.55750341e-02j]\n",
      " [-1.88417449e-02+2.80165110e-02j -1.17116356e-15+1.87457839e-15j\n",
      "  -4.93780589e-01+8.64990156e-01j  3.58892707e-15-3.04943910e-15j\n",
      "   5.21762815e-02+6.41128616e-02j  1.75169535e-15+1.34847097e-15j]\n",
      " [-7.68270514e-16-1.88399615e-15j  3.88000663e-02-4.81717091e-02j\n",
      "   2.39961012e-15-4.27045625e-15j -4.50321663e-01+8.90081179e-01j\n",
      "   3.17183901e-16-2.61153434e-15j  8.12323754e-03-3.27711649e-02j]\n",
      " [-1.99844411e-02+5.85370038e-02j  1.07048808e-16-2.54908358e-15j\n",
      "   8.11803036e-02+1.55750341e-02j -5.87236248e-16-2.45587141e-15j\n",
      "  -5.48316440e-01+8.29873665e-01j  3.06608542e-16+2.63954769e-15j]\n",
      " [-3.05933861e-15+3.83563782e-15j  5.21762815e-02+6.41128616e-02j\n",
      "  -1.71449224e-15-1.25426782e-15j -1.88417449e-02+2.80165110e-02j\n",
      "   1.59563868e-15-2.25784126e-15j -4.93780589e-01+8.64990156e-01j]]\n",
      "Infinite [[ 0.40824829+0.00000000e+00j  0.38362791+1.39629139e-01j\n",
      "  -0.38362791+1.39629139e-01j -0.40824829+1.49987989e-16j\n",
      "  -0.38362791-1.39629139e-01j  0.38362791-1.39629139e-01j]\n",
      " [ 0.40824829+0.00000000e+00j  0.07089157+4.02046082e-01j\n",
      "   0.07089157-4.02046082e-01j  0.40824829-3.08624317e-16j\n",
      "   0.07089157+4.02046082e-01j  0.07089157-4.02046082e-01j]\n",
      " [ 0.40824829+0.00000000e+00j -0.31273633+2.62416943e-01j\n",
      "   0.31273633+2.62416943e-01j -0.40824829+4.89922978e-16j\n",
      "   0.31273633-2.62416943e-01j -0.31273633-2.62416943e-01j]\n",
      " [ 0.40824829+0.00000000e+00j -0.38362791-1.39629139e-01j\n",
      "  -0.38362791+1.39629139e-01j  0.40824829-6.93883971e-16j\n",
      "  -0.38362791-1.39629139e-01j -0.38362791+1.39629139e-01j]\n",
      " [ 0.40824829+0.00000000e+00j -0.07089157-4.02046082e-01j\n",
      "   0.07089157-4.02046082e-01j -0.40824829+8.75182632e-16j\n",
      "   0.07089157+4.02046082e-01j -0.07089157+4.02046082e-01j]\n",
      " [ 0.40824829+0.00000000e+00j  0.31273633-2.62416943e-01j\n",
      "   0.31273633+2.62416943e-01j  0.40824829-1.03381896e-15j\n",
      "   0.31273633-2.62416943e-01j  0.31273633+2.62416943e-01j]]\n"
     ]
    }
   ],
   "source": [
    "# using a much smaller value for N that is required to be thourough since i want this to actually run \n",
    "N_SU6 = 100  #36398100 # upper bound for N\n",
    "alphas = [np.exp(1j*2*np.pi/6*m) for m in range(6)]\n",
    "G_s = [np.matrix(np.eye(6))]\n",
    "flag = False\n",
    "for l in range(10):# check words up to length 10 starting at l = 0\n",
    "    new_gates = []\n",
    "    for gate in G_s:\n",
    "        flag = ball_check(gate,N_SU6,alphas)#,alphas)\n",
    "        if flag:\n",
    "            print('Infinite',gate) # if it is infinite also output the gate that is part of the ball and not the center\n",
    "            flag = True\n",
    "            break\n",
    "        for U in S:\n",
    "            new_gates.append(gate@U) # might be adding duplicate elements \n",
    "    if flag:\n",
    "        break\n",
    "    print('l = ',l)\n",
    "    add_unique(new_gates,G_s)\n"
   ]
  },
  {
   "cell_type": "markdown",
   "id": "fc6c6c89-aefc-4bda-85d3-2fe0a45a42e0",
   "metadata": {},
   "source": [
    "# Qubit Version of the Code"
   ]
  },
  {
   "cell_type": "code",
   "execution_count": 238,
   "id": "06cdbc29-6d46-421b-bb3f-99b92db9249b",
   "metadata": {},
   "outputs": [],
   "source": [
    "zero  = np.array([[1], [0]],dtype=complex)\n",
    "one   = np.array([[0], [1]],dtype=complex)"
   ]
  },
  {
   "cell_type": "code",
   "execution_count": 243,
   "id": "db99b42b-6716-4334-ad47-66dea806a18f",
   "metadata": {},
   "outputs": [],
   "source": [
    "S_gate = np.matrix(np.diag([1,1j]))\n",
    "T_gate = np.matrix(np.diag([1,np.exp(1j*np.pi/4)]))\n",
    "H = 1/math.sqrt(2)*np.matrix([[1,1],[1,-1]])\n",
    "S = [S_gate,H]"
   ]
  },
  {
   "cell_type": "code",
   "execution_count": 244,
   "id": "4761c105-fbaf-4d5f-a8d7-85d52956c4e1",
   "metadata": {},
   "outputs": [],
   "source": [
    "X = np.matrix([[0,1],[1,0]])\n",
    "Y = np.matrix([[0,-1j],[1j,0]])\n",
    "Z = np.matrix(np.diag([1,-1]))\n",
    "G = [X,Y,Z]"
   ]
  },
  {
   "cell_type": "code",
   "execution_count": 245,
   "id": "da5cf900-405d-4fdd-91fc-8d97aa4cdf98",
   "metadata": {},
   "outputs": [
    {
     "name": "stdout",
     "output_type": "stream",
     "text": [
      "The dimension of the kernal is 1\n"
     ]
    }
   ],
   "source": [
    "I = np.matrix(np.eye(len(G)))\n",
    "Ms = np.matrix(np.zeros((len(G)**2*len(S),len(G)**2),dtype=complex))\n",
    "for i,gate in enumerate(S):\n",
    "    Ms[i*len(G)**2:(i+1)*len(G)**2,:] = np.kron(I,Ad(gate,G)) - np.kron(Ad(np.conj(gate.T),G),I)\n",
    "# finding the kernal of MS\n",
    "#Ms = np.matrix(Ms)\n",
    "dim_ker = len(G)**2 - np.linalg.matrix_rank(Ms)\n",
    "#ker = np.conj(Ms.T) @ Ms\n",
    "print('The dimension of the kernal is', dim_ker)"
   ]
  },
  {
   "cell_type": "code",
   "execution_count": 246,
   "id": "04aa18ee-0d01-47eb-9598-f73900eb52f8",
   "metadata": {},
   "outputs": [
    {
     "name": "stdout",
     "output_type": "stream",
     "text": [
      "l =  0\n",
      "l =  1\n",
      "l =  2\n",
      "l =  3\n",
      "l =  4\n",
      "l =  5\n",
      "l =  6\n",
      "24\n"
     ]
    }
   ],
   "source": [
    "# using a much smaller value for N that is required to be thourough since i want this to actually run \n",
    "N_SU2 = 6  #36398100 # upper bound for N\n",
    "alphas = [np.exp(1j*2*np.pi/2*m) for m in range(6)]\n",
    "G_s = [np.matrix(np.eye(2))]\n",
    "flag = False\n",
    "for l in range(10):# check words up to length 10 starting at l = 0\n",
    "    new_gates = []\n",
    "    for gate in G_s:\n",
    "        if ball_check(gate,N_SU2,alphas):\n",
    "            print('Infinite',gate) # if it is infinite also output the gate that is part of the ball and not the center\n",
    "            flag = True\n",
    "            break\n",
    "        for U in S:\n",
    "            new_gates.append(gate@U) # might be adding duplicate elements \n",
    "    if flag:\n",
    "        break\n",
    "    print('l = ',l)\n",
    "    if not(add_unique(new_gates,G_s)):\n",
    "        break\n",
    "print(len(G_s))\n"
   ]
  },
  {
   "cell_type": "code",
   "execution_count": 267,
   "id": "b6f5fa47-6401-4a38-8ae3-cf3f747537ed",
   "metadata": {},
   "outputs": [
    {
     "data": {
      "text/plain": [
       "5.988293145092761"
      ]
     },
     "execution_count": 267,
     "metadata": {},
     "output_type": "execute_result"
    }
   ],
   "source": [
    "Fin = np.array([[-9.97007309e-01+0.02641582j,2.43731172e-02+0.01061616j\n",
    ",-7.46248606e-04-0.00543934j,-2.39415319e-03-0.06163691j\n",
    ",4.33747839e-03-0.00336594j,-2.13804258e-02+0.01579966j]\n",
    ",[-2.13804258e-02+0.01579966j,-9.97007309e-01+0.02641582j\n",
    ",4.33747839e-03-0.00336594j,5.21820569e-02-0.03289185j\n",
    ",5.08372700e-03+0.0020734j,-2.43731172e-02-0.01061616j]\n",
    ",[ 4.33747839e-03-0.00336594j,-7.46248606e-04-0.00543934j\n",
    ",-9.95810232e-01-0.04402637j,3.57376478e-02-0.05567923j\n",
    ",4.02228365e-02-0.01838474j,5.08372700e-03+0.0020734j,]\n",
    ",[-2.39415319e-03-0.06163691j,-5.45762101e-02-0.02874506j\n",
    ",-3.03508032e-02-0.05878933j,-9.89824849e-01+0.00880527j\n",
    ",3.57376478e-02-0.05567923j,5.21820569e-02-0.03289185j]\n",
    ",[-7.46248606e-04-0.00543934j,-5.08372700e-03-0.0020734j\n",
    ",-3.60330685e-02-0.02564163j,-3.03508032e-02-0.05878933j\n",
    ",-9.95810232e-01-0.04402637j,4.33747839e-03-0.00336594j]\n",
    ",[ 2.43731172e-02+0.01061616j,2.13804258e-02-0.01579966j\n",
    ",-5.08372700e-03-0.0020734j,-5.45762101e-02-0.02874506j\n",
    ",-7.46248606e-04-0.00543934j,-9.97007309e-01+0.02641582j]])\n",
    "\n",
    "\n",
    "\n",
    "np.trace(Fin)\n",
    "Fin= Fin/Fin[0,0]\n",
    "Fin\n",
    "np.round(Fin,1)\n",
    "np.abs(np.trace(Fin))"
   ]
  },
  {
   "cell_type": "code",
   "execution_count": 219,
   "id": "0b5e9300-1831-4986-b037-e8b1c69644fa",
   "metadata": {},
   "outputs": [
    {
     "name": "stdout",
     "output_type": "stream",
     "text": [
      "False\n"
     ]
    }
   ],
   "source": [
    "print(ball_check_eigs(T_gate,1000))"
   ]
  },
  {
   "cell_type": "code",
   "execution_count": null,
   "id": "38618d57-3ccf-4ea7-a0c0-5f35a2ba49a6",
   "metadata": {},
   "outputs": [],
   "source": []
  },
  {
   "cell_type": "code",
   "execution_count": null,
   "id": "e1cbf9c7-403f-4eb4-acf1-c1683566d32f",
   "metadata": {},
   "outputs": [],
   "source": []
  },
  {
   "cell_type": "code",
   "execution_count": null,
   "id": "b80f8f9b-12f8-4864-8840-d7ed8377763a",
   "metadata": {},
   "outputs": [],
   "source": []
  },
  {
   "cell_type": "code",
   "execution_count": null,
   "id": "77be5b4b-d8db-43c9-beca-c4580dd55d99",
   "metadata": {},
   "outputs": [],
   "source": []
  }
 ],
 "metadata": {
  "kernelspec": {
   "display_name": "Python 3 (ipykernel)",
   "language": "python",
   "name": "python3"
  },
  "language_info": {
   "codemirror_mode": {
    "name": "ipython",
    "version": 3
   },
   "file_extension": ".py",
   "mimetype": "text/x-python",
   "name": "python",
   "nbconvert_exporter": "python",
   "pygments_lexer": "ipython3",
   "version": "3.9.7"
  }
 },
 "nbformat": 4,
 "nbformat_minor": 5
}
